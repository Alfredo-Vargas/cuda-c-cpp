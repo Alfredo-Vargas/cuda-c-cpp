get_ipython().getoutput("nvcc -arch=sm_61 -o ../src/session2/bin/single-thread-vector-add ../src/session2/01-vector-add.cu -run")


get_ipython().getoutput("nsys profile --stats=true ../src/session2/bin/single-thread-vector-add")


get_ipython().getoutput("nvcc -arch=sm_61 -o ../src/session2/bin/multi-thread-vector-add ../src/session2/01-vector-add.cu -run")


get_ipython().getoutput("nsys profile --stats=true ../src/session2/bin/multi-thread-vector-add")


get_ipython().getoutput("nvcc -o ../src/session2/bin/iteratively-optimized-vector-add ../src/session2/01-vector-add.cu -run")


get_ipython().getoutput("nsys profile --stats=true ../src/session2/bin/iteratively-optimized-vector-add")


get_ipython().run_cell_magic("HTML", "", """
<div align="center"><iframe src="https://view.officeapps.live.com/op/view.aspx?src=https://developer.download.nvidia.com/training/courses/C-AC-01-V1/embedded/task2/NVPROF_UM_1.pptx" width="800px" height="500px" frameborder="0"></iframe></div>""")


get_ipython().getoutput("nvcc -arch=sm_61 -o ../src/session2/bin/get-device-properties ../src/session2/01-get-device-properties.cu -run")


get_ipython().getoutput("nvcc -o ../src/session2/bin/sm-optimized-vector-add ../src/session2/01-vector-add.cu -run")


get_ipython().getoutput("nsys profile --stats=true ../src/session2/bin/sm-optimized-vector-add")


get_ipython().run_cell_magic("HTML", "", """
<div align="center"><iframe src="https://view.officeapps.live.com/op/view.aspx?src=https://developer.download.nvidia.com/training/courses/C-AC-01-V1/embedded/task2/NVPROF_UM_2.pptx" width="800px" height="500px" frameborder="0"></iframe></div>""")


get_ipython().getoutput("nvcc -arch=sm_61 -o ../src/session2/bin/page-faults ../src/session2/01-page-faults.cu -run")


get_ipython().getoutput("nsys profile --stats=true ../src/session2/bin/page-faults")


get_ipython().getoutput("nsys profile --stats=true ../src/session2/bin/sm-optimized-vector-add")


get_ipython().getoutput("nvcc -o ../src/session2/bin/initialize-in-kernel ../src/session2/01-vector-add-kernel-init.cu -run")


get_ipython().getoutput("nsys profile --stats=true ../src/session2/bin/initialize-in-kernel")


get_ipython().getoutput("nvcc -o ../src/session2/bin/prefetch-to-gpu ../src/session2/01-vector-add-prefetch.cu -run")


get_ipython().getoutput("nsys profile --stats=true ../src/session2/bin/prefetch-to-gpu")


get_ipython().getoutput("nvcc -o ../src/session2/bin/prefetch-to-cpu ../src/session2/01-vector-add-prefetch-back-to-cpu.cu -run")


get_ipython().getoutput("nsys profile --stats=true ../src/session2/bin/prefetch-to-cpu")


get_ipython().getoutput("nvcc -o ../src/session2/bin/saxpy ../src/session2/saxpy_application.cu -run")


get_ipython().getoutput("nsys profile --stats=true ../src/session2/bin/saxpy")



