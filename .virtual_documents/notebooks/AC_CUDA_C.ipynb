get_ipython().getoutput("nvidia-smi")


get_ipython().run_cell_magic("HTML", "", """
<div align="center"><iframe src="https://view.officeapps.live.com/op/view.aspx?src=https://developer.download.nvidia.com/training/courses/C-AC-01-V1/embedded/task1/AC_CUDA_C_1.pptx" width="800px" height="500px" frameborder="0"></iframe></div>""")


get_ipython().getoutput("nvcc -arch=sm_61 -o hello-gpu ../src/01-hello-gpu.cu -run")


get_ipython().run_cell_magic("HTML", "", """
<div align="center"><iframe src="https://view.officeapps.live.com/op/view.aspx?src=https://developer.download.nvidia.com/training/courses/C-AC-01-V1/embedded/task1/AC_CUDA_C_2.pptx" width="800px" height="500px" frameborder="0"></iframe></div>""")


get_ipython().getoutput("nvcc -arch=sm_61 -o first-parallel ../src/01-first-parallel.cu -run")


get_ipython().run_cell_magic("HTML", "", """
<div align="center"><iframe src="https://view.officeapps.live.com/op/view.aspx?src=https://developer.download.nvidia.com/training/courses/C-AC-01-V1/embedded/task1/AC_CUDA_C_3.pptx" width="800px" height="500px" frameborder="0"></iframe></div>""")


get_ipython().getoutput("nvcc -arch=sm_61 -o thread-and-block-idx ../src/01-thread-and-block-idx.cu -run")


get_ipython().getoutput("nvcc -arch=sm_61 -o single-block-loop ../src/01-single-block-loop.cu -run")


get_ipython().run_cell_magic("HTML", "", """
<div align="center"><iframe src="https://view.officeapps.live.com/op/view.aspx?src=https://developer.download.nvidia.com/training/courses/C-AC-01-V1/embedded/task1/AC_CUDA_C_4.pptx" width="800px" height="500px" frameborder="0"></iframe></div>""")


get_ipython().getoutput("nvcc -arch=sm_61 -o multi-block-loop ../src/02-multi-block-loop.cu -run")


get_ipython().getoutput("nvcc -arch=sm_61 -o double-elements ../src/01-double-elements.cu -run")


get_ipython().run_cell_magic("HTML", "", """
<div align="center"><iframe src="https://view.officeapps.live.com/op/view.aspx?src=https://developer.download.nvidia.com/training/courses/C-AC-01-V1/embedded/task1/AC_CUDA_C_5.pptx" width="800px" height="500px" frameborder="0"></iframe></div>""")


get_ipython().getoutput("nvcc -arch=sm_61 -o mismatched-config-loop ../src/02-mismatched-config-loop.cu -run")


get_ipython().run_cell_magic("HTML", "", """
<div align="center"><iframe src="https://view.officeapps.live.com/op/view.aspx?src=https://developer.download.nvidia.com/training/courses/C-AC-01-V1/embedded/task1/AC_CUDA_C_6.pptx" width="800px" height="500px" frameborder="0"></iframe></div>""")


get_ipython().getoutput("nvcc -arch=sm_61 -o grid-stride-double ../src/03-grid-stride-double.cu -run")


get_ipython().getoutput("nvcc -arch=sm_61 -o add-error-handling ../src/01-add-error-handling.cu -run")


get_ipython().getoutput("nvcc -arch=sm_61 -o vector-add ../src/01-vector-add.cu -run")


get_ipython().getoutput("nvcc -arch=sm_61 -o ../src/bin/matrix-multiply-2d ../src/01-matrix-multiply-2d.cu -run")


get_ipython().getoutput("nvcc -arch=sm_61 -o heat-conduction 09-heat/01-heat-conduction.cu -run")
