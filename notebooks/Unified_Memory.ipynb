{
 "cells": [
  {
   "cell_type": "markdown",
   "metadata": {},
   "source": [
    "<h1><div align=\"center\">Managing Accelerated Application Memory with CUDA C/C++ Unified Memory</div></h1>"
   ]
  },
  {
   "cell_type": "markdown",
   "metadata": {},
   "source": [
    "![CUDA](./images/CUDA_Logo.jpg)"
   ]
  },
  {
   "cell_type": "markdown",
   "metadata": {},
   "source": [
    "The [*CUDA Best Practices Guide*](http://docs.nvidia.com/cuda/cuda-c-best-practices-guide/index.html#memory-optimizations), a highly recommended followup to this and other CUDA fundamentals labs, recommends a design cycle called **APOD**: **A**ssess, **P**arallelize, **O**ptimize, **D**eploy. In short, APOD prescribes an iterative design process, where developers can apply incremental improvements to their accelerated application's performance, and ship their code. As developers become more competent CUDA programmers, more advanced optimization techniques can be applied to their accelerated code bases.\n",
    "\n",
    "This lab will support such a style of iterative development. You will be using the Nsight Systems command line tool **nsys** to qualitatively measure your application's performance, and to identify opportunities for optimization, after which you will apply incremental improvements before learning new techniques and repeating the cycle. As a point of focus, many of the techniques you will be learning and applying in this lab will deal with the specifics of how CUDA's **Unified Memory** works. Understanding Unified Memory behavior is a fundamental skill for CUDA developers, and serves as a prerequisite to many more advanced memory management techniques."
   ]
  },
  {
   "cell_type": "markdown",
   "metadata": {},
   "source": [
    "---\n",
    "## Prerequisites\n",
    "\n",
    "To get the most out of this lab you should already be able to:\n",
    "\n",
    "- Write, compile, and run C/C++ programs that both call CPU functions and launch GPU kernels.\n",
    "- Control parallel thread hierarchy using execution configuration.\n",
    "- Refactor serial loops to execute their iterations in parallel on a GPU.\n",
    "- Allocate and free Unified Memory."
   ]
  },
  {
   "cell_type": "markdown",
   "metadata": {},
   "source": [
    "---\n",
    "## Objectives\n",
    "\n",
    "By the time you complete this lab, you will be able to:\n",
    "\n",
    "- Use the Nsight Systems command line tool (**nsys**) to profile accelerated application performance.\n",
    "- Leverage an understanding of **Streaming Multiprocessors** to optimize execution configurations.\n",
    "- Understand the behavior of **Unified Memory** with regard to page faulting and data migrations.\n",
    "- Use **asynchronous memory prefetching** to reduce page faults and data migrations for increased performance.\n",
    "- Employ an iterative development cycle to rapidly accelerate and deploy applications."
   ]
  },
  {
   "cell_type": "markdown",
   "metadata": {},
   "source": [
    "---\n",
    "## Iterative Optimizations with the NVIDIA Command Line Profiler\n",
    "\n",
    "The only way to be assured that attempts at optimizing accelerated code bases are actually successful is to profile the application for quantitative information about the application's performance. `nsys` is the Nsight Systems command line tool. It ships with the CUDA toolkit, and is a powerful tool for profiling accelerated applications.\n",
    "\n",
    "`nsys` is easy to use. Its most basic usage is to simply pass it the path to an executable compiled with `nvcc`. `nsys` will proceed to execute the application, after which it will print a summary output of the application's GPU activities, CUDA API calls, as well as information about **Unified Memory** activity, a topic which will be covered extensively later in this lab.\n",
    "\n",
    "When accelerating applications, or optimizing already-accelerated applications, take a scientific and iterative approach. Profile your application after making changes, take note, and record the implications of any refactoring on performance. Make these observations early and often: frequently, enough performance boost can be gained with little effort such that you can ship your accelerated application. Additionally, frequent profiling will teach you how specific changes to your CUDA code bases impact its actual performance: knowledge that is hard to acquire when only profiling after many kinds of changes in your code bases."
   ]
  },
  {
   "cell_type": "markdown",
   "metadata": {},
   "source": [
    "### Exercise: Profile an Application with nsys\n",
    "\n",
    "[01-vector-add.cu](../edit/01-vector-add/01-vector-add.cu) (<------ you can click on this and any of the source file links in this lab to open them for editing) is a naively accelerated vector addition program. Use the two code execution cells below (`CTRL` + `ENTER`). The first code execution cell will compile (and run) the vector addition program. The second code execution cell will profile the executable that was just compiled using `nsys profile`.\n",
    "\n",
    "`nsys profile` will generate a `qdrep` report file which can be used in a variety of manners. We use the `--stats=true` flag here to indicate we would like summary statistics printed. There is quite a lot of information printed:\n",
    "\n",
    "- Profile configuration details\n",
    "- Report file(s) generation details\n",
    "- **CUDA API Statistics**\n",
    "- **CUDA Kernel Statistics**\n",
    "- **CUDA Memory Operation Statistics (time and size)**\n",
    "- OS Runtime API Statistics\n",
    "\n",
    "In this lab you will primarily be using the 3 sections in **bold** above. In the next lab, you will be using the generated report files to give to the Nsight Systems GUI for visual profiling."
   ]
  },
  {
   "cell_type": "markdown",
   "metadata": {},
   "source": [
    "After profiling the application, answer the following questions using information displayed in the `CUDA Kernel Statistics` section of the profiling output:\n",
    "\n",
    "- What was the name of the only CUDA kernel called in this application?\n",
    "- How many times did this kernel run?\n",
    "- How long did it take this kernel to run? Record this time somewhere: you will be optimizing this application and will want to know how much faster you can make it."
   ]
  },
  {
   "cell_type": "code",
   "execution_count": 16,
   "metadata": {},
   "outputs": [
    {
     "name": "stdout",
     "output_type": "stream",
     "text": [
      "Success! All values calculated correctly.\n"
     ]
    }
   ],
   "source": [
    "!nvcc -arch=sm_61 -o ../src/session2/bin/single-thread-vector-add ../src/session2/01-vector-add.cu -run"
   ]
  },
  {
   "cell_type": "code",
   "execution_count": 17,
   "metadata": {},
   "outputs": [
    {
     "name": "stdout",
     "output_type": "stream",
     "text": [
      "Success! All values calculated correctly.\n",
      "Generating '/tmp/nsys-report-a4d6.qdstrm'\n",
      "[1/8] [========================100%] report7.nsys-rep\n",
      "[2/8] [========================100%] report7.sqlite\n",
      "[3/8] Executing 'nvtxsum' stats report\n",
      "SKIPPED: /home/alfredo/projects/cuda-c-cpp/notebooks/report7.sqlite does not contain NV Tools Extension (NVTX) data.\n",
      "[4/8] Executing 'osrtsum' stats report\n",
      "\n",
      "Operating System Runtime API Statistics:\n",
      "\n",
      " Time (%)  Total Time (ns)  Num Calls    Avg (ns)       Med (ns)      Min (ns)     Max (ns)     StdDev (ns)            Name         \n",
      " --------  ---------------  ---------  -------------  -------------  -----------  -----------  -------------  ----------------------\n",
      "     38.8      880,636,476         53   16,615,782.6   10,070,854.0       39,963  100,136,574   24,981,263.1  poll                  \n",
      "     30.9      700,754,595          3  233,584,865.0   90,649,152.0    2,919,937  607,185,506  326,507,554.3  sem_wait              \n",
      "     22.0      500,086,083          1  500,086,083.0  500,086,083.0  500,086,083  500,086,083            0.0  pthread_cond_timedwait\n",
      "      5.1      114,562,338         47    2,437,496.6    2,057,085.0       20,545   20,530,733    3,791,490.4  sem_timedwait         \n",
      "      2.5       55,637,660        500      111,275.3        6,790.5        1,027   19,464,997    1,125,459.8  ioctl                 \n",
      "      0.6       13,704,852         24      571,035.5        5,921.0        1,171    5,363,158    1,539,639.5  mmap                  \n",
      "      0.1        1,437,125         42       34,217.3        5,895.5        3,169      596,192      109,124.7  mmap64                \n",
      "      0.0          646,151          5      129,230.2      176,738.0       30,185      195,087       80,948.1  pthread_create        \n",
      "      0.0          494,611         59        8,383.2        6,986.0        2,634       63,271        7,770.5  open64                \n",
      "      0.0          108,951         41        2,657.3        2,504.0        1,066        7,189        1,172.8  fopen                 \n",
      "      0.0           69,149          6       11,524.8        6,631.5        3,387       38,508       13,466.1  fgets                 \n",
      "      0.0           48,871         10        4,887.1        2,748.0        1,330       22,929        6,459.8  munmap                \n",
      "      0.0           28,430         10        2,843.0        2,854.0        1,564        4,734        1,083.6  write                 \n",
      "      0.0           27,934         21        1,330.2        1,287.0        1,026        1,851          214.4  fclose                \n",
      "      0.0           20,361          5        4,072.2        3,256.0        2,105        6,229        1,904.4  open                  \n",
      "      0.0           18,135         13        1,395.0        1,234.0        1,067        2,399          401.7  read                  \n",
      "      0.0           13,056          5        2,611.2        1,622.0        1,534        6,448        2,149.7  fread                 \n",
      "      0.0            9,961          2        4,980.5        4,980.5        2,838        7,123        3,030.0  socket                \n",
      "      0.0            9,133          1        9,133.0        9,133.0        9,133        9,133            0.0  connect               \n",
      "      0.0            7,559          1        7,559.0        7,559.0        7,559        7,559            0.0  pipe2                 \n",
      "      0.0            3,127          1        3,127.0        3,127.0        3,127        3,127            0.0  fopen64               \n",
      "      0.0            1,368          1        1,368.0        1,368.0        1,368        1,368            0.0  bind                  \n",
      "      0.0            1,084          1        1,084.0        1,084.0        1,084        1,084            0.0  fcntl                 \n",
      "\n",
      "[5/8] Executing 'cudaapisum' stats report\n",
      "\n",
      "CUDA API Statistics:\n",
      "\n",
      " Time (%)  Total Time (ns)  Num Calls    Avg (ns)      Med (ns)     Min (ns)    Max (ns)    StdDev (ns)            Name         \n",
      " --------  ---------------  ---------  ------------  ------------  ----------  -----------  ------------  ----------------------\n",
      "     49.7      111,127,393          3  37,042,464.3      29,654.0      13,124  111,084,615  64,122,384.0  cudaMallocManaged     \n",
      "     44.1       98,525,024          1  98,525,024.0  98,525,024.0  98,525,024   98,525,024           0.0  cudaDeviceSynchronize \n",
      "      6.1       13,677,240          3   4,559,080.0   4,157,968.0   4,133,863    5,385,409     715,723.4  cudaFree              \n",
      "      0.0           44,654          1      44,654.0      44,654.0      44,654       44,654           0.0  cudaLaunchKernel      \n",
      "      0.0              670          1         670.0         670.0         670          670           0.0  cuModuleGetLoadingMode\n",
      "\n",
      "[6/8] Executing 'gpukernsum' stats report\n",
      "\n",
      "CUDA Kernel Statistics:\n",
      "\n",
      " Time (%)  Total Time (ns)  Instances    Avg (ns)      Med (ns)     Min (ns)    Max (ns)   StdDev (ns)                       Name                     \n",
      " --------  ---------------  ---------  ------------  ------------  ----------  ----------  -----------  ----------------------------------------------\n",
      "    100.0       98,480,722          1  98,480,722.0  98,480,722.0  98,480,722  98,480,722          0.0  addVectorsInto(float *, float *, float *, int)\n",
      "\n",
      "[7/8] Executing 'gpumemtimesum' stats report\n",
      "\n",
      "CUDA Memory Operation Statistics (by time):\n",
      "\n",
      " Time (%)  Total Time (ns)  Count  Avg (ns)  Med (ns)  Min (ns)  Max (ns)  StdDev (ns)              Operation            \n",
      " --------  ---------------  -----  --------  --------  --------  --------  -----------  ---------------------------------\n",
      "     76.0       65,483,572  5,422  12,077.4   2,175.0     1,087   161,604     31,100.0  [CUDA Unified Memory memcpy HtoD]\n",
      "     24.0       20,635,663    768  26,869.4   5,327.5       862   160,067     45,785.5  [CUDA Unified Memory memcpy DtoH]\n",
      "\n",
      "[8/8] Executing 'gpumemsizesum' stats report\n",
      "\n",
      "CUDA Memory Operation Statistics (by size):\n",
      "\n",
      " Total (MB)  Count  Avg (MB)  Med (MB)  Min (MB)  Max (MB)  StdDev (MB)              Operation            \n",
      " ----------  -----  --------  --------  --------  --------  -----------  ---------------------------------\n",
      "    402.653  5,422     0.074     0.008     0.004     1.040        0.201  [CUDA Unified Memory memcpy HtoD]\n",
      "    134.218    768     0.175     0.033     0.004     1.044        0.301  [CUDA Unified Memory memcpy DtoH]\n",
      "\n",
      "Generated:\n",
      "    /home/alfredo/projects/cuda-c-cpp/notebooks/report7.nsys-rep\n",
      "    /home/alfredo/projects/cuda-c-cpp/notebooks/report7.sqlite\n"
     ]
    }
   ],
   "source": [
    "!nsys profile --stats=true ../src/session2/bin/single-thread-vector-add"
   ]
  },
  {
   "cell_type": "markdown",
   "metadata": {},
   "source": [
    "Worth mentioning is that by default, `nsys profile` will not overwrite an existing report file. This is done to prevent accidental loss of work when profiling. If for any reason, you would rather overwrite an existing report file, say during rapid iterations, you can provide the `-f` flag to `nsys profile` to allow overwriting an existing report file."
   ]
  },
  {
   "cell_type": "markdown",
   "metadata": {},
   "source": [
    "### Exercise: Optimize and Profile\n",
    "\n",
    "Take a minute or two to make a simple optimization to [01-vector-add.cu](../edit/01-vector-add/01-vector-add.cu) by updating its execution configuration so that it runs on many threads in a single thread block. Recompile and then profile with `nsys profile --stats=true` using the code execution cells below. Use the profiling output to check the runtime of the kernel. What was the speed up from this optimization? Be sure to record your results somewhere."
   ]
  },
  {
   "cell_type": "code",
   "execution_count": 18,
   "metadata": {},
   "outputs": [
    {
     "name": "stdout",
     "output_type": "stream",
     "text": [
      "Success! All values calculated correctly.\n"
     ]
    }
   ],
   "source": [
    "!nvcc -arch=sm_61 -o ../src/session2/bin/multi-thread-vector-add ../src/session2/01-vector-add.cu -run"
   ]
  },
  {
   "cell_type": "code",
   "execution_count": 19,
   "metadata": {},
   "outputs": [
    {
     "name": "stdout",
     "output_type": "stream",
     "text": [
      "Success! All values calculated correctly.\n",
      "Generating '/tmp/nsys-report-09d1.qdstrm'\n",
      "[1/8] [========================100%] report7.nsys-rep\n",
      "[2/8] [========================100%] report7.sqlite\n",
      "[3/8] Executing 'nvtxsum' stats report\n",
      "SKIPPED: /home/alfredo/projects/cuda-c-cpp/notebooks/report7.sqlite does not contain NV Tools Extension (NVTX) data.\n",
      "[4/8] Executing 'osrtsum' stats report\n",
      "\n",
      "Operating System Runtime API Statistics:\n",
      "\n",
      " Time (%)  Total Time (ns)  Num Calls    Avg (ns)       Med (ns)      Min (ns)     Max (ns)     StdDev (ns)            Name         \n",
      " --------  ---------------  ---------  -------------  -------------  -----------  -----------  -------------  ----------------------\n",
      "     38.4      886,454,656         55   16,117,357.4   10,072,606.0        1,898  100,137,314   24,724,915.1  poll                  \n",
      "     31.8      734,950,965          3  244,983,655.0  102,534,039.0    2,139,292  630,277,634  337,429,050.3  sem_wait              \n",
      "     21.9      505,613,888          1  505,613,888.0  505,613,888.0  505,613,888  505,613,888            0.0  pthread_cond_timedwait\n",
      "      4.9      114,061,017         48    2,376,271.2    2,062,683.0       12,218   20,765,909    3,516,592.6  sem_timedwait         \n",
      "      2.3       52,598,185        505      104,154.8        7,366.0        1,027   17,779,887      986,568.1  ioctl                 \n",
      "      0.6       14,509,773         24      604,573.9        7,931.0        1,190    5,639,203    1,625,574.2  mmap                  \n",
      "      0.1        1,588,539         42       37,822.4        5,899.5        3,234      606,411      117,369.0  mmap64                \n",
      "      0.0          666,211          5      133,242.2      169,973.0       48,785      193,038       66,123.9  pthread_create        \n",
      "      0.0          471,870         59        7,997.8        7,556.0        2,971       24,680        2,937.8  open64                \n",
      "      0.0          113,379         41        2,765.3        2,438.0        1,128        6,957        1,285.7  fopen                 \n",
      "      0.0           69,933         10        6,993.3        3,935.5        1,793       24,509        7,180.7  munmap                \n",
      "      0.0           67,971          6       11,328.5        6,525.5        3,366       37,939       13,305.5  fgets                 \n",
      "      0.0           34,580         10        3,458.0        3,153.0        1,559        7,240        1,786.2  write                 \n",
      "      0.0           30,441         23        1,323.5        1,258.0        1,030        1,816          237.9  fclose                \n",
      "      0.0           20,155          5        4,031.0        3,278.0        2,213        6,243        1,855.3  open                  \n",
      "      0.0           17,843         11        1,622.1        1,407.0        1,089        2,486          450.2  read                  \n",
      "      0.0           13,892          5        2,778.4        1,695.0        1,449        6,996        2,371.7  fread                 \n",
      "      0.0           10,478          1       10,478.0       10,478.0       10,478       10,478            0.0  connect               \n",
      "      0.0            9,753          2        4,876.5        4,876.5        2,985        6,768        2,675.0  socket                \n",
      "      0.0            9,190          1        9,190.0        9,190.0        9,190        9,190            0.0  pipe2                 \n",
      "      0.0            3,556          3        1,185.3        1,193.0        1,127        1,236           54.9  fcntl                 \n",
      "      0.0            2,783          1        2,783.0        2,783.0        2,783        2,783            0.0  fopen64               \n",
      "      0.0            1,646          1        1,646.0        1,646.0        1,646        1,646            0.0  bind                  \n",
      "\n",
      "[5/8] Executing 'cudaapisum' stats report\n",
      "\n",
      "CUDA API Statistics:\n",
      "\n",
      " Time (%)  Total Time (ns)  Num Calls    Avg (ns)       Med (ns)      Min (ns)     Max (ns)    StdDev (ns)            Name         \n",
      " --------  ---------------  ---------  -------------  -------------  -----------  -----------  ------------  ----------------------\n",
      "     51.2      123,316,993          3   41,105,664.3       74,948.0       33,053  123,208,992  71,103,570.6  cudaMallocManaged     \n",
      "     42.8      103,156,396          1  103,156,396.0  103,156,396.0  103,156,396  103,156,396           0.0  cudaDeviceSynchronize \n",
      "      6.0       14,489,263          3    4,829,754.3    4,446,290.0    4,355,177    5,687,796     744,481.0  cudaFree              \n",
      "      0.0           41,011          1       41,011.0       41,011.0       41,011       41,011           0.0  cudaLaunchKernel      \n",
      "      0.0              629          1          629.0          629.0          629          629           0.0  cuModuleGetLoadingMode\n",
      "\n",
      "[6/8] Executing 'gpukernsum' stats report\n",
      "\n",
      "CUDA Kernel Statistics:\n",
      "\n",
      " Time (%)  Total Time (ns)  Instances    Avg (ns)       Med (ns)      Min (ns)     Max (ns)    StdDev (ns)                       Name                     \n",
      " --------  ---------------  ---------  -------------  -------------  -----------  -----------  -----------  ----------------------------------------------\n",
      "    100.0      103,103,219          1  103,103,219.0  103,103,219.0  103,103,219  103,103,219          0.0  addVectorsInto(float *, float *, float *, int)\n",
      "\n",
      "[7/8] Executing 'gpumemtimesum' stats report\n",
      "\n",
      "CUDA Memory Operation Statistics (by time):\n",
      "\n",
      " Time (%)  Total Time (ns)  Count  Avg (ns)  Med (ns)  Min (ns)  Max (ns)  StdDev (ns)              Operation            \n",
      " --------  ---------------  -----  --------  --------  --------  --------  -----------  ---------------------------------\n",
      "     76.0       65,444,683  5,139  12,734.9   2,399.0     1,118   161,636     31,875.5  [CUDA Unified Memory memcpy HtoD]\n",
      "     24.0       20,654,035    768  26,893.3   5,391.5       894   160,004     45,773.4  [CUDA Unified Memory memcpy DtoH]\n",
      "\n",
      "[8/8] Executing 'gpumemsizesum' stats report\n",
      "\n",
      "CUDA Memory Operation Statistics (by size):\n",
      "\n",
      " Total (MB)  Count  Avg (MB)  Med (MB)  Min (MB)  Max (MB)  StdDev (MB)              Operation            \n",
      " ----------  -----  --------  --------  --------  --------  -----------  ---------------------------------\n",
      "    402.653  5,139     0.078     0.012     0.004     1.040        0.206  [CUDA Unified Memory memcpy HtoD]\n",
      "    134.218    768     0.175     0.033     0.004     1.044        0.301  [CUDA Unified Memory memcpy DtoH]\n",
      "\n",
      "Generated:\n",
      "    /home/alfredo/projects/cuda-c-cpp/notebooks/report7.nsys-rep\n",
      "    /home/alfredo/projects/cuda-c-cpp/notebooks/report7.sqlite\n"
     ]
    }
   ],
   "source": [
    "!nsys profile --stats=true ../src/session2/bin/multi-thread-vector-add"
   ]
  },
  {
   "cell_type": "markdown",
   "metadata": {},
   "source": [
    "### Exercise: Optimize Iteratively\n",
    "\n",
    "In this exercise you will go through several cycles of editing the execution configuration of [01-vector-add.cu](../edit/01-vector-add/01-vector-add.cu), profiling it, and recording the results to see the impact. Use the following guidelines while working:\n",
    "\n",
    "- Start by listing 3 to 5 different ways you will update the execution configuration, being sure to cover a range of different grid and block size combinations.\n",
    "- Edit the [01-vector-add.cu](../edit/01-vector-add/01-vector-add.cu) program in one of the ways you listed.\n",
    "- Compile and profile your updated code with the two code execution cells below.\n",
    "- Record the runtime of the kernel execution, as given in the profiling output.\n",
    "- Repeat the edit/profile/record cycle for each possible optimization you listed above\n",
    "\n",
    "Which of the execution configurations you attempted proved to be the fastest?"
   ]
  },
  {
   "cell_type": "markdown",
   "metadata": {},
   "source": [
    "- The fastest was 800 threads per block! 800 / 32 = 25"
   ]
  },
  {
   "cell_type": "code",
   "execution_count": 21,
   "metadata": {},
   "outputs": [
    {
     "name": "stdout",
     "output_type": "stream",
     "text": [
      "Success! All values calculated correctly.\n"
     ]
    }
   ],
   "source": [
    "!nvcc -o ../src/session2/bin/iteratively-optimized-vector-add ../src/session2/01-vector-add.cu -run"
   ]
  },
  {
   "cell_type": "code",
   "execution_count": 22,
   "metadata": {},
   "outputs": [
    {
     "name": "stdout",
     "output_type": "stream",
     "text": [
      "Success! All values calculated correctly.\n",
      "Generating '/tmp/nsys-report-64ea.qdstrm'\n",
      "[1/8] [========================100%] report8.nsys-rep\n",
      "[2/8] [========================100%] report8.sqlite\n",
      "[3/8] Executing 'nvtxsum' stats report\n",
      "SKIPPED: /home/alfredo/projects/cuda-c-cpp/notebooks/report8.sqlite does not contain NV Tools Extension (NVTX) data.\n",
      "[4/8] Executing 'osrtsum' stats report\n",
      "\n",
      "Operating System Runtime API Statistics:\n",
      "\n",
      " Time (%)  Total Time (ns)  Num Calls    Avg (ns)       Med (ns)      Min (ns)     Max (ns)     StdDev (ns)            Name         \n",
      " --------  ---------------  ---------  -------------  -------------  -----------  -----------  -------------  ----------------------\n",
      "     38.8      890,250,949         54   16,486,128.7   10,070,276.5       37,936  100,120,560   24,741,127.6  poll                  \n",
      "     31.2      715,218,448          3  238,406,149.3   92,732,221.0    1,819,180  620,667,047  334,153,917.6  sem_wait              \n",
      "     21.8      500,063,402          1  500,063,402.0  500,063,402.0  500,063,402  500,063,402            0.0  pthread_cond_timedwait\n",
      "      4.9      112,020,695         47    2,383,419.0    2,061,197.0       28,150   20,604,830    3,553,864.8  sem_timedwait         \n",
      "      2.5       57,340,965        506      113,322.1        6,715.5        1,017   19,480,775    1,132,099.8  ioctl                 \n",
      "      0.6       13,936,746         24      580,697.8        5,338.0        1,163    5,560,464    1,570,691.6  mmap                  \n",
      "      0.1        1,431,227         42       34,076.8        5,758.0        3,177      600,352      108,849.9  mmap64                \n",
      "      0.0          504,463          5      100,892.6       52,770.0       28,345      201,916       87,645.8  pthread_create        \n",
      "      0.0          479,399         59        8,125.4        7,040.0        2,763       47,659        5,797.9  open64                \n",
      "      0.0          122,778         43        2,855.3        2,466.0        1,037        8,385        1,524.4  fopen                 \n",
      "      0.0           68,607          6       11,434.5        6,509.5        3,134       37,959       13,341.7  fgets                 \n",
      "      0.0           42,630         10        4,263.0        3,367.5        1,369       13,792        3,571.8  munmap                \n",
      "      0.0           31,689         23        1,377.8        1,291.0        1,048        2,512          323.2  fclose                \n",
      "      0.0           29,809         10        2,980.9        2,433.5        1,481        5,822        1,643.4  write                 \n",
      "      0.0           19,963          5        3,992.6        3,238.0        2,051        6,507        1,962.9  open                  \n",
      "      0.0           19,486         14        1,391.9        1,194.0        1,044        2,294          385.1  read                  \n",
      "      0.0           19,323          8        2,415.4        1,782.0        1,016        6,960        1,886.8  fread                 \n",
      "      0.0           11,220          1       11,220.0       11,220.0       11,220       11,220            0.0  connect               \n",
      "      0.0           10,392          2        5,196.0        5,196.0        2,647        7,745        3,604.8  socket                \n",
      "      0.0            7,305          1        7,305.0        7,305.0        7,305        7,305            0.0  pipe2                 \n",
      "      0.0            4,042          2        2,021.0        2,021.0        1,294        2,748        1,028.1  fcntl                 \n",
      "      0.0            2,787          1        2,787.0        2,787.0        2,787        2,787            0.0  fopen64               \n",
      "      0.0            1,381          1        1,381.0        1,381.0        1,381        1,381            0.0  bind                  \n",
      "\n",
      "[5/8] Executing 'cudaapisum' stats report\n",
      "\n",
      "CUDA API Statistics:\n",
      "\n",
      " Time (%)  Total Time (ns)  Num Calls    Avg (ns)       Med (ns)      Min (ns)     Max (ns)    StdDev (ns)            Name         \n",
      " --------  ---------------  ---------  -------------  -------------  -----------  -----------  ------------  ----------------------\n",
      "     47.5      113,274,985          3   37,758,328.3       27,907.0       13,194  113,233,884  65,363,749.0  cudaMallocManaged     \n",
      "     46.7      111,363,477          1  111,363,477.0  111,363,477.0  111,363,477  111,363,477           0.0  cudaDeviceSynchronize \n",
      "      5.9       13,972,031          3    4,657,343.7    4,205,047.0    4,150,358    5,616,626     831,212.8  cudaFree              \n",
      "      0.0           42,607          1       42,607.0       42,607.0       42,607       42,607           0.0  cudaLaunchKernel      \n",
      "      0.0              786          1          786.0          786.0          786          786           0.0  cuModuleGetLoadingMode\n",
      "\n",
      "[6/8] Executing 'gpukernsum' stats report\n",
      "\n",
      "CUDA Kernel Statistics:\n",
      "\n",
      " Time (%)  Total Time (ns)  Instances    Avg (ns)       Med (ns)      Min (ns)     Max (ns)    StdDev (ns)                       Name                     \n",
      " --------  ---------------  ---------  -------------  -------------  -----------  -----------  -----------  ----------------------------------------------\n",
      "    100.0      111,313,896          1  111,313,896.0  111,313,896.0  111,313,896  111,313,896          0.0  addVectorsInto(float *, float *, float *, int)\n",
      "\n",
      "[7/8] Executing 'gpumemtimesum' stats report\n",
      "\n",
      "CUDA Memory Operation Statistics (by time):\n",
      "\n",
      " Time (%)  Total Time (ns)  Count  Avg (ns)  Med (ns)  Min (ns)  Max (ns)  StdDev (ns)              Operation            \n",
      " --------  ---------------  -----  --------  --------  --------  --------  -----------  ---------------------------------\n",
      "     75.9       64,870,760  4,245  15,281.7   2,943.0     1,087   160,964     35,006.1  [CUDA Unified Memory memcpy HtoD]\n",
      "     24.1       20,639,536    768  26,874.4   5,359.5       862   159,971     45,783.4  [CUDA Unified Memory memcpy DtoH]\n",
      "\n",
      "[8/8] Executing 'gpumemsizesum' stats report\n",
      "\n",
      "CUDA Memory Operation Statistics (by size):\n",
      "\n",
      " Total (MB)  Count  Avg (MB)  Med (MB)  Min (MB)  Max (MB)  StdDev (MB)              Operation            \n",
      " ----------  -----  --------  --------  --------  --------  -----------  ---------------------------------\n",
      "    402.653  4,245     0.095     0.016     0.004     1.036        0.226  [CUDA Unified Memory memcpy HtoD]\n",
      "    134.218    768     0.175     0.033     0.004     1.044        0.301  [CUDA Unified Memory memcpy DtoH]\n",
      "\n",
      "Generated:\n",
      "    /home/alfredo/projects/cuda-c-cpp/notebooks/report8.nsys-rep\n",
      "    /home/alfredo/projects/cuda-c-cpp/notebooks/report8.sqlite\n"
     ]
    }
   ],
   "source": [
    "!nsys profile --stats=true ../src/session2/bin/iteratively-optimized-vector-add"
   ]
  },
  {
   "cell_type": "markdown",
   "metadata": {},
   "source": [
    "---\n",
    "## Streaming Multiprocessors and Querying the Device\n",
    "\n",
    "This section explores how understanding a specific feature of the GPU hardware can promote optimization. After introducing **Streaming Multiprocessors**, you will attempt to further optimize the accelerated vector addition program you have been working on.\n",
    "\n",
    "The following slides present upcoming material visually, at a high level. Click through the slides before moving on to more detailed coverage of their topics in following sections."
   ]
  },
  {
   "cell_type": "code",
   "execution_count": 24,
   "metadata": {},
   "outputs": [
    {
     "data": {
      "text/html": [
       "\n",
       "<div align=\"center\"><iframe src=\"https://view.officeapps.live.com/op/view.aspx?src=https://developer.download.nvidia.com/training/courses/C-AC-01-V1/embedded/task2/NVPROF_UM_1.pptx\" width=\"800px\" height=\"500px\" frameborder=\"0\"></iframe></div>\n"
      ],
      "text/plain": [
       "<IPython.core.display.HTML object>"
      ]
     },
     "metadata": {},
     "output_type": "display_data"
    }
   ],
   "source": [
    "%%HTML\n",
    "\n",
    "<div align=\"center\"><iframe src=\"https://view.officeapps.live.com/op/view.aspx?src=https://developer.download.nvidia.com/training/courses/C-AC-01-V1/embedded/task2/NVPROF_UM_1.pptx\" width=\"800px\" height=\"500px\" frameborder=\"0\"></iframe></div>"
   ]
  },
  {
   "cell_type": "markdown",
   "metadata": {},
   "source": [
    "### Streaming Multiprocessors and Warps\n",
    "\n",
    "The GPUs that CUDA applications run on have processing units called **streaming multiprocessors**, or **SMs**. During kernel execution, blocks of threads are given to SMs to execute. In order to support the GPU's ability to perform as many parallel operations as possible, performance gains can often be had by *choosing a grid size that has a number of blocks that is a multiple of the number of SMs on a given GPU.*\n",
    "\n",
    "Additionally, SMs create, manage, schedule, and execute groupings of 32 threads from within a block called **warps**. A more [in depth coverage of SMs and warps](http://docs.nvidia.com/cuda/cuda-c-programming-guide/index.html#hardware-implementation) is beyond the scope of this course, however, it is important to know that performance gains can also be had by *choosing a block size that has a number of threads that is a multiple of 32.*"
   ]
  },
  {
   "cell_type": "markdown",
   "metadata": {},
   "source": [
    "### Programmatically Querying GPU Device Properties\n",
    "\n",
    "In order to support portability, since the number of SMs on a GPU can differ depending on the specific GPU being used, the number of SMs should not be hard-coded into a code bases. Rather, this information should be acquired programatically.\n",
    "\n",
    "The following shows how, in CUDA C/C++, to obtain a C struct which contains many properties about the currently active GPU device, including its number of SMs:\n",
    "\n",
    "```cpp\n",
    "int deviceId;\n",
    "cudaGetDevice(&deviceId);                  // `deviceId` now points to the id of the currently active GPU.\n",
    "\n",
    "cudaDeviceProp props;\n",
    "cudaGetDeviceProperties(&props, deviceId); // `props` now has many useful properties about\n",
    "                                           // the active GPU device.\n",
    "```"
   ]
  },
  {
   "cell_type": "markdown",
   "metadata": {},
   "source": [
    "### Exercise: Query the Device\n",
    "\n",
    "Currently, [`01-get-device-properties.cu`](../edit/04-device-properties/01-get-device-properties.cu) contains many unassigned variables, and will print gibberish information intended to describe details about the currently active GPU.\n",
    "\n",
    "Build out [`01-get-device-properties.cu`](../edit/04-device-properties/01-get-device-properties.cu) to print the actual values for the desired device properties indicated in the source code. In order to support your work, and as an introduction to them, use the [CUDA Runtime Docs](http://docs.nvidia.com/cuda/cuda-runtime-api/structcudaDeviceProp.html) to help identify the relevant properties in the device props struct. Refer to [the solution](../edit/04-device-properties/solutions/01-get-device-properties-solution.cu) if you get stuck."
   ]
  },
  {
   "cell_type": "code",
   "execution_count": 26,
   "metadata": {},
   "outputs": [
    {
     "name": "stdout",
     "output_type": "stream",
     "text": [
      "Device ID: 0\n",
      "Number of SMs: 10\n",
      "Compute Capability Major: 6\n",
      "Compute Capability Minor: 1\n",
      "Warp Size: 32\n"
     ]
    }
   ],
   "source": [
    "!nvcc -arch=sm_61 -o ../src/session2/bin/get-device-properties ../src/session2/01-get-device-properties.cu -run"
   ]
  },
  {
   "cell_type": "markdown",
   "metadata": {},
   "source": [
    "### Exercise: Optimize Vector Add with Grids Sized to Number of SMs\n",
    "\n",
    "Utilize your ability to query the device for its number of SMs to refactor the `addVectorsInto` kernel you have been working on inside [01-vector-add.cu](../edit/01-vector-add/01-vector-add.cu) so that it launches with a grid containing a number of blocks that is a multiple of the number of SMs on the device.\n",
    "\n",
    "Depending on other specific details in the code you have written, this refactor may or may not improve, or significantly change, the performance of your kernel. Therefore, as always, be sure to use `nsys profile` so that you can quantitatively evaluate performance changes. Record the results with the rest of your findings thus far, based on the profiling output."
   ]
  },
  {
   "cell_type": "code",
   "execution_count": 29,
   "metadata": {},
   "outputs": [
    {
     "name": "stdout",
     "output_type": "stream",
     "text": [
      "------------------------------\n",
      "Vector length is: 33554432\n",
      "Number of threads per block is: 800\n",
      "Number of blocks is: 41950\n",
      "Success! All values calculated correctly.\n"
     ]
    }
   ],
   "source": [
    "!nvcc -o ../src/session2/bin/sm-optimized-vector-add ../src/session2/01-vector-add.cu -run"
   ]
  },
  {
   "cell_type": "code",
   "execution_count": null,
   "metadata": {},
   "outputs": [
    {
     "name": "stdout",
     "output_type": "stream",
     "text": [
      "------------------------------\n",
      "Vector length is: 33554432\n",
      "Number of threads per block is: 800\n",
      "Number of blocks is: 41950\n",
      "Success! All values calculated correctly.\n",
      "Generating '/tmp/nsys-report-5d36.qdstrm'\n",
      "[1/8] [========================100%] report1.nsys-rep\n",
      "[2/8] [========================100%] report1.sqlite\n",
      "[3/8] Executing 'nvtxsum' stats report\n",
      "SKIPPED: /home/alfredo/projects/cuda-c-cpp/notebooks/report1.sqlite does not contain NV Tools Extension (NVTX) data.\n",
      "[4/8] Executing 'osrtsum' stats report\n",
      "\n",
      "Operating System Runtime API Statistics:\n",
      "\n",
      " Time (%)  Total Time (ns)  Num Calls    Avg (ns)       Med (ns)      Min (ns)     Max (ns)     StdDev (ns)            Name         \n",
      " --------  ---------------  ---------  -------------  -------------  -----------  -----------  -------------  ----------------------\n",
      "     39.0      889,921,028         55   16,180,382.3   10,075,083.0        1,048  100,127,670   24,724,128.5  poll                  \n",
      "     30.9      704,414,464          3  234,804,821.3   87,168,675.0    1,799,165  615,446,624  332,397,540.2  sem_wait              \n",
      "     21.9      500,090,483          1  500,090,483.0  500,090,483.0  500,090,483  500,090,483            0.0  pthread_cond_timedwait\n",
      "      5.0      114,288,463         47    2,431,669.4    2,069,070.0       27,615   20,613,890    3,749,548.8  sem_timedwait         \n",
      "      2.3       52,810,826        512      103,146.1        6,546.5        1,034   19,737,682    1,087,999.7  ioctl                 \n",
      "      0.6       14,504,964         24      604,373.5        5,049.5        1,207    5,606,264    1,628,933.0  mmap                  \n",
      "      0.1        1,445,040         42       34,405.7        5,795.5        3,016      605,282      109,680.7  mmap64                \n",
      "      0.0          800,217          5      160,043.4      177,593.0       54,158      202,672       60,109.0  pthread_create        \n",
      "      0.0          438,865         59        7,438.4        7,275.0        2,652       16,205        2,480.0  open64                \n",
      "      0.0          130,964         44        2,976.5        2,487.5        1,037        8,176        1,507.1  fopen                 \n",
      "      0.0           69,013          6       11,502.2        6,724.5        3,135       38,563       13,523.7  fgets                 \n",
      "      0.0           38,497         28        1,374.9        1,324.5        1,002        2,442          313.3  fclose                \n",
      "      0.0           37,829         10        3,782.9        2,550.0        1,194       12,659        3,433.3  munmap                \n",
      "      0.0           28,750         10        2,875.0        2,790.5        1,475        5,491        1,363.3  write                 \n",
      "      0.0           21,988          5        4,397.6        3,231.0        2,448        6,872        2,026.3  open                  \n",
      "      0.0           20,446          7        2,920.9        2,320.0        1,653        7,990        2,270.1  fread                 \n",
      "      0.0           19,916         14        1,422.6        1,219.5        1,088        2,474          407.3  read                  \n",
      "      0.0           11,234          2        5,617.0        5,617.0        3,749        7,485        2,641.8  socket                \n",
      "      0.0           10,168          1       10,168.0       10,168.0       10,168       10,168            0.0  connect               \n",
      "      0.0            7,771          1        7,771.0        7,771.0        7,771        7,771            0.0  pipe2                 \n",
      "      0.0            3,970          2        1,985.0        1,985.0        1,256        2,714        1,031.0  fcntl                 \n",
      "      0.0            3,243          1        3,243.0        3,243.0        3,243        3,243            0.0  fopen64               \n",
      "      0.0            1,443          1        1,443.0        1,443.0        1,443        1,443            0.0  bind                  \n",
      "\n",
      "[5/8] Executing 'cudaapisum' stats report\n",
      "\n",
      "CUDA API Statistics:\n",
      "\n",
      " Time (%)  Total Time (ns)  Num Calls    Avg (ns)       Med (ns)      Min (ns)     Max (ns)    StdDev (ns)            Name         \n",
      " --------  ---------------  ---------  -------------  -------------  -----------  -----------  ------------  ----------------------\n",
      "     47.5      110,700,040          1  110,700,040.0  110,700,040.0  110,700,040  110,700,040           0.0  cudaDeviceSynchronize \n",
      "     46.2      107,708,788          3   35,902,929.3       27,336.0       12,554  107,668,898  62,151,152.4  cudaMallocManaged     \n",
      "      6.2       14,502,228          3    4,834,076.0    4,448,465.0    4,414,053    5,639,710     697,911.6  cudaFree              \n",
      "      0.0           37,617          1       37,617.0       37,617.0       37,617       37,617           0.0  cudaLaunchKernel      \n",
      "      0.0              723          1          723.0          723.0          723          723           0.0  cuModuleGetLoadingMode\n",
      "\n",
      "[6/8] Executing 'gpukernsum' stats report\n",
      "\n",
      "CUDA Kernel Statistics:\n",
      "\n",
      " Time (%)  Total Time (ns)  Instances    Avg (ns)       Med (ns)      Min (ns)     Max (ns)    StdDev (ns)                       Name                     \n",
      " --------  ---------------  ---------  -------------  -------------  -----------  -----------  -----------  ----------------------------------------------\n",
      "    100.0      110,650,082          1  110,650,082.0  110,650,082.0  110,650,082  110,650,082          0.0  addVectorsInto(float *, float *, float *, int)\n",
      "\n",
      "[7/8] Executing 'gpumemtimesum' stats report\n",
      "\n",
      "CUDA Memory Operation Statistics (by time):\n",
      "\n",
      " Time (%)  Total Time (ns)  Count  Avg (ns)  Med (ns)  Min (ns)  Max (ns)  StdDev (ns)              Operation            \n",
      " --------  ---------------  -----  --------  --------  --------  --------  -----------  ---------------------------------\n",
      "     75.9       64,915,407  4,162  15,597.2   2,975.0     1,118   160,388     35,318.2  [CUDA Unified Memory memcpy HtoD]\n",
      "     24.1       20,652,264    768  26,891.0   5,359.5       894   160,100     45,789.0  [CUDA Unified Memory memcpy DtoH]\n",
      "\n",
      "[8/8] Executing 'gpumemsizesum' stats report\n",
      "\n",
      "CUDA Memory Operation Statistics (by size):\n",
      "\n",
      " Total (MB)  Count  Avg (MB)  Med (MB)  Min (MB)  Max (MB)  StdDev (MB)              Operation            \n",
      " ----------  -----  --------  --------  --------  --------  -----------  ---------------------------------\n",
      "    402.653  4,162     0.097     0.016     0.004     1.028        0.228  [CUDA Unified Memory memcpy HtoD]\n",
      "    134.218    768     0.175     0.033     0.004     1.044        0.301  [CUDA Unified Memory memcpy DtoH]\n",
      "\n",
      "Generated:\n",
      "    /home/alfredo/projects/cuda-c-cpp/notebooks/report1.nsys-rep\n",
      "    /home/alfredo/projects/cuda-c-cpp/notebooks/report1.sqlite\n"
     ]
    }
   ],
   "source": [
    "!nsys profile --stats=true ../src/session2/bin/sm-optimized-vector-add"
   ]
  },
  {
   "cell_type": "markdown",
   "metadata": {},
   "source": [
    "---\n",
    "## Unified Memory Details\n",
    "\n",
    "You have been allocating memory intended for use either by host or device code with `cudaMallocManaged` and up until now have enjoyed the benefits of this method - automatic memory migration, ease of programming - without diving into the details of how the **Unified Memory** (**UM**) allocated by `cudaMallocManaged` actual works.\n",
    "\n",
    "`nsys profile` provides details about UM management in accelerated applications, and using this information, in conjunction with a more-detailed understanding of how UM works, provides additional opportunities to optimize accelerated applications.\n",
    "\n",
    "The following slides present upcoming material visually, at a high level. Click through the slides before moving on to more detailed coverage of their topics in following sections."
   ]
  },
  {
   "cell_type": "code",
   "execution_count": 27,
   "metadata": {},
   "outputs": [
    {
     "data": {
      "text/html": [
       "\n",
       "<div align=\"center\"><iframe src=\"https://view.officeapps.live.com/op/view.aspx?src=https://developer.download.nvidia.com/training/courses/C-AC-01-V1/embedded/task2/NVPROF_UM_2.pptx\" width=\"800px\" height=\"500px\" frameborder=\"0\"></iframe></div>\n"
      ],
      "text/plain": [
       "<IPython.core.display.HTML object>"
      ]
     },
     "metadata": {},
     "output_type": "display_data"
    }
   ],
   "source": [
    "%%HTML\n",
    "\n",
    "<div align=\"center\"><iframe src=\"https://view.officeapps.live.com/op/view.aspx?src=https://developer.download.nvidia.com/training/courses/C-AC-01-V1/embedded/task2/NVPROF_UM_2.pptx\" width=\"800px\" height=\"500px\" frameborder=\"0\"></iframe></div>"
   ]
  },
  {
   "cell_type": "markdown",
   "metadata": {},
   "source": [
    "### Unified Memory Migration\n",
    "\n",
    "When UM is allocated, the memory is not resident yet on either the host or the device. When either the host or device attempts to access the memory, a [page fault](https://en.wikipedia.org/wiki/Page_fault) will occur, at which point the host or device will migrate the needed data in batches. Similarly, at any point when the CPU, or any GPU in the accelerated system, attempts to access memory not yet resident on it, page faults will occur and trigger its migration.\n",
    "\n",
    "The ability to page fault and migrate memory on demand is tremendously helpful for ease of development in your accelerated applications. Additionally, when working with data that exhibits sparse access patterns, for example when it is impossible to know which data will be required to be worked on until the application actually runs, and for scenarios when data might be accessed by multiple GPU devices in an accelerated system with multiple GPUs, on-demand memory migration is remarkably beneficial.\n",
    "\n",
    "There are times - for example when data needs are known prior to runtime, and large contiguous blocks of memory are required - when the overhead of page faulting and migrating data on demand incurs an overhead cost that would be better avoided.\n",
    "\n",
    "Much of the remainder of this lab will be dedicated to understanding on-demand migration, and how to identify it in the profiler's output. With this knowledge you will be able to reduce the overhead of it in scenarios when it would be beneficial."
   ]
  },
  {
   "cell_type": "markdown",
   "metadata": {},
   "source": [
    "### Exercise: Explore UM Migration and Page Faulting"
   ]
  },
  {
   "cell_type": "markdown",
   "metadata": {},
   "source": [
    "`nsys profile` provides output describing UM behavior for the profiled application. In this exercise, you will make several modifications to a simple application, and make use of `nsys profile` after each change, to explore how UM data migration behaves.\n",
    "\n",
    "[`01-page-faults.cu`](../edit/06-unified-memory-page-faults/01-page-faults.cu) contains a `hostFunction` and a `gpuKernel`, both which could be used to initialize the elements of a `2<<24` element vector with the number `1`. Currently neither the host function nor GPU kernel are being used.\n",
    "\n",
    "For each of the 4 questions below, given what you have just learned about UM behavior, first hypothesize about what kind of page faulting should happen, then, edit [`01-page-faults.cu`](../edit/06-unified-memory-page-faults/01-page-faults.cu) to create a scenario, by using one or both of the 2 provided functions in the code bases, that will allow you to test your hypothesis.\n",
    "\n",
    "In order to test your hypotheses, compile and profile your code using the code execution cells below. Be sure to record your hypotheses, as well as the results, obtained from `nsys profile --stats=true` output. In the output of `nsys profile --stats=true` you should be looking for the following:\n",
    "\n",
    "- Is there a _CUDA Memory Operation Statistics_ section in the output?\n",
    "- If so, does it indicate host to device (HtoD) or device to host (DtoH) migrations?\n",
    "- When there are migrations, what does the output say about how many _Operations_ there were? If you see many small memory migration operations, this is a sign that on-demand page faulting is occurring, with small memory migrations occurring each time there is a page fault in the requested location."
   ]
  },
  {
   "cell_type": "markdown",
   "metadata": {},
   "source": [
    "Here are the scenarios for you to explore, along with solutions for them if you get stuck:\n",
    "\n",
    "- Is there evidence of memory migration and/or page faulting when unified memory is accessed only by the CPU? ([solution](../edit/06-unified-memory-page-faults/solutions/01-page-faults-solution-cpu-only.cu))\n",
    "- Is there evidence of memory migration and/or page faulting when unified memory is accessed only by the GPU? ([solution](../edit/06-unified-memory-page-faults/solutions/02-page-faults-solution-gpu-only.cu))\n",
    "- Is there evidence of memory migration and/or page faulting when unified memory is accessed first by the CPU then the GPU? ([solution](../edit/06-unified-memory-page-faults/solutions/03-page-faults-solution-cpu-then-gpu.cu))\n",
    "- Is there evidence of memory migration and/or page faulting when unified memory is accessed first by the GPU then the CPU? ([solution](../edit/06-unified-memory-page-faults/solutions/04-page-faults-solution-gpu-then-cpu.cu))"
   ]
  },
  {
   "cell_type": "markdown",
   "metadata": {},
   "source": [
    "- Page Faulting occurs whenever both device and host functionas are using the memory allocated by `cudaMallocManaged()`"
   ]
  },
  {
   "cell_type": "code",
   "execution_count": 41,
   "metadata": {},
   "outputs": [],
   "source": [
    "!nvcc -arch=sm_61 -o ../src/session2/bin/page-faults ../src/session2/01-page-faults.cu -run"
   ]
  },
  {
   "cell_type": "code",
   "execution_count": 42,
   "metadata": {},
   "outputs": [
    {
     "name": "stdout",
     "output_type": "stream",
     "text": [
      "Generating '/tmp/nsys-report-aadc.qdstrm'\n",
      "[1/8] [========================100%] report1.nsys-rep\n",
      "[2/8] [========================100%] report1.sqlite\n",
      "[3/8] Executing 'nvtxsum' stats report\n",
      "SKIPPED: /home/alfredo/projects/cuda-c-cpp/notebooks/report1.sqlite does not contain NV Tools Extension (NVTX) data.\n",
      "[4/8] Executing 'osrtsum' stats report\n",
      "\n",
      "Operating System Runtime API Statistics:\n",
      "\n",
      " Time (%)  Total Time (ns)  Num Calls    Avg (ns)       Med (ns)    Min (ns)   Max (ns)     StdDev (ns)        Name     \n",
      " --------  ---------------  ---------  -------------  ------------  --------  -----------  -------------  --------------\n",
      "     46.8      402,560,644          3  134,186,881.3  86,223,146.0   943,614  315,393,884  162,619,596.0  sem_wait      \n",
      "     39.7      341,511,515         27   12,648,574.6  10,065,594.0     1,072  100,127,725   20,175,671.8  poll          \n",
      "      6.4       55,191,940         23    2,399,649.6   2,055,306.0    27,390   20,527,936    4,479,309.9  sem_timedwait \n",
      "      6.1       52,446,250        495      105,952.0       7,049.0     1,059   19,571,875    1,094,191.9  ioctl         \n",
      "      0.7        6,255,423         17      367,966.1       7,298.0     1,247    6,127,478    1,484,213.8  mmap          \n",
      "      0.2        1,485,078         42       35,359.0       5,948.5     3,262      627,242      112,530.9  mmap64        \n",
      "      0.1          515,622          5      103,124.4      52,779.0    30,059      198,593       84,922.3  pthread_create\n",
      "      0.1          452,546         59        7,670.3       7,115.0     2,705       31,762        3,771.0  open64        \n",
      "      0.0          203,321         42        4,841.0       2,793.0     1,319       82,956       12,411.0  fopen         \n",
      "      0.0           72,944          6       12,157.3       6,782.0     3,495       37,639       13,169.0  fgets         \n",
      "      0.0           40,756          6        6,792.7       3,824.5     2,111       23,681        8,355.0  munmap        \n",
      "      0.0           32,924         24        1,371.8       1,285.0     1,020        2,498          339.4  fclose        \n",
      "      0.0           31,213         10        3,121.3       2,915.5     1,481        7,653        1,841.6  write         \n",
      "      0.0           23,096          5        4,619.2       4,349.0     2,077        6,886        1,781.6  open          \n",
      "      0.0           18,650         13        1,434.6       1,237.0     1,062        2,350          474.6  read          \n",
      "      0.0           18,014          5        3,602.8       2,636.0     1,645        8,220        2,718.9  fread         \n",
      "      0.0           11,587          2        5,793.5       5,793.5     3,321        8,266        3,496.6  socket        \n",
      "      0.0           10,839          1       10,839.0      10,839.0    10,839       10,839            0.0  connect       \n",
      "      0.0            7,191          1        7,191.0       7,191.0     7,191        7,191            0.0  pipe2         \n",
      "      0.0            3,340          1        3,340.0       3,340.0     3,340        3,340            0.0  fopen64       \n",
      "      0.0            3,308          3        1,102.7       1,141.0     1,023        1,144           69.0  fcntl         \n",
      "      0.0            1,392          1        1,392.0       1,392.0     1,392        1,392            0.0  bind          \n",
      "\n",
      "[5/8] Executing 'cudaapisum' stats report\n",
      "\n",
      "CUDA API Statistics:\n",
      "\n",
      " Time (%)  Total Time (ns)  Num Calls    Avg (ns)       Med (ns)      Min (ns)     Max (ns)    StdDev (ns)           Name         \n",
      " --------  ---------------  ---------  -------------  -------------  -----------  -----------  -----------  ----------------------\n",
      "     86.6      106,656,131          1  106,656,131.0  106,656,131.0  106,656,131  106,656,131          0.0  cudaMallocManaged     \n",
      "      8.4       10,299,951          1   10,299,951.0   10,299,951.0   10,299,951   10,299,951          0.0  cudaDeviceSynchronize \n",
      "      5.0        6,208,014          1    6,208,014.0    6,208,014.0    6,208,014    6,208,014          0.0  cudaFree              \n",
      "      0.0           22,936          1       22,936.0       22,936.0       22,936       22,936          0.0  cudaLaunchKernel      \n",
      "      0.0              638          1          638.0          638.0          638          638          0.0  cuModuleGetLoadingMode\n",
      "\n",
      "[6/8] Executing 'gpukernsum' stats report\n",
      "\n",
      "CUDA Kernel Statistics:\n",
      "\n",
      " Time (%)  Total Time (ns)  Instances    Avg (ns)      Med (ns)     Min (ns)    Max (ns)   StdDev (ns)            Name          \n",
      " --------  ---------------  ---------  ------------  ------------  ----------  ----------  -----------  ------------------------\n",
      "    100.0       10,290,056          1  10,290,056.0  10,290,056.0  10,290,056  10,290,056          0.0  deviceKernel(int *, int)\n",
      "\n",
      "[7/8] Executing 'gpumemtimesum' stats report\n",
      "\n",
      "CUDA Memory Operation Statistics (by time):\n",
      "\n",
      " Time (%)  Total Time (ns)  Count  Avg (ns)  Med (ns)  Min (ns)  Max (ns)  StdDev (ns)              Operation            \n",
      " --------  ---------------  -----  --------  --------  --------  --------  -----------  ---------------------------------\n",
      "    100.0       20,661,099    768  26,902.5   5,487.0       926   159,620     45,771.3  [CUDA Unified Memory memcpy DtoH]\n",
      "\n",
      "[8/8] Executing 'gpumemsizesum' stats report\n",
      "\n",
      "CUDA Memory Operation Statistics (by size):\n",
      "\n",
      " Total (MB)  Count  Avg (MB)  Med (MB)  Min (MB)  Max (MB)  StdDev (MB)              Operation            \n",
      " ----------  -----  --------  --------  --------  --------  -----------  ---------------------------------\n",
      "    134.218    768     0.175     0.033     0.004     1.044        0.301  [CUDA Unified Memory memcpy DtoH]\n",
      "\n",
      "Generated:\n",
      "    /home/alfredo/projects/cuda-c-cpp/notebooks/report1.nsys-rep\n",
      "    /home/alfredo/projects/cuda-c-cpp/notebooks/report1.sqlite\n"
     ]
    }
   ],
   "source": [
    "!nsys profile --stats=true ../src/session2/bin/page-faults"
   ]
  },
  {
   "cell_type": "markdown",
   "metadata": {},
   "source": [
    "### Exercise: Revisit UM Behavior for Vector Add Program\n",
    "\n",
    "Returning to the [01-vector-add.cu](../edit/01-vector-add/01-vector-add.cu) program you have been working on throughout this lab, review the code bases in its current state, and hypothesize about what kinds of memory migrations and/or page faults you expect to occur. Look at the profiling output for your last refactor (either by scrolling up to find the output or by executing the code execution cell just below), observing the _CUDA Memory Operation Statistics_ section of the profiler output. Can you explain the kinds of migrations and the number of their operations based on the contents of the code base?"
   ]
  },
  {
   "cell_type": "code",
   "execution_count": 43,
   "metadata": {},
   "outputs": [
    {
     "name": "stdout",
     "output_type": "stream",
     "text": [
      "------------------------------\n",
      "Vector length is: 33554432\n",
      "Number of threads per block is: 800\n",
      "Number of blocks is: 41950\n",
      "Success! All values calculated correctly.\n",
      "Generating '/tmp/nsys-report-1201.qdstrm'\n",
      "[1/8] [========================100%] report1.nsys-rep\n",
      "[2/8] [========================100%] report1.sqlite\n",
      "[3/8] Executing 'nvtxsum' stats report\n",
      "SKIPPED: /home/alfredo/projects/cuda-c-cpp/notebooks/report1.sqlite does not contain NV Tools Extension (NVTX) data.\n",
      "[4/8] Executing 'osrtsum' stats report\n",
      "\n",
      "Operating System Runtime API Statistics:\n",
      "\n",
      " Time (%)  Total Time (ns)  Num Calls    Avg (ns)       Med (ns)    Min (ns)    Max (ns)     StdDev (ns)        Name     \n",
      " --------  ---------------  ---------  -------------  ------------  ---------  -----------  -------------  --------------\n",
      "     49.8      878,435,607         53   16,574,256.7  10,065,248.0     48,695  100,132,218   25,048,375.0  poll          \n",
      "     39.7      699,289,337          3  233,096,445.7  90,887,598.0  1,622,620  606,779,119  326,681,977.4  sem_wait      \n",
      "      6.2      109,741,125         46    2,385,676.6   2,058,227.5     28,624   20,624,642    3,573,880.2  sem_timedwait \n",
      "      3.2       56,495,718        513      110,128.1       6,980.0      1,023   19,560,543    1,083,623.5  ioctl         \n",
      "      0.9       15,354,531         24      639,772.1       6,959.0      1,260    5,890,123    1,721,909.1  mmap          \n",
      "      0.1        1,497,907         42       35,664.5       6,058.0      3,258      614,385      113,346.7  mmap64        \n",
      "      0.0          508,032         59        8,610.7       7,536.0      2,617       61,889        7,425.6  open64        \n",
      "      0.0          507,305          5      101,461.0      52,436.0     29,517      198,881       85,030.5  pthread_create\n",
      "      0.0          125,455         43        2,917.6       2,651.0      1,078        9,441        1,657.5  fopen         \n",
      "      0.0           68,189          6       11,364.8       6,789.5      3,038       37,913       13,300.3  fgets         \n",
      "      0.0           36,311         26        1,396.6       1,324.5      1,007        2,798          388.1  fclose        \n",
      "      0.0           31,238         10        3,123.8       2,819.5      1,612        5,067        1,222.5  write         \n",
      "      0.0           30,757          9        3,417.4       3,249.0      1,489        5,163        1,395.3  munmap        \n",
      "      0.0           20,119          5        4,023.8       3,121.0      2,062        6,758        1,999.7  open          \n",
      "      0.0           19,510         14        1,393.6       1,228.0      1,102        2,523          405.1  read          \n",
      "      0.0           19,109          7        2,729.9       1,708.0      1,517        6,838        1,934.6  fread         \n",
      "      0.0           11,315          1       11,315.0      11,315.0     11,315       11,315            0.0  connect       \n",
      "      0.0           10,218          2        5,109.0       5,109.0      2,721        7,497        3,377.1  socket        \n",
      "      0.0            8,800          1        8,800.0       8,800.0      8,800        8,800            0.0  pipe2         \n",
      "      0.0            7,848          5        1,569.6       1,134.0      1,009        3,510        1,086.6  fcntl         \n",
      "      0.0            2,850          1        2,850.0       2,850.0      2,850        2,850            0.0  fopen64       \n",
      "      0.0            1,364          1        1,364.0       1,364.0      1,364        1,364            0.0  bind          \n",
      "\n",
      "[5/8] Executing 'cudaapisum' stats report\n",
      "\n",
      "CUDA API Statistics:\n",
      "\n",
      " Time (%)  Total Time (ns)  Num Calls    Avg (ns)      Med (ns)     Min (ns)    Max (ns)    StdDev (ns)            Name         \n",
      " --------  ---------------  ---------  ------------  ------------  ----------  -----------  ------------  ----------------------\n",
      "     50.0      111,479,844          3  37,159,948.0      55,492.0      14,505  111,409,847  64,302,302.0  cudaMallocManaged     \n",
      "     43.1       96,024,703          1  96,024,703.0  96,024,703.0  96,024,703   96,024,703           0.0  cudaDeviceSynchronize \n",
      "      6.9       15,317,457          3   5,105,819.0   4,718,698.0   4,678,989    5,919,770     705,181.8  cudaFree              \n",
      "      0.0           43,297          1      43,297.0      43,297.0      43,297       43,297           0.0  cudaLaunchKernel      \n",
      "      0.0              576          1         576.0         576.0         576          576           0.0  cuModuleGetLoadingMode\n",
      "\n",
      "[6/8] Executing 'gpukernsum' stats report\n",
      "\n",
      "CUDA Kernel Statistics:\n",
      "\n",
      " Time (%)  Total Time (ns)  Instances    Avg (ns)      Med (ns)     Min (ns)    Max (ns)   StdDev (ns)                       Name                     \n",
      " --------  ---------------  ---------  ------------  ------------  ----------  ----------  -----------  ----------------------------------------------\n",
      "    100.0       95,970,233          1  95,970,233.0  95,970,233.0  95,970,233  95,970,233          0.0  addVectorsInto(float *, float *, float *, int)\n",
      "\n",
      "[7/8] Executing 'gpumemtimesum' stats report\n",
      "\n",
      "CUDA Memory Operation Statistics (by time):\n",
      "\n",
      " Time (%)  Total Time (ns)  Count  Avg (ns)  Med (ns)  Min (ns)  Max (ns)  StdDev (ns)              Operation            \n",
      " --------  ---------------  -----  --------  --------  --------  --------  -----------  ---------------------------------\n",
      "     75.9       64,933,371  4,175  15,552.9   2,975.0     1,118   161,060     35,356.8  [CUDA Unified Memory memcpy HtoD]\n",
      "     24.1       20,653,644    768  26,892.8   5,391.5       926   159,396     45,771.5  [CUDA Unified Memory memcpy DtoH]\n",
      "\n",
      "[8/8] Executing 'gpumemsizesum' stats report\n",
      "\n",
      "CUDA Memory Operation Statistics (by size):\n",
      "\n",
      " Total (MB)  Count  Avg (MB)  Med (MB)  Min (MB)  Max (MB)  StdDev (MB)              Operation            \n",
      " ----------  -----  --------  --------  --------  --------  -----------  ---------------------------------\n",
      "    402.653  4,175     0.096     0.016     0.004     1.036        0.229  [CUDA Unified Memory memcpy HtoD]\n",
      "    134.218    768     0.175     0.033     0.004     1.044        0.301  [CUDA Unified Memory memcpy DtoH]\n",
      "\n",
      "Generated:\n",
      "    /home/alfredo/projects/cuda-c-cpp/notebooks/report1.nsys-rep\n",
      "    /home/alfredo/projects/cuda-c-cpp/notebooks/report1.sqlite\n"
     ]
    }
   ],
   "source": [
    "!nsys profile --stats=true ../src/session2/bin/sm-optimized-vector-add"
   ]
  },
  {
   "cell_type": "markdown",
   "metadata": {},
   "source": [
    "### Exercise: Initialize Vector in Kernel\n",
    "\n",
    "When `nsys profile` gives the amount of time that a kernel takes to execute, the host-to-device page faults and data migrations that occur during this kernel's execution are included in the displayed execution time.\n",
    "\n",
    "With this in mind, refactor the `initWith` host function in your [01-vector-add.cu](../edit/01-vector-add/01-vector-add.cu) program to instead be a CUDA kernel, initializing the allocated vector in parallel on the GPU. After successfully compiling and running the refactored application, but before profiling it, hypothesize about the following:\n",
    "\n",
    "- How do you expect the refactor to affect UM memory migration behavior?\n",
    "- How do you expect the refactor to affect the reported run time of `addVectorsInto`?\n",
    "\n",
    "Once again, record the results. Refer to [the solution](../edit/07-init-in-kernel/solutions/01-vector-add-init-in-kernel-solution.cu) if you get stuck."
   ]
  },
  {
   "cell_type": "code",
   "execution_count": null,
   "metadata": {},
   "outputs": [],
   "source": [
    "!nvcc -o initialize-in-kernel 01-vector-add/01-vector-add.cu -run"
   ]
  },
  {
   "cell_type": "code",
   "execution_count": null,
   "metadata": {},
   "outputs": [],
   "source": [
    "!nsys profile --stats=true ./initialize-in-kernel"
   ]
  },
  {
   "cell_type": "markdown",
   "metadata": {},
   "source": [
    "---\n",
    "## Asynchronous Memory Prefetching\n",
    "\n",
    "A powerful technique to reduce the overhead of page faulting and on-demand memory migrations, both in host-to-device and device-to-host memory transfers, is called **asynchronous memory prefetching**. Using this technique allows programmers to asynchronously migrate unified memory (UM) to any CPU or GPU device in the system, in the background, prior to its use by application code. By doing this, GPU kernels and CPU function performance can be increased on account of reduced page fault and on-demand data migration overhead.\n",
    "\n",
    "Prefetching also tends to migrate data in larger chunks, and therefore fewer trips, than on-demand migration. This makes it an excellent fit when data access needs are known before runtime, and when data access patterns are not sparse.\n",
    "\n",
    "CUDA Makes asynchronously prefetching managed memory to either a GPU device or the CPU easy with its `cudaMemPrefetchAsync` function. Here is an example of using it to both prefetch data to the currently active GPU device, and then, to the CPU:\n",
    "\n",
    "```cpp\n",
    "int deviceId;\n",
    "cudaGetDevice(&deviceId);                                         // The ID of the currently active GPU device.\n",
    "\n",
    "cudaMemPrefetchAsync(pointerToSomeUMData, size, deviceId);        // Prefetch to GPU device.\n",
    "cudaMemPrefetchAsync(pointerToSomeUMData, size, cudaCpuDeviceId); // Prefetch to host. `cudaCpuDeviceId` is a\n",
    "                                                                  // built-in CUDA variable.\n",
    "```"
   ]
  },
  {
   "cell_type": "markdown",
   "metadata": {},
   "source": [
    "### Exercise: Prefetch Memory\n",
    "\n",
    "At this point in the lab, your [01-vector-add.cu](../edit/01-vector-add/01-vector-add.cu) program should not only be launching a CUDA kernel to add 2 vectors into a third solution vector, all which are allocated with `cudaMallocManaged`, but should also be initializing each of the 3 vectors in parallel in a CUDA kernel. If for some reason, your application does not do any of the above, please refer to the following [reference application](../edit/07-init-in-kernel/solutions/01-vector-add-init-in-kernel-solution.cu), and update your own code bases to reflect its current functionality.\n",
    "\n",
    "Conduct 3 experiments using `cudaMemPrefetchAsync` inside of your [01-vector-add.cu](../edit/01-vector-add/01-vector-add.cu) application to understand its impact on page-faulting and memory migration.\n",
    "\n",
    "- What happens when you prefetch one of the initialized vectors to the device?\n",
    "- What happens when you prefetch two of the initialized vectors to the device?\n",
    "- What happens when you prefetch all three of the initialized vectors to the device?\n",
    "\n",
    "Hypothesize about UM behavior, page faulting specifically, as well as the impact on the reported run time of the initialization kernel, before each experiment, and then verify by running `nsys profile`. Refer to [the solution](../edit/08-prefetch/solutions/01-vector-add-prefetch-solution.cu) if you get stuck."
   ]
  },
  {
   "cell_type": "code",
   "execution_count": null,
   "metadata": {},
   "outputs": [],
   "source": [
    "!nvcc -o prefetch-to-gpu 01-vector-add/01-vector-add.cu -run"
   ]
  },
  {
   "cell_type": "code",
   "execution_count": null,
   "metadata": {},
   "outputs": [],
   "source": [
    "!nsys profile --stats=true ./prefetch-to-gpu"
   ]
  },
  {
   "cell_type": "markdown",
   "metadata": {},
   "source": [
    "### Exercise: Prefetch Memory Back to the CPU\n",
    "\n",
    "Add additional prefetching back to the CPU for the function that verifies the correctness of the `addVectorInto` kernel. Again, hypothesize about the impact on UM before profiling in `nsys` to confirm. Refer to [the solution](../edit/08-prefetch/solutions/02-vector-add-prefetch-solution-cpu-also.cu) if you get stuck."
   ]
  },
  {
   "cell_type": "code",
   "execution_count": null,
   "metadata": {},
   "outputs": [],
   "source": [
    "!nvcc -o prefetch-to-cpu 01-vector-add/01-vector-add.cu -run"
   ]
  },
  {
   "cell_type": "code",
   "execution_count": null,
   "metadata": {},
   "outputs": [],
   "source": [
    "!nsys profile --stats=true ./prefetch-to-cpu"
   ]
  },
  {
   "cell_type": "markdown",
   "metadata": {},
   "source": [
    "After this series of refactors to use asynchronous prefetching, you should see that there are fewer, but larger, memory transfers, and, that the kernel execution time is significantly decreased."
   ]
  },
  {
   "cell_type": "markdown",
   "metadata": {},
   "source": [
    "---\n",
    "## Summary\n",
    "\n",
    "At this point in the lab, you are able to:\n",
    "\n",
    "- Use the Nsight Systems command line tool (**nsys**) to profile accelerated application performance.\n",
    "- Leverage an understanding of **Streaming Multiprocessors** to optimize execution configurations.\n",
    "- Understand the behavior of **Unified Memory** with regard to page faulting and data migrations.\n",
    "- Use **asynchronous memory prefetching** to reduce page faults and data migrations for increased performance.\n",
    "- Employ an iterative development cycle to rapidly accelerate and deploy applications.\n",
    "\n",
    "In order to consolidate your learning, and reinforce your ability to iteratively accelerate, optimize, and deploy applications, please proceed to this lab's final exercise. After completing it, for those of you with time and interest, please proceed to the *Advanced Content* section."
   ]
  },
  {
   "cell_type": "markdown",
   "metadata": {},
   "source": [
    "---\n",
    "## Final Exercise: Iteratively Optimize an Accelerated SAXPY Application\n",
    "\n",
    "A basic accelerated SAXPY (Single Precision a\\*x+b) application has been provided for you [here](../edit/09-saxpy/01-saxpy.cu). It currently contains a couple of bugs that you will need to find and fix before you can successfully compile, run, and then profile it with `nsys profile`.\n",
    "\n",
    "After fixing the bugs and profiling the application, record the runtime of the `saxpy` kernel and then work *iteratively* to optimize the application, using `nsys profile` after each iteration to notice the effects of the code changes on kernel performance and UM behavior.\n",
    "\n",
    "Utilize the techniques from this lab. To support your learning, utilize [effortful retrieval](http://sites.gsu.edu/scholarlyteaching/effortful-retrieval/) whenever possible, rather than rushing to look up the specifics of techniques from earlier in the lesson.\n",
    "\n",
    "Your end goal is to profile an accurate `saxpy` kernel, without modifying `N`, to run in under *200us*. Check out [the solution](../edit/09-saxpy/solutions/02-saxpy-solution.cu) if you get stuck, and feel free to compile and profile it if you wish."
   ]
  },
  {
   "cell_type": "code",
   "execution_count": null,
   "metadata": {},
   "outputs": [],
   "source": [
    "!nvcc -o saxpy 09-saxpy/01-saxpy.cu -run"
   ]
  },
  {
   "cell_type": "code",
   "execution_count": null,
   "metadata": {},
   "outputs": [],
   "source": [
    "!nsys profile --stats=true ./saxpy"
   ]
  }
 ],
 "metadata": {
  "kernelspec": {
   "display_name": "Python 3 (ipykernel)",
   "language": "python",
   "name": "python3"
  },
  "language_info": {
   "codemirror_mode": {
    "name": "ipython",
    "version": 3
   },
   "file_extension": ".py",
   "mimetype": "text/x-python",
   "name": "python",
   "nbconvert_exporter": "python",
   "pygments_lexer": "ipython3",
   "version": "3.10.4"
  }
 },
 "nbformat": 4,
 "nbformat_minor": 4
}
