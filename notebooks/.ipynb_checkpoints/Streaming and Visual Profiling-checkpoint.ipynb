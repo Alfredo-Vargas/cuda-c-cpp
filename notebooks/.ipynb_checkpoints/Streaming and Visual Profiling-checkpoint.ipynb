{
 "cells": [
  {
   "cell_type": "markdown",
   "metadata": {},
   "source": [
    "<h1><div align=\"center\">Asynchronous Streaming, and Visual Profiling with CUDA C/C++</div></h1>"
   ]
  },
  {
   "cell_type": "markdown",
   "metadata": {},
   "source": [
    "![CUDA](./images/CUDA_Logo.jpg)"
   ]
  },
  {
   "cell_type": "markdown",
   "metadata": {},
   "source": [
    "The CUDA toolkit ships with the **Nsight Systems**, a powerful GUI application to support the development of accelerated CUDA applications. Nsight Systems generates a graphical timeline of an accelerated application, with detailed information about CUDA API calls, kernel execution, memory activity, and the use of **CUDA streams**.\n",
    "\n",
    "In this lab, you will be using the Nsight Systems timeline to guide you in optimizing accelerated applications. Additionally, you will learn some intermediate CUDA programming techniques to support your work: **unmanaged memory allocation and migration**; **pinning**, or **page-locking** host memory; and **non-default concurrent CUDA streams**.\n",
    "\n",
    "At the end of this lab, you will be presented with an assessment, to accelerate and optimize a simple n-body particle simulator, which will allow you to demonstrate the skills you have developed during this course. Those of you who are able to accelerate the simulator while maintaining its correctness, will be granted a certification as proof of your competency."
   ]
  },
  {
   "cell_type": "markdown",
   "metadata": {},
   "source": [
    "---\n",
    "## Prerequisites\n",
    "\n",
    "To get the most out of this lab you should already be able to:\n",
    "\n",
    "- Write, compile, and run C/C++ programs that both call CPU functions and launch GPU kernels.\n",
    "- Control parallel thread hierarchy using execution configuration.\n",
    "- Refactor serial loops to execute their iterations in parallel on a GPU.\n",
    "- Allocate and free CUDA Unified Memory.\n",
    "- Understand the behavior of Unified Memory with regard to page faulting and data migrations.\n",
    "- Use asynchronous memory prefetching to reduce page faults and data migrations."
   ]
  },
  {
   "cell_type": "markdown",
   "metadata": {},
   "source": [
    "## Objectives\n",
    "\n",
    "By the time you complete this lab you will be able to:\n",
    "\n",
    "- Use **Nsight Systems** to visually profile the timeline of GPU-accelerated CUDA applications.\n",
    "- Use Nsight Systems to identify, and exploit, optimization opportunities in GPU-accelerated CUDA applications.\n",
    "- Utilize CUDA streams for concurrent kernel execution in accelerated applications.\n",
    "- (**Optional Advanced Content**) Use manual device memory allocation, including allocating pinned memory, in order to asynchronously transfer data in concurrent CUDA streams."
   ]
  },
  {
   "cell_type": "markdown",
   "metadata": {},
   "source": [
    "---\n",
    "## Running Nsight Systems"
   ]
  },
  {
   "cell_type": "markdown",
   "metadata": {},
   "source": [
    "For this interactive lab environment, we have set up a remote desktop you can access from your browser, where you will be able to launch and use Nsight Systems.\n",
    "\n",
    "You will begin by creating a report file for an already-existing vector addition program, after which you will be walked through a series of steps to open this report file in Nsight Systems, and to make the visual experience nice."
   ]
  },
  {
   "cell_type": "markdown",
   "metadata": {},
   "source": [
    "### Generate Report File\n",
    "\n",
    "[`01-vector-add.cu`](../edit/01-vector-add/01-vector-add.cu) (<-------- click on these links to source files to edit them in the browser) contains a working, accelerated, vector addition application. Use the code execution cell directly below (you can execute it, and any of the code execution cells in this lab by `CTRL` + clicking it) to compile and run it. You should see a message printed that indicates it was successful."
   ]
  },
  {
   "cell_type": "code",
   "execution_count": 1,
   "metadata": {
    "scrolled": true
   },
   "outputs": [
    {
     "name": "stdout",
     "output_type": "stream",
     "text": [
      "Success! All values calculated correctly.\n"
     ]
    }
   ],
   "source": [
    "!nvcc -arch=sm_61 -o ../src/session3/bin/vector-add-no-prefetch ../src/session3/01-vector-add.cu -run"
   ]
  },
  {
   "cell_type": "markdown",
   "metadata": {},
   "source": [
    "Next, use `nsys profile --stats=true` to create a report file that you will be able to open in the Nsight Systems visual profiler. Here we use the `-o` flag to give the report file a memorable name:"
   ]
  },
  {
   "cell_type": "code",
   "execution_count": 3,
   "metadata": {
    "scrolled": true
   },
   "outputs": [
    {
     "name": "stdout",
     "output_type": "stream",
     "text": [
      "Success! All values calculated correctly.\n",
      "Generating '/tmp/nsys-report-f377.qdstrm'\n",
      "[1/8] [========================100%] vector-add-no-prefetch-report.nsys-rep\n",
      "[2/8] [========================100%] vector-add-no-prefetch-report.sqlite\n",
      "[3/8] Executing 'nvtxsum' stats report\n",
      "SKIPPED: /home/alfredo/projects/cuda-c-cpp/notebooks/../src/session3/bin/vector-add-no-prefetch-report.sqlite does not contain NV Tools Extension (NVTX) data.\n",
      "[4/8] Executing 'osrtsum' stats report\n",
      "\n",
      "Operating System Runtime API Statistics:\n",
      "\n",
      " Time (%)  Total Time (ns)  Num Calls    Avg (ns)       Med (ns)      Min (ns)     Max (ns)     StdDev (ns)            Name         \n",
      " --------  ---------------  ---------  -------------  -------------  -----------  -----------  -------------  ----------------------\n",
      "     41.2    1,042,172,419         62   16,809,232.6   10,068,379.0        1,065  100,130,715   25,690,325.1  poll                  \n",
      "     31.2      789,686,550          3  263,228,850.0   92,763,359.0    5,643,905  691,279,286  373,253,039.7  sem_wait              \n",
      "     19.8      500,035,065          1  500,035,065.0  500,035,065.0  500,035,065  500,035,065            0.0  pthread_cond_timedwait\n",
      "      4.8      121,822,833         54    2,255,978.4    2,061,736.5        8,912   20,557,379    2,987,281.3  sem_timedwait         \n",
      "      2.2       55,292,321        504      109,707.0        7,184.0        1,028   18,381,320    1,006,541.9  ioctl                 \n",
      "      0.7       17,313,284         24      721,386.8        8,112.5        1,402    7,692,600    1,992,100.4  mmap                  \n",
      "      0.1        1,723,755         42       41,041.8        6,191.0        3,239      668,068      134,873.6  mmap64                \n",
      "      0.0          683,693          5      136,738.6      190,521.0       31,452      212,045       86,304.3  pthread_create        \n",
      "      0.0          483,871         59        8,201.2        7,501.0        2,769       19,677        3,157.2  open64                \n",
      "      0.0          116,984         41        2,853.3        2,647.0        1,111        7,650        1,341.9  fopen                 \n",
      "      0.0           66,405         10        6,640.5        4,043.0        2,122       30,837        8,681.5  munmap                \n",
      "      0.0           64,521          5       12,904.2        8,076.0        3,246       37,557       14,067.6  fgets                 \n",
      "      0.0           34,918         26        1,343.0        1,277.0        1,013        2,057          288.5  fclose                \n",
      "      0.0           20,077          5        4,015.4        3,277.0        2,114        6,252        1,706.0  open                  \n",
      "      0.0           15,099         10        1,509.9        1,217.5        1,120        2,418          472.9  read                  \n",
      "      0.0           14,447          5        2,889.4        1,688.0        1,274        7,188        2,460.2  fread                 \n",
      "      0.0           12,555          2        6,277.5        6,277.5        5,388        7,167        1,257.9  socket                \n",
      "      0.0            9,870          5        1,974.0        2,124.0        1,405        2,487          417.7  write                 \n",
      "      0.0            9,490          1        9,490.0        9,490.0        9,490        9,490            0.0  connect               \n",
      "      0.0            6,555          1        6,555.0        6,555.0        6,555        6,555            0.0  pipe2                 \n",
      "      0.0            3,826          3        1,275.3        1,205.0        1,017        1,604          299.8  fcntl                 \n",
      "      0.0            3,328          1        3,328.0        3,328.0        3,328        3,328            0.0  fopen64               \n",
      "      0.0            1,819          1        1,819.0        1,819.0        1,819        1,819            0.0  bind                  \n",
      "\n",
      "[5/8] Executing 'cudaapisum' stats report\n",
      "\n",
      "CUDA API Statistics:\n",
      "\n",
      " Time (%)  Total Time (ns)  Num Calls    Avg (ns)       Med (ns)      Min (ns)     Max (ns)    StdDev (ns)            Name         \n",
      " --------  ---------------  ---------  -------------  -------------  -----------  -----------  ------------  ----------------------\n",
      "     54.0      153,455,480          1  153,455,480.0  153,455,480.0  153,455,480  153,455,480           0.0  cudaDeviceSynchronize \n",
      "     39.9      113,311,818          3   37,770,606.0       69,610.0       24,606  113,217,602  65,339,019.0  cudaMallocManaged     \n",
      "      6.1       17,330,602          3    5,776,867.3    5,028,822.0    4,566,059    7,735,721   1,712,123.9  cudaFree              \n",
      "      0.0           37,415          1       37,415.0       37,415.0       37,415       37,415           0.0  cudaLaunchKernel      \n",
      "      0.0              928          1          928.0          928.0          928          928           0.0  cuModuleGetLoadingMode\n",
      "\n",
      "[6/8] Executing 'gpukernsum' stats report\n",
      "\n",
      "CUDA Kernel Statistics:\n",
      "\n",
      " Time (%)  Total Time (ns)  Instances    Avg (ns)       Med (ns)      Min (ns)     Max (ns)    StdDev (ns)                       Name                     \n",
      " --------  ---------------  ---------  -------------  -------------  -----------  -----------  -----------  ----------------------------------------------\n",
      "    100.0      153,400,556          1  153,400,556.0  153,400,556.0  153,400,556  153,400,556          0.0  addVectorsInto(float *, float *, float *, int)\n",
      "\n",
      "[7/8] Executing 'gpumemtimesum' stats report\n",
      "\n",
      "CUDA Memory Operation Statistics (by time):\n",
      "\n",
      " Time (%)  Total Time (ns)  Count   Avg (ns)  Med (ns)  Min (ns)  Max (ns)  StdDev (ns)              Operation            \n",
      " --------  ---------------  ------  --------  --------  --------  --------  -----------  ---------------------------------\n",
      "     77.2       70,321,779  12,377   5,681.6   2,239.0     1,118    89,633      7,940.6  [CUDA Unified Memory memcpy HtoD]\n",
      "     22.8       20,729,883     758  27,348.1   6,367.5       894   209,060     46,477.2  [CUDA Unified Memory memcpy DtoH]\n",
      "\n",
      "[8/8] Executing 'gpumemsizesum' stats report\n",
      "\n",
      "CUDA Memory Operation Statistics (by size):\n",
      "\n",
      " Total (MB)  Count   Avg (MB)  Med (MB)  Min (MB)  Max (MB)  StdDev (MB)              Operation            \n",
      " ----------  ------  --------  --------  --------  --------  -----------  ---------------------------------\n",
      "    396.771  12,377     0.032     0.008     0.004     0.197        0.049  [CUDA Unified Memory memcpy HtoD]\n",
      "    133.169     758     0.176     0.033     0.004     1.044        0.302  [CUDA Unified Memory memcpy DtoH]\n",
      "\n",
      "Generated:\n",
      "    /home/alfredo/projects/cuda-c-cpp/notebooks/../src/session3/bin/vector-add-no-prefetch-report.nsys-rep\n",
      "    /home/alfredo/projects/cuda-c-cpp/notebooks/../src/session3/bin/vector-add-no-prefetch-report.sqlite\n"
     ]
    }
   ],
   "source": [
    "!nsys profile --stats=true -o ../src/session3/bin/vector-add-no-prefetch-report ../src/session3/bin/vector-add-no-prefetch"
   ]
  },
  {
   "cell_type": "markdown",
   "metadata": {},
   "source": [
    "### Open the Remote Desktop"
   ]
  },
  {
   "cell_type": "markdown",
   "metadata": {},
   "source": [
    "Run the next cell to generate a link to the remote desktop. Then, read the instructions that follow in the notebook."
   ]
  },
  {
   "cell_type": "code",
   "execution_count": null,
   "metadata": {},
   "outputs": [],
   "source": [
    "%%js\n",
    "var port = ((window.location.port == 80) ? \"\" : (\":\"+window.location.port));\n",
    "var url = 'http://' + window.location.hostname + port + '/nsight/vnc.html?resize=scale';\n",
    "let a = document.createElement('a');\n",
    "a.setAttribute('href', url)\n",
    "a.setAttribute('target', '_blank')\n",
    "a.innerText = 'Click to open remote desktop'\n",
    "element.append(a);"
   ]
  },
  {
   "cell_type": "markdown",
   "metadata": {},
   "source": [
    "After clicking the _Connect_ button you will be asked for a password, which is `nvidia`."
   ]
  },
  {
   "cell_type": "markdown",
   "metadata": {},
   "source": [
    "### Open Nsight Systems"
   ]
  },
  {
   "cell_type": "markdown",
   "metadata": {},
   "source": [
    "To open Nsight Systems, double-click the \"NVIDIA Nsight Systems\" icon on the remote desktop."
   ]
  },
  {
   "cell_type": "markdown",
   "metadata": {},
   "source": [
    "![open nsight](./images/open-nsight-sys.png)"
   ]
  },
  {
   "cell_type": "markdown",
   "metadata": {},
   "source": [
    "### Enable Usage Reporting"
   ]
  },
  {
   "cell_type": "markdown",
   "metadata": {},
   "source": [
    "When prompted, click \"Yes\" to enable usage reporting:"
   ]
  },
  {
   "cell_type": "markdown",
   "metadata": {},
   "source": [
    "![enable usage](./images/enable_usage.png)"
   ]
  },
  {
   "cell_type": "markdown",
   "metadata": {},
   "source": [
    "### Select GPU Rows on Top"
   ]
  },
  {
   "cell_type": "markdown",
   "metadata": {},
   "source": [
    "When prompted, select _GPU Rows on Top_ and then click _Okay_."
   ]
  },
  {
   "cell_type": "markdown",
   "metadata": {},
   "source": [
    "![gpu)_rows_on_top](./images/gpu_on_top.png)"
   ]
  },
  {
   "cell_type": "markdown",
   "metadata": {},
   "source": [
    "### Open the Report File"
   ]
  },
  {
   "cell_type": "markdown",
   "metadata": {},
   "source": [
    "Open this report file by visiting _File_ -> _Open_ from the Nsight Systems menu and select `vector-add-no-prefetch-report.qdrep`:"
   ]
  },
  {
   "cell_type": "markdown",
   "metadata": {},
   "source": [
    "![open-report](./images/open-report.png)"
   ]
  },
  {
   "cell_type": "markdown",
   "metadata": {},
   "source": [
    "### Ignore Warnings/Errors"
   ]
  },
  {
   "cell_type": "markdown",
   "metadata": {},
   "source": [
    "You can close and ignore any warnings or errors you see, which are just a result of our particular remote desktop environment:"
   ]
  },
  {
   "cell_type": "markdown",
   "metadata": {},
   "source": [
    "![ignore errors](./images/ignore-error.png)"
   ]
  },
  {
   "cell_type": "markdown",
   "metadata": {},
   "source": [
    "### Make More Room for the Timelines"
   ]
  },
  {
   "cell_type": "markdown",
   "metadata": {},
   "source": [
    "To make your experience nicer, full-screen the profiler, close the _Project Explorer_ and hide the *Events View*:"
   ]
  },
  {
   "cell_type": "markdown",
   "metadata": {},
   "source": [
    "![make nice](./images/make-nice.png)"
   ]
  },
  {
   "cell_type": "markdown",
   "metadata": {},
   "source": [
    "Your screen should now look like this:"
   ]
  },
  {
   "cell_type": "markdown",
   "metadata": {},
   "source": [
    "![now nice](./images/now-nice.png)"
   ]
  },
  {
   "cell_type": "markdown",
   "metadata": {},
   "source": [
    "### Expand the CUDA Unified Memory Timelines"
   ]
  },
  {
   "cell_type": "markdown",
   "metadata": {},
   "source": [
    "Next, expand the _CUDA_ -> _Unified memory_ and _Context_ timelines, and close the _Threads_ timelines:"
   ]
  },
  {
   "cell_type": "markdown",
   "metadata": {},
   "source": [
    "![open memory](./images/open-memory.png)"
   ]
  },
  {
   "cell_type": "markdown",
   "metadata": {},
   "source": [
    "### Observe Many Memory Transfers"
   ]
  },
  {
   "cell_type": "markdown",
   "metadata": {},
   "source": [
    "From a glance you can see that your application is taking about 1 second to run, and that also, during the time when the `addVectorsInto` kernel is running, that there is a lot of UM memory activity:"
   ]
  },
  {
   "cell_type": "markdown",
   "metadata": {},
   "source": [
    "![memory and kernel](./images/memory-and-kernel.png)"
   ]
  },
  {
   "cell_type": "markdown",
   "metadata": {},
   "source": [
    "Zoom into the memory timelines to see more clearly all the small memory transfers being caused by the on-demand memory page faults. A couple tips:\n",
    "\n",
    "1. You can zoom in and out at any point of the timeline by holding `CTRL` while scrolling your mouse/trackpad\n",
    "2. You can zoom into any section by click + dragging a rectangle around it, and then selecting _Zoom in_"
   ]
  },
  {
   "cell_type": "markdown",
   "metadata": {},
   "source": [
    "Here's an example of zooming in to see the many small memory transfers:"
   ]
  },
  {
   "cell_type": "markdown",
   "metadata": {},
   "source": [
    "![many transfers](./images/many-transfers.png)"
   ]
  },
  {
   "cell_type": "markdown",
   "metadata": {},
   "source": [
    "---\n",
    "## Comparing Code Refactors Iteratively with Nsight Systems"
   ]
  },
  {
   "cell_type": "markdown",
   "metadata": {},
   "source": [
    "Now that you have Nsight Systems up and running and are comfortable moving around the timelines, you will be profiling a series of programs that were iteratively improved using techniques already familiar to you. Each time you profile, information in the timeline will give information supporting how you should next modify your code. Doing this will further increase your understanding of how various CUDA programming techniques affect application performance."
   ]
  },
  {
   "cell_type": "markdown",
   "metadata": {},
   "source": [
    "### Exercise: Compare the Timelines of Prefetching vs. Non-Prefetching\n",
    "\n",
    "[`01-vector-add-prefetch-solution.cu`](../edit/01-vector-add/solutions/01-vector-add-prefetch-solution.cu) refactors the vector addition application from above so that the 3 vectors needed by its `addVectorsInto` kernel are asynchronously prefetched to the active GPU device prior to launching the kernel (using [`cudaMemPrefetchAsync`](http://docs.nvidia.com/cuda/cuda-runtime-api/group__CUDART__MEMORY.html#group__CUDART__MEMORY_1ge8dc9199943d421bc8bc7f473df12e42)). Open the source code and identify where in the application these changes were made.\n",
    "\n",
    "After reviewing the changes, compile and run the refactored application using the code execution cell directly below. You should see its success message printed."
   ]
  },
  {
   "cell_type": "markdown",
   "metadata": {},
   "source": [
    "![Prefetching vs Non-Prefetching](./images/no-prefetch-vs-prefetch.png)\n",
    "- We observe from the above image that the CUDA function `cudaMemPrefetchAsync()` was called three times to prefetch the memory of the relevant vectors respectively"
   ]
  },
  {
   "cell_type": "code",
   "execution_count": 8,
   "metadata": {},
   "outputs": [
    {
     "name": "stdout",
     "output_type": "stream",
     "text": [
      "Success! All values calculated correctly.\n"
     ]
    }
   ],
   "source": [
    "!nvcc -o ../src/session3/bin/vector-add-prefetch ../src/session3/01-vector-add-prefetch-solution.cu -run"
   ]
  },
  {
   "cell_type": "markdown",
   "metadata": {},
   "source": [
    "Now create a report file for this version of the application:"
   ]
  },
  {
   "cell_type": "code",
   "execution_count": 9,
   "metadata": {},
   "outputs": [
    {
     "name": "stdout",
     "output_type": "stream",
     "text": [
      "Success! All values calculated correctly.\n",
      "Generating '/tmp/nsys-report-9c14.qdstrm'\n",
      "[1/8] [========================100%] vector-add-prefetch-report.nsys-rep\n",
      "[2/8] [========================100%] vector-add-prefetch-report.sqlite\n",
      "[3/8] Executing 'nvtxsum' stats report\n",
      "SKIPPED: /home/alfredo/projects/cuda-c-cpp/notebooks/../src/session3/bin/vector-add-prefetch-report.sqlite does not contain NV Tools Extension (NVTX) data.\n",
      "[4/8] Executing 'osrtsum' stats report\n",
      "\n",
      "Operating System Runtime API Statistics:\n",
      "\n",
      " Time (%)  Total Time (ns)  Num Calls    Avg (ns)       Med (ns)    Min (ns)   Max (ns)     StdDev (ns)        Name     \n",
      " --------  ---------------  ---------  -------------  ------------  --------  -----------  -------------  --------------\n",
      "     48.3      863,806,063         56   15,425,108.3  10,068,983.0     1,912  100,138,728   21,769,441.1  poll          \n",
      "     39.6      707,682,477          6  117,947,079.5  12,704,163.5   402,485  591,609,132  234,455,711.9  sem_wait      \n",
      "      5.7      102,459,113         44    2,328,616.2   2,060,621.0     8,689   20,541,956    3,387,552.4  sem_timedwait \n",
      "      5.3       94,152,662        509      184,975.8       7,081.0     1,024   22,254,400    1,509,270.3  ioctl         \n",
      "      1.0       17,215,157         24      717,298.2       7,209.5     1,196    6,340,516    1,926,022.3  mmap          \n",
      "      0.1        1,478,406         42       35,200.1       6,717.0     3,368      594,534      109,997.0  mmap64        \n",
      "      0.1        1,025,356          6      170,892.7     175,363.5    50,610      383,066      121,998.9  pthread_create\n",
      "      0.0          440,004         59        7,457.7       7,268.0     2,932       16,242        2,203.3  open64        \n",
      "      0.0          140,313         43        3,263.1       2,702.0     1,132       11,076        2,086.0  fopen         \n",
      "      0.0           76,964          6       12,827.3       6,474.5     3,168       46,918       16,930.4  fgets         \n",
      "      0.0           48,191         10        4,819.1       4,523.0     1,811       11,220        2,783.8  munmap        \n",
      "      0.0           40,528         28        1,447.4       1,341.0     1,076        2,750          393.3  fclose        \n",
      "      0.0           24,891          8        3,111.4       2,119.0     1,224       11,440        3,397.5  write         \n",
      "      0.0           23,598          7        3,371.1       2,276.0     1,592        9,480        2,851.8  fread         \n",
      "      0.0           21,174          5        4,234.8       3,370.0     2,198        7,199        2,066.9  open          \n",
      "      0.0           15,621         10        1,562.1       1,426.0     1,151        2,475          442.3  read          \n",
      "      0.0           11,353          1       11,353.0      11,353.0    11,353       11,353            0.0  connect       \n",
      "      0.0            9,872          2        4,936.0       4,936.0     2,315        7,557        3,706.7  socket        \n",
      "      0.0            7,607          1        7,607.0       7,607.0     7,607        7,607            0.0  pipe2         \n",
      "      0.0            4,962          3        1,654.0       1,047.0     1,029        2,886        1,067.0  fcntl         \n",
      "      0.0            2,865          1        2,865.0       2,865.0     2,865        2,865            0.0  fopen64       \n",
      "      0.0            1,609          1        1,609.0       1,609.0     1,609        1,609            0.0  bind          \n",
      "\n",
      "[5/8] Executing 'cudaapisum' stats report\n",
      "\n",
      "CUDA API Statistics:\n",
      "\n",
      " Time (%)  Total Time (ns)  Num Calls    Avg (ns)      Med (ns)     Min (ns)    Max (ns)    StdDev (ns)            Name         \n",
      " --------  ---------------  ---------  ------------  ------------  ----------  -----------  ------------  ----------------------\n",
      "     55.4      109,845,335          3  36,615,111.7      53,121.0      14,027  109,778,187  63,361,084.9  cudaMallocManaged     \n",
      "     30.8       61,013,279          1  61,013,279.0  61,013,279.0  61,013,279   61,013,279           0.0  cudaDeviceSynchronize \n",
      "      8.7       17,282,315          3   5,760,771.7   5,510,042.0   5,378,032    6,394,241     552,557.0  cudaFree              \n",
      "      5.1       10,022,108          3   3,340,702.7     886,894.0      30,803    9,104,411   5,009,837.6  cudaMemPrefetchAsync  \n",
      "      0.0           72,983          1      72,983.0      72,983.0      72,983       72,983           0.0  cudaLaunchKernel      \n",
      "      0.0              606          1         606.0         606.0         606          606           0.0  cuModuleGetLoadingMode\n",
      "\n",
      "[6/8] Executing 'gpukernsum' stats report\n",
      "\n",
      "CUDA Kernel Statistics:\n",
      "\n",
      " Time (%)  Total Time (ns)  Instances   Avg (ns)     Med (ns)    Min (ns)   Max (ns)   StdDev (ns)                       Name                     \n",
      " --------  ---------------  ---------  -----------  -----------  ---------  ---------  -----------  ----------------------------------------------\n",
      "    100.0        2,699,870          1  2,699,870.0  2,699,870.0  2,699,870  2,699,870          0.0  addVectorsInto(float *, float *, float *, int)\n",
      "\n",
      "[7/8] Executing 'gpumemtimesum' stats report\n",
      "\n",
      "CUDA Memory Operation Statistics (by time):\n",
      "\n",
      " Time (%)  Total Time (ns)  Count  Avg (ns)   Med (ns)   Min (ns)  Max (ns)   StdDev (ns)              Operation            \n",
      " --------  ---------------  -----  ---------  ---------  --------  ---------  -----------  ---------------------------------\n",
      "     76.1       66,295,012    192  345,286.5  333,128.0   326,120  1,388,000     89,498.4  [CUDA Unified Memory memcpy HtoD]\n",
      "     23.9       20,781,542    768   27,059.3    6,623.5       926    220,965     46,241.4  [CUDA Unified Memory memcpy DtoH]\n",
      "\n",
      "[8/8] Executing 'gpumemsizesum' stats report\n",
      "\n",
      "CUDA Memory Operation Statistics (by size):\n",
      "\n",
      " Total (MB)  Count  Avg (MB)  Med (MB)  Min (MB)  Max (MB)  StdDev (MB)              Operation            \n",
      " ----------  -----  --------  --------  --------  --------  -----------  ---------------------------------\n",
      "    402.653    192     2.097     2.097     2.097     2.097        0.000  [CUDA Unified Memory memcpy HtoD]\n",
      "    134.218    768     0.175     0.033     0.004     1.044        0.301  [CUDA Unified Memory memcpy DtoH]\n",
      "\n",
      "Generated:\n",
      "    /home/alfredo/projects/cuda-c-cpp/notebooks/../src/session3/bin/vector-add-prefetch-report.nsys-rep\n",
      "    /home/alfredo/projects/cuda-c-cpp/notebooks/../src/session3/bin/vector-add-prefetch-report.sqlite\n"
     ]
    }
   ],
   "source": [
    "!nsys profile --stats=true -o ../src/session3/bin/vector-add-prefetch-report ../src/session3/bin/vector-add-prefetch"
   ]
  },
  {
   "cell_type": "markdown",
   "metadata": {},
   "source": [
    "Open the report in Nsight Systems, leaving the previous report open for comparison.\n",
    "\n",
    "- How does the execution time compare to that of the `addVectorsInto` kernel prior to adding asynchronous prefetching?\n",
    "- Locate `cudaMemPrefetchAsync` in the *CUDA API* section of the timeline.\n",
    "- How have the memory transfers changed?"
   ]
  },
  {
   "cell_type": "markdown",
   "metadata": {},
   "source": [
    "* The comparison can be shown here:\n",
    "![prefetching vs non-prefetching](./images/prefetching-vs-non-prefetching.png)\n",
    "- From the above we note:\n",
    "1. Without memory prefetching to run the kernel page faults are encountered\n",
    "2. With prefetching one get for this exercise an optimization of 10% on the execution time\n",
    "3. The execution of the kernel is significantly faster than without prefetching\n",
    "![prefetching vs non-prefetching](./images/prefetching-vs-non-prefetching-zoom-in.png)"
   ]
  },
  {
   "cell_type": "markdown",
   "metadata": {},
   "source": [
    "\n",
    "### Exercise: Profile Refactor with Launch Init in Kernel\n",
    "\n",
    "In the previous iteration of the vector addition application, the vector data is being initialized on the CPU, and therefore needs to be migrated to the GPU before the `addVectorsInto` kernel can operate on it.\n",
    "\n",
    "The next iteration of the application, [01-init-kernel-solution.cu](../edit/02-init-kernel/solutions/01-init-kernel-solution.cu), the application has been refactored to initialize the data in parallel on the GPU.\n",
    "\n",
    "Since the initialization now takes place on the GPU, prefetching has been done prior to initialization, rather than prior to the vector addition work. Review the source code to identify where these changes have been made.\n",
    "\n",
    "After reviewing the changes, compile and run the refactored application using the code execution cell directly below. You should see its success message printed."
   ]
  },
  {
   "cell_type": "markdown",
   "metadata": {},
   "source": [
    "- The difference between prefetching prior to the initialization rather than prior to the vector addition work:\n",
    "![prefetching at init vs prefetching before work](./images/prefetch-before-and-after-init.png)"
   ]
  },
  {
   "cell_type": "code",
   "execution_count": 11,
   "metadata": {},
   "outputs": [
    {
     "name": "stdout",
     "output_type": "stream",
     "text": [
      "Success! All values calculated correctly.\n"
     ]
    }
   ],
   "source": [
    "!nvcc -o ../src/session3/bin/init-kernel ../src/session3/01-init-kernel-solution.cu -run"
   ]
  },
  {
   "cell_type": "markdown",
   "metadata": {},
   "source": [
    "Now create a report file for this version of the application:"
   ]
  },
  {
   "cell_type": "code",
   "execution_count": 12,
   "metadata": {},
   "outputs": [
    {
     "name": "stdout",
     "output_type": "stream",
     "text": [
      "Success! All values calculated correctly.\n",
      "Generating '/tmp/nsys-report-59ee.qdstrm'\n",
      "[1/8] [========================100%] init-kernel-report.nsys-rep\n",
      "[2/8] [========================100%] init-kernel-report.sqlite\n",
      "[3/8] Executing 'nvtxsum' stats report\n",
      "SKIPPED: /home/alfredo/projects/cuda-c-cpp/notebooks/../src/session3/bin/init-kernel-report.sqlite does not contain NV Tools Extension (NVTX) data.\n",
      "[4/8] Executing 'osrtsum' stats report\n",
      "\n",
      "Operating System Runtime API Statistics:\n",
      "\n",
      " Time (%)  Total Time (ns)  Num Calls    Avg (ns)       Med (ns)    Min (ns)   Max (ns)     StdDev (ns)        Name     \n",
      " --------  ---------------  ---------  -------------  ------------  --------  -----------  -------------  --------------\n",
      "     46.5      411,378,623          3  137,126,207.7  89,012,222.0   905,661  321,460,740  165,605,272.8  sem_wait      \n",
      "     38.5      340,927,065         27   12,626,928.3  10,065,011.0     1,010  100,115,307   19,894,018.2  poll          \n",
      "      7.0       61,775,814         22    2,807,991.5   2,057,839.0     8,171   20,560,175    5,414,841.9  sem_timedwait \n",
      "      6.0       53,517,891        503      106,397.4       7,270.0     1,099   18,066,791    1,019,711.9  ioctl         \n",
      "      1.6       14,607,622         24      608,650.9       6,477.0     1,088    6,048,005    1,653,912.2  mmap          \n",
      "      0.2        1,556,637         42       37,062.8       6,222.0     3,096      662,939      116,115.3  mmap64        \n",
      "      0.1          705,901          5      141,180.2     182,014.0    31,284      259,698       98,018.7  pthread_create\n",
      "      0.1          507,513         59        8,601.9       7,243.0     2,673       32,885        4,929.7  open64        \n",
      "      0.0          175,418         43        4,079.5       3,509.0     1,215       11,397        2,458.8  fopen         \n",
      "      0.0          103,237          6       17,206.2      11,668.0     6,590       43,697       14,259.2  fgets         \n",
      "      0.0           53,260         11        4,841.8       2,652.0     1,460       23,554        6,362.6  munmap        \n",
      "      0.0           51,762         30        1,725.4       1,618.5     1,023        3,560          556.6  fclose        \n",
      "      0.0           35,544          9        3,949.3       2,737.0     1,092       10,941        3,162.8  fread         \n",
      "      0.0           22,851          5        4,570.2       4,649.0     2,121        6,970        1,898.4  open          \n",
      "      0.0           17,645         11        1,604.1       1,246.0     1,072        2,906          724.0  read          \n",
      "      0.0           16,773          8        2,096.6       1,548.0     1,060        4,325        1,078.4  write         \n",
      "      0.0           10,527          2        5,263.5       5,263.5     3,431        7,096        2,591.5  socket        \n",
      "      0.0            9,974          1        9,974.0       9,974.0     9,974        9,974            0.0  connect       \n",
      "      0.0            7,781          5        1,556.2       1,313.0     1,027        2,691          671.4  fcntl         \n",
      "      0.0            7,205          1        7,205.0       7,205.0     7,205        7,205            0.0  pipe2         \n",
      "      0.0            5,229          1        5,229.0       5,229.0     5,229        5,229            0.0  fopen64       \n",
      "      0.0            1,667          1        1,667.0       1,667.0     1,667        1,667            0.0  bind          \n",
      "      0.0            1,013          1        1,013.0       1,013.0     1,013        1,013            0.0  listen        \n",
      "\n",
      "[5/8] Executing 'cudaapisum' stats report\n",
      "\n",
      "CUDA API Statistics:\n",
      "\n",
      " Time (%)  Total Time (ns)  Num Calls    Avg (ns)     Med (ns)    Min (ns)    Max (ns)    StdDev (ns)            Name         \n",
      " --------  ---------------  ---------  ------------  -----------  ---------  -----------  ------------  ----------------------\n",
      "     83.7      109,522,416          3  36,507,472.0     51,337.0     14,903  109,456,176  63,175,433.5  cudaMallocManaged     \n",
      "     11.1       14,564,712          3   4,854,904.0  4,294,581.0  4,198,316    6,071,815   1,054,974.4  cudaFree              \n",
      "      4.3        5,597,173          1   5,597,173.0  5,597,173.0  5,597,173    5,597,173           0.0  cudaDeviceSynchronize \n",
      "      0.9        1,191,762          3     397,254.0    387,057.0    385,402      419,303      19,112.9  cudaMemPrefetchAsync  \n",
      "      0.0           32,406          4       8,101.5      3,383.5      2,485       23,154      10,051.3  cudaLaunchKernel      \n",
      "      0.0              927          1         927.0        927.0        927          927           0.0  cuModuleGetLoadingMode\n",
      "\n",
      "[6/8] Executing 'gpukernsum' stats report\n",
      "\n",
      "CUDA Kernel Statistics:\n",
      "\n",
      " Time (%)  Total Time (ns)  Instances   Avg (ns)     Med (ns)    Min (ns)   Max (ns)   StdDev (ns)                       Name                     \n",
      " --------  ---------------  ---------  -----------  -----------  ---------  ---------  -----------  ----------------------------------------------\n",
      "     51.4        2,857,250          3    952,416.7    949,590.0    937,045    970,615     16,962.6  initWith(float, float *, int)                 \n",
      "     48.6        2,697,214          1  2,697,214.0  2,697,214.0  2,697,214  2,697,214          0.0  addVectorsInto(float *, float *, float *, int)\n",
      "\n",
      "[7/8] Executing 'gpumemtimesum' stats report\n",
      "\n",
      "CUDA Memory Operation Statistics (by time):\n",
      "\n",
      " Time (%)  Total Time (ns)  Count  Avg (ns)  Med (ns)  Min (ns)  Max (ns)  StdDev (ns)              Operation            \n",
      " --------  ---------------  -----  --------  --------  --------  --------  -----------  ---------------------------------\n",
      "    100.0       21,162,314    768  27,555.1   7,775.5       926   418,505     48,238.1  [CUDA Unified Memory memcpy DtoH]\n",
      "\n",
      "[8/8] Executing 'gpumemsizesum' stats report\n",
      "\n",
      "CUDA Memory Operation Statistics (by size):\n",
      "\n",
      " Total (MB)  Count  Avg (MB)  Med (MB)  Min (MB)  Max (MB)  StdDev (MB)              Operation            \n",
      " ----------  -----  --------  --------  --------  --------  -----------  ---------------------------------\n",
      "    134.218    768     0.175     0.033     0.004     1.044        0.301  [CUDA Unified Memory memcpy DtoH]\n",
      "\n",
      "Generated:\n",
      "    /home/alfredo/projects/cuda-c-cpp/notebooks/../src/session3/bin/init-kernel-report.nsys-rep\n",
      "    /home/alfredo/projects/cuda-c-cpp/notebooks/../src/session3/bin/init-kernel-report.sqlite\n"
     ]
    }
   ],
   "source": [
    "!nsys profile --stats=true -o ../src/session3/bin/init-kernel-report ../src/session3/bin/init-kernel"
   ]
  },
  {
   "cell_type": "markdown",
   "metadata": {},
   "source": [
    "Open the new report file in Nsight Systems and do the following:\n",
    "\n",
    "- Compare the application and `addVectorsInto` run times to the previous version of the application, how did they change?\n",
    "- Look at the *Kernels* section of the timeline. Which of the two kernels (`addVectorsInto` and the initialization kernel) is taking up the majority of the time on the GPU?\n",
    "- Which of the following does your application contain?\n",
    "  - Data Migration (HtoD)\n",
    "  - Data Migration (DtoH)"
   ]
  },
  {
   "cell_type": "markdown",
   "metadata": {},
   "source": [
    "---\n",
    "- The initialization in the kernel now has an improvement of 100%, its runtime is 320 ms while the previous solution with only prefetching before the work is done took 600 ms \n",
    "- The initialization kernel is taking most of the time:\n",
    "![init kernel takes time](./images/init-kernel-vs-add-vectors-into-kernel.png)\n",
    "- Contains only DtoH (see image above)"
   ]
  },
  {
   "cell_type": "markdown",
   "metadata": {},
   "source": [
    "### Exercise: Profile Refactor with Asynchronous Prefetch Back to the Host\n",
    "\n",
    "Currently, the vector addition application verifies the work of the vector addition kernel on the host. The next refactor of the application, [01-prefetch-check-solution.cu](../edit/04-prefetch-check/solutions/01-prefetch-check-solution.cu), asynchronously prefetches the data back to the host for verification.\n",
    "\n",
    "After reviewing the changes, compile and run the refactored application using the code execution cell directly below. You should see its success message printed."
   ]
  },
  {
   "cell_type": "code",
   "execution_count": 13,
   "metadata": {},
   "outputs": [
    {
     "name": "stdout",
     "output_type": "stream",
     "text": [
      "Success! All values calculated correctly.\n"
     ]
    }
   ],
   "source": [
    "!nvcc -o ../src/session3/bin/prefetch-to-host ../src/session3/01-prefetch-check-solution.cu -run"
   ]
  },
  {
   "cell_type": "markdown",
   "metadata": {},
   "source": [
    "Now create a report file for this version of the application:"
   ]
  },
  {
   "cell_type": "code",
   "execution_count": 14,
   "metadata": {},
   "outputs": [
    {
     "name": "stdout",
     "output_type": "stream",
     "text": [
      "Success! All values calculated correctly.\n",
      "Generating '/tmp/nsys-report-0642.qdstrm'\n",
      "[1/8] [========================100%] prefetch-to-host-report.nsys-rep\n",
      "[2/8] [========================100%] prefetch-to-host-report.sqlite\n",
      "[3/8] Executing 'nvtxsum' stats report\n",
      "SKIPPED: /home/alfredo/projects/cuda-c-cpp/notebooks/../src/session3/bin/prefetch-to-host-report.sqlite does not contain NV Tools Extension (NVTX) data.\n",
      "[4/8] Executing 'osrtsum' stats report\n",
      "\n",
      "Operating System Runtime API Statistics:\n",
      "\n",
      " Time (%)  Total Time (ns)  Num Calls    Avg (ns)       Med (ns)    Min (ns)   Max (ns)     StdDev (ns)        Name     \n",
      " --------  ---------------  ---------  -------------  ------------  --------  -----------  -------------  --------------\n",
      "     45.7      379,783,143          3  126,594,381.0  87,677,697.0   747,384  291,358,062  149,162,739.2  sem_wait      \n",
      "     37.4      311,064,687         23   13,524,551.6  10,067,175.0    37,606  100,127,067   21,598,054.2  poll          \n",
      "      9.0       74,461,442        505      147,448.4       7,709.0     1,029   21,740,356    1,412,686.7  ioctl         \n",
      "      5.9       49,394,226         19    2,599,696.1   2,052,330.0    17,033   20,532,184    5,078,278.6  sem_timedwait \n",
      "      1.7       13,937,414         24      580,725.6       6,475.5     1,240    5,280,555    1,560,095.4  mmap          \n",
      "      0.2        1,489,832         42       35,472.2       6,467.0     3,189      615,801      109,497.0  mmap64        \n",
      "      0.1          711,090          5      142,218.0     191,314.0    31,423      263,897      105,129.2  pthread_create\n",
      "      0.1          499,527         59        8,466.6       7,244.0     2,959       23,736        3,958.0  open64        \n",
      "      0.0          161,587         43        3,757.8       3,332.0     1,292       12,151        2,409.6  fopen         \n",
      "      0.0           90,147          6       15,024.5      11,146.0     6,471       37,756       11,723.5  fgets         \n",
      "      0.0           51,013         30        1,700.4       1,581.5     1,043        3,220          495.8  fclose        \n",
      "      0.0           47,594         11        4,326.7       4,651.0     1,278       12,029        3,061.2  munmap        \n",
      "      0.0           22,415          5        4,483.0       5,474.0     2,128        6,033        1,718.9  open          \n",
      "      0.0           22,095          8        2,761.9       2,362.0     1,302        7,416        1,942.9  fread         \n",
      "      0.0           19,714         13        1,516.5       1,192.0     1,000        2,885          661.5  read          \n",
      "      0.0           10,262          2        5,131.0       5,131.0     3,075        7,187        2,907.6  socket        \n",
      "      0.0            9,559          6        1,593.2       1,663.0     1,001        2,020          410.7  write         \n",
      "      0.0            9,390          6        1,565.0       1,311.0     1,028        3,200          821.2  fcntl         \n",
      "      0.0            8,745          1        8,745.0       8,745.0     8,745        8,745            0.0  connect       \n",
      "      0.0            7,296          1        7,296.0       7,296.0     7,296        7,296            0.0  pipe2         \n",
      "      0.0            5,365          1        5,365.0       5,365.0     5,365        5,365            0.0  fopen64       \n",
      "      0.0            1,896          1        1,896.0       1,896.0     1,896        1,896            0.0  bind          \n",
      "\n",
      "[5/8] Executing 'cudaapisum' stats report\n",
      "\n",
      "CUDA API Statistics:\n",
      "\n",
      " Time (%)  Total Time (ns)  Num Calls    Avg (ns)     Med (ns)    Min (ns)    Max (ns)    StdDev (ns)            Name         \n",
      " --------  ---------------  ---------  ------------  -----------  ---------  -----------  ------------  ----------------------\n",
      "     71.3      108,153,396          3  36,051,132.0     57,040.0     12,763  108,083,593  62,381,945.1  cudaMallocManaged     \n",
      "     15.2       22,969,082          4   5,742,270.5    406,469.5    385,413   21,770,730  10,685,651.3  cudaMemPrefetchAsync  \n",
      "      9.2       13,930,692          3   4,643,564.0  4,326,105.0  4,271,957    5,332,630     597,362.5  cudaFree              \n",
      "      4.3        6,506,305          1   6,506,305.0  6,506,305.0  6,506,305    6,506,305           0.0  cudaDeviceSynchronize \n",
      "      0.0           32,859          4       8,214.8      3,272.5      2,462       23,852      10,442.4  cudaLaunchKernel      \n",
      "      0.0              615          1         615.0        615.0        615          615           0.0  cuModuleGetLoadingMode\n",
      "\n",
      "[6/8] Executing 'gpukernsum' stats report\n",
      "\n",
      "CUDA Kernel Statistics:\n",
      "\n",
      " Time (%)  Total Time (ns)  Instances   Avg (ns)     Med (ns)    Min (ns)   Max (ns)   StdDev (ns)                       Name                     \n",
      " --------  ---------------  ---------  -----------  -----------  ---------  ---------  -----------  ----------------------------------------------\n",
      "     56.8        3,668,757          1  3,668,757.0  3,668,757.0  3,668,757  3,668,757          0.0  addVectorsInto(float *, float *, float *, int)\n",
      "     43.2        2,792,577          3    930,859.0    934,869.0    918,742    938,966     10,691.7  initWith(float, float *, int)                 \n",
      "\n",
      "[7/8] Executing 'gpumemtimesum' stats report\n",
      "\n",
      "CUDA Memory Operation Statistics (by time):\n",
      "\n",
      " Time (%)  Total Time (ns)  Count  Avg (ns)   Med (ns)   Min (ns)  Max (ns)  StdDev (ns)              Operation            \n",
      " --------  ---------------  -----  ---------  ---------  --------  --------  -----------  ---------------------------------\n",
      "    100.0       21,381,807     64  334,090.7  320,455.5   319,239   426,346     25,644.6  [CUDA Unified Memory memcpy DtoH]\n",
      "\n",
      "[8/8] Executing 'gpumemsizesum' stats report\n",
      "\n",
      "CUDA Memory Operation Statistics (by size):\n",
      "\n",
      " Total (MB)  Count  Avg (MB)  Med (MB)  Min (MB)  Max (MB)  StdDev (MB)              Operation            \n",
      " ----------  -----  --------  --------  --------  --------  -----------  ---------------------------------\n",
      "    134.218     64     2.097     2.097     2.097     2.097        0.000  [CUDA Unified Memory memcpy DtoH]\n",
      "\n",
      "Generated:\n",
      "    /home/alfredo/projects/cuda-c-cpp/notebooks/../src/session3/bin/prefetch-to-host-report.nsys-rep\n",
      "    /home/alfredo/projects/cuda-c-cpp/notebooks/../src/session3/bin/prefetch-to-host-report.sqlite\n"
     ]
    }
   ],
   "source": [
    "!nsys profile --stats=true -o ../src/session3/bin/prefetch-to-host-report ../src/session3/bin/prefetch-to-host"
   ]
  },
  {
   "cell_type": "markdown",
   "metadata": {},
   "source": [
    "Open this report file in Nsight Systems, and do the following:\n",
    "\n",
    "- Use the *Unified Memory* section of the timeline to compare and contrast the *Data Migration (DtoH)* events before and after adding prefetching back to the CPU."
   ]
  },
  {
   "cell_type": "markdown",
   "metadata": {},
   "source": [
    "---\n",
    "The difference now is:\n",
    "![prefetching solution check](./images/prefetch-check-solution.png)\n",
    "- DtoH migration has no longer page faults!\n",
    "- At this point page faults have been remove completely by first removing HtoD data migration (this was obtained when one init vectors directly on the GPU) and then by prefetching the check solution on the host."
   ]
  },
  {
   "cell_type": "markdown",
   "metadata": {},
   "source": [
    "---\n",
    "## Concurrent CUDA Streams"
   ]
  },
  {
   "cell_type": "markdown",
   "metadata": {},
   "source": [
    "You are now going to learn about a new concept, **CUDA Streams**. After an introduction to them, you will return to using Nsight Systems to better evaluate their impact on your application's performance."
   ]
  },
  {
   "cell_type": "markdown",
   "metadata": {},
   "source": [
    "The following slides present upcoming material visually, at a high level. Click through the slides before moving on to more detailed coverage of their topics in following sections."
   ]
  },
  {
   "cell_type": "code",
   "execution_count": 16,
   "metadata": {},
   "outputs": [
    {
     "data": {
      "text/html": [
       "\n",
       "<div align=\"center\"><iframe src=\"https://view.officeapps.live.com/op/view.aspx?src=https://developer.download.nvidia.com/training/courses/C-AC-01-V1/embedded/task3/NVVP-Streams-1.pptx\" width=\"800px\" height=\"500px\" frameborder=\"0\"></iframe></div>\n"
      ],
      "text/plain": [
       "<IPython.core.display.HTML object>"
      ]
     },
     "metadata": {},
     "output_type": "display_data"
    }
   ],
   "source": [
    "%%HTML\n",
    "\n",
    "<div align=\"center\"><iframe src=\"https://view.officeapps.live.com/op/view.aspx?src=https://developer.download.nvidia.com/training/courses/C-AC-01-V1/embedded/task3/NVVP-Streams-1.pptx\" width=\"800px\" height=\"500px\" frameborder=\"0\"></iframe></div>"
   ]
  },
  {
   "cell_type": "markdown",
   "metadata": {},
   "source": [
    "In CUDA programming, a **stream** is a series of commands that execute in order. In CUDA applications, kernel execution, as well as some memory transfers, occur within CUDA streams. Up until this point in time, you have not been interacting explicitly with CUDA streams, but in fact, your CUDA code has been executing its kernels inside of a stream called *the default stream*.\n",
    "\n",
    "CUDA programmers can create and utilize non-default CUDA streams in addition to the default stream, and in doing so, perform multiple operations, such as executing multiple kernels, concurrently, in different streams. Using multiple streams can add an additional layer of parallelization to your accelerated applications, and offers many more opportunities for application optimization."
   ]
  },
  {
   "cell_type": "markdown",
   "metadata": {},
   "source": [
    "### Rules Governing the Behavior of CUDA Streams\n",
    "\n",
    "There are a few rules, concerning the behavior of CUDA streams, that should be learned in order to utilize them effectively:\n",
    "\n",
    "- Operations within a given stream occur in order.\n",
    "- Operations in different non-default streams are not guaranteed to operate in any specific order relative to each other.\n",
    "- The default stream is blocking and will both wait for all other streams to complete before running, and, will block other streams from running until it completes."
   ]
  },
  {
   "cell_type": "markdown",
   "metadata": {},
   "source": [
    "### Creating, Utilizing, and Destroying Non-Default CUDA Streams\n",
    "\n",
    "The following code snippet demonstrates how to create, utilize, and destroy a non-default CUDA stream. You will note, that to launch a CUDA kernel in a non-default CUDA stream, the stream must be passed as the optional 4th argument of the execution configuration. Up until now you have only utilized the first 2 arguments of the execution configuration:\n",
    "\n",
    "```cpp\n",
    "cudaStream_t stream;       // CUDA streams are of type `cudaStream_t`.\n",
    "cudaStreamCreate(&stream); // Note that a pointer must be passed to `cudaCreateStream`.\n",
    "\n",
    "someKernel<<<number_of_blocks, threads_per_block, 0, stream>>>(); // `stream` is passed as 4th EC argument.\n",
    "\n",
    "cudaStreamDestroy(stream); // Note that a value, not a pointer, is passed to `cudaDestroyStream`.\n",
    "```\n",
    "\n",
    "Outside the scope of this lab, but worth mentioning, is the optional 3rd argument of the execution configuration. This argument allows programmers to supply the number of bytes in **shared memory** (an advanced topic that will not be covered presently) to be dynamically allocated per block for this kernel launch. The default number of bytes allocated to shared memory per block is `0`, and for the remainder of the lab, you will be passing `0` as this value, in order to expose the 4th argument, which is of immediate interest:"
   ]
  },
  {
   "cell_type": "markdown",
   "metadata": {},
   "source": [
    "### Exercise: Predict Default Stream Behavior\n",
    "\n",
    "The [01-print-numbers](../edit/05-stream-intro/01-print-numbers.cu) application has a very simple `printNumber` kernel which accepts an integer and prints it. The kernel is only being executed with a single thread inside a single block. However, it is being executed 5 times, using a for-loop, and passing each launch the number of the for-loop's iteration.\n",
    "\n",
    "Compile and run [01-print-numbers](../edit/05-stream-intro/01-print-numbers.cu) using the code execution block below. You should see the numbers `0` through `4` printed."
   ]
  },
  {
   "cell_type": "code",
   "execution_count": 17,
   "metadata": {},
   "outputs": [
    {
     "name": "stdout",
     "output_type": "stream",
     "text": [
      "0\n",
      "1\n",
      "2\n",
      "3\n",
      "4\n"
     ]
    }
   ],
   "source": [
    "!nvcc -o ../src/session3/bin/print-numbers ../src/session3/01-print-numbers.cu -run"
   ]
  },
  {
   "cell_type": "markdown",
   "metadata": {},
   "source": [
    "Knowing that by default kernels are executed in the default stream, would you expect that the 5 launches of the `print-numbers` program executed serially, or in parallel? You should be able to mention two features of the default stream to support your answer. Create a report file in the cell below and open it in Nsight Systems to confirm your answer."
   ]
  },
  {
   "cell_type": "markdown",
   "metadata": {},
   "source": [
    "- Serially because: (1) the default stream executes one instruction at the time and (2) the default stream will block other streams until it has finished its execution"
   ]
  },
  {
   "cell_type": "code",
   "execution_count": 18,
   "metadata": {},
   "outputs": [
    {
     "name": "stdout",
     "output_type": "stream",
     "text": [
      "0\n",
      "1\n",
      "2\n",
      "3\n",
      "4\n",
      "Generating '/tmp/nsys-report-c06f.qdstrm'\n",
      "[1/8] [========================100%] print-numbers-report.nsys-rep\n",
      "[2/8] [========================100%] print-numbers-report.sqlite\n",
      "[3/8] Executing 'nvtxsum' stats report\n",
      "SKIPPED: /home/alfredo/projects/cuda-c-cpp/notebooks/../src/session3/bin/print-numbers-report.sqlite does not contain NV Tools Extension (NVTX) data.\n",
      "[4/8] Executing 'osrtsum' stats report\n",
      "\n",
      "Operating System Runtime API Statistics:\n",
      "\n",
      " Time (%)  Total Time (ns)  Num Calls    Avg (ns)      Med (ns)    Min (ns)   Max (ns)     StdDev (ns)        Name     \n",
      " --------  ---------------  ---------  ------------  ------------  --------  -----------  -------------  --------------\n",
      "     51.6      152,650,073          2  76,325,036.5  76,325,036.5   716,146  151,933,927  106,927,118.4  sem_wait      \n",
      "     29.3       86,639,436         12   7,219,953.0   1,183,562.5     1,093   38,742,161   12,913,301.1  poll          \n",
      "     17.9       52,991,373        493     107,487.6       7,469.0     1,141   18,671,038    1,059,354.6  ioctl         \n",
      "      0.5        1,417,418         42      33,748.0       6,305.5     3,277      595,644      106,774.3  mmap64        \n",
      "      0.2          705,440         10      70,544.0      32,210.0    28,473      380,079      109,206.6  sem_timedwait \n",
      "      0.2          525,006          5     105,001.2      52,433.0    32,798      209,542       89,167.9  pthread_create\n",
      "      0.2          446,768         59       7,572.3       7,342.0     2,691       18,013        2,452.3  open64        \n",
      "      0.0          136,277         16       8,517.3       6,509.5     1,190       34,097        8,244.3  mmap          \n",
      "      0.0          133,076         43       3,094.8       2,734.0     1,053       10,614        1,681.3  fopen         \n",
      "      0.0           69,052          6      11,508.7       6,855.5     3,524       38,140       13,320.2  fgets         \n",
      "      0.0           38,505         28       1,375.2       1,340.0     1,020        2,683          347.9  fclose        \n",
      "      0.0           32,324          7       4,617.7       2,717.0     1,588       12,020        3,842.5  fread         \n",
      "      0.0           21,991          5       4,398.2       3,601.0     2,451        6,812        1,834.8  open          \n",
      "      0.0           20,264         14       1,447.4       1,206.5     1,115        2,595          416.5  read          \n",
      "      0.0           19,115          5       3,823.0       3,573.0     2,195        5,722        1,523.5  munmap        \n",
      "      0.0           16,221          9       1,802.3       1,422.0     1,099        2,948          693.7  write         \n",
      "      0.0           13,222          2       6,611.0       6,611.0     5,073        8,149        2,175.1  socket        \n",
      "      0.0           10,876          1      10,876.0      10,876.0    10,876       10,876            0.0  connect       \n",
      "      0.0            6,922          1       6,922.0       6,922.0     6,922        6,922            0.0  pipe2         \n",
      "      0.0            5,800          3       1,933.3       1,219.0     1,176        3,405        1,274.7  fcntl         \n",
      "      0.0            2,926          1       2,926.0       2,926.0     2,926        2,926            0.0  fopen64       \n",
      "      0.0            1,382          1       1,382.0       1,382.0     1,382        1,382            0.0  bind          \n",
      "\n",
      "[5/8] Executing 'cudaapisum' stats report\n",
      "\n",
      "CUDA API Statistics:\n",
      "\n",
      " Time (%)  Total Time (ns)  Num Calls    Avg (ns)    Med (ns)   Min (ns)   Max (ns)   StdDev (ns)            Name         \n",
      " --------  ---------------  ---------  ------------  ---------  --------  ----------  ------------  ----------------------\n",
      "     99.8       87,289,118          5  17,457,823.6    2,432.0     2,021  87,278,135  39,030,740.6  cudaLaunchKernel      \n",
      "      0.2          150,807          1     150,807.0  150,807.0   150,807     150,807           0.0  cudaDeviceSynchronize \n",
      "      0.0              929          1         929.0      929.0       929         929           0.0  cuModuleGetLoadingMode\n",
      "\n",
      "[6/8] Executing 'gpukernsum' stats report\n",
      "\n",
      "CUDA Kernel Statistics:\n",
      "\n",
      " Time (%)  Total Time (ns)  Instances  Avg (ns)  Med (ns)  Min (ns)  Max (ns)  StdDev (ns)        Name      \n",
      " --------  ---------------  ---------  --------  --------  --------  --------  -----------  ----------------\n",
      "    100.0          149,476          5  29,895.2  28,672.0    27,361    35,745      3,332.2  printNumber(int)\n",
      "\n",
      "[7/8] Executing 'gpumemtimesum' stats report\n",
      "SKIPPED: /home/alfredo/projects/cuda-c-cpp/notebooks/../src/session3/bin/print-numbers-report.sqlite does not contain GPU memory data.\n",
      "[8/8] Executing 'gpumemsizesum' stats report\n",
      "SKIPPED: /home/alfredo/projects/cuda-c-cpp/notebooks/../src/session3/bin/print-numbers-report.sqlite does not contain GPU memory data.\n",
      "Generated:\n",
      "    /home/alfredo/projects/cuda-c-cpp/notebooks/../src/session3/bin/print-numbers-report.nsys-rep\n",
      "    /home/alfredo/projects/cuda-c-cpp/notebooks/../src/session3/bin/print-numbers-report.sqlite\n"
     ]
    }
   ],
   "source": [
    "!nsys profile --stats=true -o ../src/session3/bin/print-numbers-report ../src/session3/bin/print-numbers"
   ]
  },
  {
   "cell_type": "markdown",
   "metadata": {},
   "source": [
    "- The printing of the numbers occurs in a single thread:\n",
    "![default stream printing numbers](./images/print-numbers-in-default-stream.png)"
   ]
  },
  {
   "cell_type": "markdown",
   "metadata": {},
   "source": [
    "### Exercise: Implement Concurrent CUDA Streams\n",
    "\n",
    "Both because all 5 kernel launches occurred in the same stream, you should not be surprised to have seen that the 5 kernels executed serially. Additionally you could make the case that because the default stream is blocking, each launch of the kernel would wait to complete before the next launch, and this is also true.\n",
    "\n",
    "Refactor [01-print-numbers](../edit/05-stream-intro/01-print-numbers.cu) so that each kernel launch occurs in its own non-default stream. Be sure to destroy the streams you create after they are no longer needed. Compile and run the refactored code with the code execution cell directly below. You should still see the numbers `0` through `4` printed, though not necessarily in ascending order. Refer to [the solution](../edit/05-stream-intro/solutions/01-print-numbers-solution.cu) if you get stuck."
   ]
  },
  {
   "cell_type": "code",
   "execution_count": 22,
   "metadata": {},
   "outputs": [
    {
     "name": "stdout",
     "output_type": "stream",
     "text": [
      "0\n",
      "1\n",
      "2\n",
      "3\n",
      "4\n"
     ]
    }
   ],
   "source": [
    "!nvcc -o ../src/session3/bin/print-numbers-in-streams ../src/session3/01-print-numbers.cu -run"
   ]
  },
  {
   "cell_type": "markdown",
   "metadata": {},
   "source": [
    "Now that you are using 5 different non-default streams for each of the 5 kernel launches, do you expect that they will run serially or in parallel? In addition to what you now know about streams, take into account how trivial the `printNumber` kernel is, meaning, even if you predict parallel runs, will the speed at which one kernel will complete allow for complete overlap?\n",
    "\n",
    "After hypothesizing, open a new report file in Nsight Systems to view its actual behavior. You should notice that now, there are additional rows in the _CUDA_ section for each of the non-default streams you created:"
   ]
  },
  {
   "cell_type": "code",
   "execution_count": 23,
   "metadata": {},
   "outputs": [
    {
     "name": "stdout",
     "output_type": "stream",
     "text": [
      "0\n",
      "1\n",
      "2\n",
      "3\n",
      "4\n",
      "Generating '/tmp/nsys-report-f332.qdstrm'\n",
      "[1/8] [========================100%] print-numbers-in-streams-report.nsys-rep\n",
      "[2/8] [========================100%] print-numbers-in-streams-report.sqlite\n",
      "[3/8] Executing 'nvtxsum' stats report\n",
      "SKIPPED: /home/alfredo/projects/cuda-c-cpp/notebooks/../src/session3/bin/print-numbers-in-streams-report.sqlite does not contain NV Tools Extension (NVTX) data.\n",
      "[4/8] Executing 'osrtsum' stats report\n",
      "\n",
      "Operating System Runtime API Statistics:\n",
      "\n",
      " Time (%)  Total Time (ns)  Num Calls    Avg (ns)      Med (ns)    Min (ns)   Max (ns)     StdDev (ns)        Name     \n",
      " --------  ---------------  ---------  ------------  ------------  --------  -----------  -------------  --------------\n",
      "     51.3      160,355,659          2  80,177,829.5  80,177,829.5   910,487  159,445,172  112,100,950.8  sem_wait      \n",
      "     29.5       92,170,484         12   7,680,873.7   1,166,639.5     1,915   39,933,412   13,463,941.9  poll          \n",
      "     17.9       55,917,996        495     112,965.6       7,716.0     1,023   19,040,223    1,057,994.7  ioctl         \n",
      "      0.6        1,757,592         42      41,847.4       6,380.5     3,194      796,699      136,984.2  mmap64        \n",
      "      0.2          668,706         10      66,870.6      36,052.0    19,417      367,369      106,244.2  sem_timedwait \n",
      "      0.2          646,657          5     129,331.4     170,648.0    52,164      189,568       70,438.3  pthread_create\n",
      "      0.2          474,180         59       8,036.9       7,495.0     2,657       16,656        2,451.4  open64        \n",
      "      0.0          138,528         17       8,148.7       6,904.0     1,180       34,107        8,177.2  mmap          \n",
      "      0.0          128,649         43       2,991.8       2,780.0     1,018       10,619        1,713.7  fopen         \n",
      "      0.0           67,388          6      11,231.3       6,359.0     3,403       37,557       13,171.0  fgets         \n",
      "      0.0           38,709         28       1,382.5       1,312.0     1,012        2,848          358.3  fclose        \n",
      "      0.0           27,917          5       5,583.4       4,294.0     1,334       13,060        4,422.5  munmap        \n",
      "      0.0           21,142          5       4,228.4       3,291.0     2,374        6,580        2,022.6  open          \n",
      "      0.0           18,690          7       2,670.0       2,032.0     1,570        6,843        1,889.0  fread         \n",
      "      0.0           17,956         12       1,496.3       1,225.0     1,078        2,312          444.3  read          \n",
      "      0.0           14,897          8       1,862.1       1,714.5     1,005        3,162          777.3  write         \n",
      "      0.0           10,173          2       5,086.5       5,086.5     2,615        7,558        3,495.2  socket        \n",
      "      0.0            9,779          1       9,779.0       9,779.0     9,779        9,779            0.0  connect       \n",
      "      0.0            6,750          1       6,750.0       6,750.0     6,750        6,750            0.0  pipe2         \n",
      "      0.0            3,462          1       3,462.0       3,462.0     3,462        3,462            0.0  fopen64       \n",
      "      0.0            2,912          1       2,912.0       2,912.0     2,912        2,912            0.0  fcntl         \n",
      "      0.0            1,794          1       1,794.0       1,794.0     1,794        1,794            0.0  bind          \n",
      "\n",
      "[5/8] Executing 'cudaapisum' stats report\n",
      "\n",
      "CUDA API Statistics:\n",
      "\n",
      " Time (%)  Total Time (ns)  Num Calls    Avg (ns)    Med (ns)  Min (ns)   Max (ns)   StdDev (ns)            Name         \n",
      " --------  ---------------  ---------  ------------  --------  --------  ----------  ------------  ----------------------\n",
      "     99.9       92,926,581          5  18,585,316.2   1,645.0     1,384  92,919,437  41,554,036.8  cudaStreamCreate      \n",
      "      0.1           51,940          5      10,388.0   3,687.0     3,075      36,723      14,740.8  cudaLaunchKernel      \n",
      "      0.0           44,664          1      44,664.0  44,664.0    44,664      44,664           0.0  cudaDeviceSynchronize \n",
      "      0.0           13,975          5       2,795.0   2,187.0     2,107       5,242       1,369.6  cudaStreamDestroy     \n",
      "      0.0              596          1         596.0     596.0       596         596           0.0  cuModuleGetLoadingMode\n",
      "\n",
      "[6/8] Executing 'gpukernsum' stats report\n",
      "\n",
      "CUDA Kernel Statistics:\n",
      "\n",
      " Time (%)  Total Time (ns)  Instances  Avg (ns)  Med (ns)  Min (ns)  Max (ns)  StdDev (ns)        Name      \n",
      " --------  ---------------  ---------  --------  --------  --------  --------  -----------  ----------------\n",
      "    100.0          157,381          5  31,476.2  29,569.0    28,961    36,897      3,323.4  printNumber(int)\n",
      "\n",
      "[7/8] Executing 'gpumemtimesum' stats report\n",
      "SKIPPED: /home/alfredo/projects/cuda-c-cpp/notebooks/../src/session3/bin/print-numbers-in-streams-report.sqlite does not contain GPU memory data.\n",
      "[8/8] Executing 'gpumemsizesum' stats report\n",
      "SKIPPED: /home/alfredo/projects/cuda-c-cpp/notebooks/../src/session3/bin/print-numbers-in-streams-report.sqlite does not contain GPU memory data.\n",
      "Generated:\n",
      "    /home/alfredo/projects/cuda-c-cpp/notebooks/../src/session3/bin/print-numbers-in-streams-report.nsys-rep\n",
      "    /home/alfredo/projects/cuda-c-cpp/notebooks/../src/session3/bin/print-numbers-in-streams-report.sqlite\n"
     ]
    }
   ],
   "source": [
    "!nsys profile --stats=true -o ../src/session3/bin/print-numbers-in-streams-report ../src/session3/bin/print-numbers-in-streams"
   ]
  },
  {
   "cell_type": "markdown",
   "metadata": {},
   "source": [
    "![streams print](./images/streams-print.png)"
   ]
  },
  {
   "cell_type": "markdown",
   "metadata": {},
   "source": [
    "- The solution after using non-default streams is:\n",
    "![non-default-streams-usage](./images/print-non-default-streams.png)"
   ]
  },
  {
   "cell_type": "markdown",
   "metadata": {},
   "source": [
    "### Exercise: Use Streams for Concurrent Data Initialization Kernels\n",
    "\n",
    "The vector addition application you have been working with, [01-prefetch-check-solution.cu](../edit/04-prefetch-check/solutions/01-prefetch-check-solution.cu), currently launches an initialization kernel 3 times - once each for each of the 3 vectors needing initialization for the `vectorAdd` kernel. Refactor it to launch each of the 3 initialization kernel launches in their own non-default stream. You should still see the success message print when compiling and running with the code execution cell below. Refer to [the solution](../edit/06-stream-init/solutions/01-stream-init-solution.cu) if you get stuck."
   ]
  },
  {
   "cell_type": "code",
   "execution_count": 30,
   "metadata": {},
   "outputs": [
    {
     "name": "stdout",
     "output_type": "stream",
     "text": [
      "Success! All values calculated correctly.\n"
     ]
    }
   ],
   "source": [
    "!nvcc -o ../src/session3/bin/init-in-streams ../src/session3/01-prefetch-check-solution.cu -run"
   ]
  },
  {
   "cell_type": "markdown",
   "metadata": {},
   "source": [
    "Open a report in Nsight Systems to confirm that your 3 initialization kernel launches are running in their own non-default streams, with some degree of concurrent overlap."
   ]
  },
  {
   "cell_type": "code",
   "execution_count": 31,
   "metadata": {},
   "outputs": [
    {
     "name": "stdout",
     "output_type": "stream",
     "text": [
      "Success! All values calculated correctly.\n",
      "Generating '/tmp/nsys-report-740f.qdstrm'\n",
      "[1/8] [========================100%] init-in-streams-report.nsys-rep\n",
      "[2/8] [========================100%] init-in-streams-report.sqlite\n",
      "[3/8] Executing 'nvtxsum' stats report\n",
      "SKIPPED: /home/alfredo/projects/cuda-c-cpp/notebooks/../src/session3/bin/init-in-streams-report.sqlite does not contain NV Tools Extension (NVTX) data.\n",
      "[4/8] Executing 'osrtsum' stats report\n",
      "\n",
      "Operating System Runtime API Statistics:\n",
      "\n",
      " Time (%)  Total Time (ns)  Num Calls    Avg (ns)       Med (ns)    Min (ns)   Max (ns)     StdDev (ns)        Name     \n",
      " --------  ---------------  ---------  -------------  ------------  --------  -----------  -------------  --------------\n",
      "     44.6      365,498,691          3  121,832,897.0  86,453,057.0   865,420  278,180,214  142,002,371.6  sem_wait      \n",
      "     37.9      310,610,071         24   12,942,086.3  10,065,807.0     1,031  100,130,467   21,330,433.5  poll          \n",
      "      9.1       74,526,418        509      146,417.3       6,999.0     1,001   21,186,867    1,412,043.2  ioctl         \n",
      "      6.5       52,840,367         19    2,781,071.9   2,056,099.0     8,162   20,555,131    5,474,853.4  sem_timedwait \n",
      "      1.6       12,745,631         24      531,068.0       6,125.0     1,041    4,206,054    1,416,112.8  mmap          \n",
      "      0.2        1,396,750         42       33,256.0       6,253.5     3,082      567,348      102,917.4  mmap64        \n",
      "      0.1          643,376          5      128,675.2     190,701.0    30,069      195,252       87,793.3  pthread_create\n",
      "      0.1          464,961         59        7,880.7       7,389.0     2,607       23,741        2,963.8  open64        \n",
      "      0.0          131,247         43        3,052.3       2,728.0     1,013        8,661        1,698.7  fopen         \n",
      "      0.0           67,673          6       11,278.8       6,470.5     3,573       37,498       13,081.7  fgets         \n",
      "      0.0           41,320         26        1,589.2       1,366.0     1,043        6,124          979.4  fclose        \n",
      "      0.0           32,870         11        2,988.2       2,461.0     1,427        5,597        1,413.7  munmap        \n",
      "      0.0           21,055          5        4,211.0       3,439.0     2,097        6,557        1,891.5  open          \n",
      "      0.0           20,363          8        2,545.4       1,944.5     1,342        7,327        1,970.7  fread         \n",
      "      0.0           16,925         12        1,410.4       1,208.0     1,072        2,641          450.9  read          \n",
      "      0.0           11,822          7        1,688.9       1,506.0     1,047        2,313          497.4  write         \n",
      "      0.0           10,867          2        5,433.5       5,433.5     2,948        7,919        3,515.0  socket        \n",
      "      0.0            9,644          1        9,644.0       9,644.0     9,644        9,644            0.0  connect       \n",
      "      0.0            8,939          6        1,489.8       1,252.5     1,104        2,896          692.5  fcntl         \n",
      "      0.0            7,340          1        7,340.0       7,340.0     7,340        7,340            0.0  pipe2         \n",
      "      0.0            2,826          1        2,826.0       2,826.0     2,826        2,826            0.0  fopen64       \n",
      "      0.0            1,707          1        1,707.0       1,707.0     1,707        1,707            0.0  bind          \n",
      "\n",
      "[5/8] Executing 'cudaapisum' stats report\n",
      "\n",
      "CUDA API Statistics:\n",
      "\n",
      " Time (%)  Total Time (ns)  Num Calls    Avg (ns)     Med (ns)    Min (ns)    Max (ns)    StdDev (ns)            Name         \n",
      " --------  ---------------  ---------  ------------  -----------  ---------  -----------  ------------  ----------------------\n",
      "     72.4      106,948,439          3  35,649,479.7     43,506.0     14,434  106,890,499  61,696,534.2  cudaMallocManaged     \n",
      "     15.2       22,412,365          4   5,603,091.3    407,171.5    385,813   21,212,209  10,406,087.5  cudaMemPrefetchAsync  \n",
      "      8.6       12,705,539          3   4,235,179.7  4,228,157.0  4,222,501    4,254,881      17,294.6  cudaFree              \n",
      "      3.8        5,541,662          1   5,541,662.0  5,541,662.0  5,541,662    5,541,662           0.0  cudaDeviceSynchronize \n",
      "      0.0           35,111          4       8,777.8      4,341.5      3,201       23,227       9,656.6  cudaLaunchKernel      \n",
      "      0.0           31,935          3      10,645.0      2,613.0      2,064       27,258      14,389.9  cudaStreamDestroy     \n",
      "      0.0           22,108          3       7,369.3      1,618.0      1,434       19,056      10,121.4  cudaStreamCreate      \n",
      "      0.0              844          1         844.0        844.0        844          844           0.0  cuModuleGetLoadingMode\n",
      "\n",
      "[6/8] Executing 'gpukernsum' stats report\n",
      "\n",
      "CUDA Kernel Statistics:\n",
      "\n",
      " Time (%)  Total Time (ns)  Instances   Avg (ns)     Med (ns)    Min (ns)   Max (ns)   StdDev (ns)                       Name                     \n",
      " --------  ---------------  ---------  -----------  -----------  ---------  ---------  -----------  ----------------------------------------------\n",
      "     55.8        3,417,007          3  1,139,002.3  1,129,914.0  1,075,801  1,211,292     68,201.2  initWith(float, float *, int)                 \n",
      "     44.2        2,709,663          1  2,709,663.0  2,709,663.0  2,709,663  2,709,663          0.0  addVectorsInto(float *, float *, float *, int)\n",
      "\n",
      "[7/8] Executing 'gpumemtimesum' stats report\n",
      "\n",
      "CUDA Memory Operation Statistics (by time):\n",
      "\n",
      " Time (%)  Total Time (ns)  Count  Avg (ns)   Med (ns)   Min (ns)  Max (ns)  StdDev (ns)              Operation            \n",
      " --------  ---------------  -----  ---------  ---------  --------  --------  -----------  ---------------------------------\n",
      "    100.0       20,834,754     64  325,543.0  319,319.5   319,239   485,899     23,744.4  [CUDA Unified Memory memcpy DtoH]\n",
      "\n",
      "[8/8] Executing 'gpumemsizesum' stats report\n",
      "\n",
      "CUDA Memory Operation Statistics (by size):\n",
      "\n",
      " Total (MB)  Count  Avg (MB)  Med (MB)  Min (MB)  Max (MB)  StdDev (MB)              Operation            \n",
      " ----------  -----  --------  --------  --------  --------  -----------  ---------------------------------\n",
      "    134.218     64     2.097     2.097     2.097     2.097        0.000  [CUDA Unified Memory memcpy DtoH]\n",
      "\n",
      "Generated:\n",
      "    /home/alfredo/projects/cuda-c-cpp/notebooks/../src/session3/bin/init-in-streams-report.nsys-rep\n",
      "    /home/alfredo/projects/cuda-c-cpp/notebooks/../src/session3/bin/init-in-streams-report.sqlite\n"
     ]
    }
   ],
   "source": [
    "!nsys profile --stats=true -o ../src/session3/bin/init-in-streams-report ../src/session3/bin/init-in-streams"
   ]
  },
  {
   "cell_type": "markdown",
   "metadata": {},
   "source": [
    "- The initialization of each vector is now done each in a separated non-default stream:\n",
    "![init of vectors in non default streams](./images/non-default-streams-to-init.png)"
   ]
  },
  {
   "cell_type": "markdown",
   "metadata": {},
   "source": [
    "---\n",
    "## Summary\n",
    "\n",
    "At this point in the lab you are able to:\n",
    "\n",
    "- Use the **Nsight Systems** to visually profile the timeline of GPU-accelerated CUDA applications.\n",
    "- Use Nsight Systems to identify, and exploit, optimization opportunities in GPU-accelerated CUDA applications.\n",
    "- Utilize CUDA streams for concurrent kernel execution in accelerated applications.\n",
    "\n",
    "At this point in time you have a wealth of fundamental tools and techniques for accelerating CPU-only applications, and for then optimizing those accelerated applications. In the final exercise, you will have a chance to apply everything that you've learned to accelerate an [n-body](https://en.wikipedia.org/wiki/N-body_problem) simulator, which predicts the individual motions of a group of objects interacting with each other gravitationally."
   ]
  },
  {
   "cell_type": "markdown",
   "metadata": {},
   "source": [
    "---\n",
    "## Final Exercise: Accelerate and Optimize an N-Body Simulator\n",
    "\n",
    "An [n-body](https://en.wikipedia.org/wiki/N-body_problem) simulator predicts the individual motions of a group of objects interacting with each other gravitationally. [01-nbody.cu](../edit/09-nbody/01-nbody.cu) contains a simple, though working, n-body simulator for bodies moving through 3 dimensional space.\n",
    "\n",
    "In its current CPU-only form, this application takes about 5 seconds to run on 4096 particles, and **20 minutes** to run on 65536 particles. Your task is to GPU accelerate the program, retaining the correctness of the simulation."
   ]
  },
  {
   "cell_type": "markdown",
   "metadata": {},
   "source": [
    "### Considerations to Guide Your Work\n",
    "\n",
    "Here are some things to consider before beginning your work:\n",
    "\n",
    "- Especially for your first refactors, the logic of the application, the `bodyForce` function in particular, can and should remain largely unchanged: focus on accelerating it as easily as possible.\n",
    "- The code base contains a for-loop inside `main` for integrating the interbody forces calculated by `bodyForce` into the positions of the bodies in the system. This integration both needs to occur after `bodyForce` runs, and, needs to complete before the next call to `bodyForce`. Keep this in mind when choosing how and where to parallelize.\n",
    "- Use a **profile driven** and iterative approach.\n",
    "- You are not required to add error handling to your code, but you might find it helpful, as you are responsible for your code working correctly.\n",
    "\n",
    "**Have Fun!**"
   ]
  },
  {
   "cell_type": "markdown",
   "metadata": {},
   "source": [
    "Use this cell to compile the nbody simulator. Although it is initially a CPU-only application, is does accurately simulate the positions of the particles."
   ]
  },
  {
   "cell_type": "code",
   "execution_count": 45,
   "metadata": {
    "scrolled": true
   },
   "outputs": [],
   "source": [
    "!nvcc -std=c++11 -o ../src/session3/bin/nbody ../src/session3/01-nbody.cu -run"
   ]
  },
  {
   "cell_type": "markdown",
   "metadata": {},
   "source": [
    "It is highly recommended you use the profiler to assist your work. Execute the following cell to generate a report file:"
   ]
  },
  {
   "cell_type": "code",
   "execution_count": 40,
   "metadata": {},
   "outputs": [
    {
     "name": "stdout",
     "output_type": "stream",
     "text": [
      "0.054 Billion Interactions / second\n",
      "Generating '/tmp/nsys-report-6f34.qdstrm'\n",
      "[1/8] [========================100%] nbody-report.nsys-rep\n",
      "[2/8] [========================100%] nbody-report.sqlite\n",
      "[3/8] Executing 'nvtxsum' stats report\n",
      "SKIPPED: /home/alfredo/projects/cuda-c-cpp/notebooks/../src/session3/bin/nbody-report.sqlite does not contain NV Tools Extension (NVTX) data.\n",
      "[4/8] Executing 'osrtsum' stats report\n",
      "\n",
      "Operating System Runtime API Statistics:\n",
      "\n",
      " Time (%)  Total Time (ns)  Num Calls  Avg (ns)  Med (ns)  Min (ns)  Max (ns)  StdDev (ns)   Name  \n",
      " --------  ---------------  ---------  --------  --------  --------  --------  -----------  -------\n",
      "    100.0           22,406          2  11,203.0  11,203.0     8,257    14,149      4,166.3  fopen64\n",
      "\n",
      "[5/8] Executing 'cudaapisum' stats report\n",
      "SKIPPED: /home/alfredo/projects/cuda-c-cpp/notebooks/../src/session3/bin/nbody-report.sqlite does not contain CUDA trace data.\n",
      "[6/8] Executing 'gpukernsum' stats report\n",
      "SKIPPED: /home/alfredo/projects/cuda-c-cpp/notebooks/../src/session3/bin/nbody-report.sqlite does not contain CUDA kernel data.\n",
      "[7/8] Executing 'gpumemtimesum' stats report\n",
      "SKIPPED: /home/alfredo/projects/cuda-c-cpp/notebooks/../src/session3/bin/nbody-report.sqlite does not contain GPU memory data.\n",
      "[8/8] Executing 'gpumemsizesum' stats report\n",
      "SKIPPED: /home/alfredo/projects/cuda-c-cpp/notebooks/../src/session3/bin/nbody-report.sqlite does not contain GPU memory data.\n",
      "Generated:\n",
      "    /home/alfredo/projects/cuda-c-cpp/notebooks/../src/session3/bin/nbody-report.nsys-rep\n",
      "    /home/alfredo/projects/cuda-c-cpp/notebooks/../src/session3/bin/nbody-report.sqlite\n"
     ]
    }
   ],
   "source": [
    "!nsys profile --stats=true --force-overwrite=true -o ../src/session3/bin/nbody-report ../src/session3/bin/nbody"
   ]
  },
  {
   "cell_type": "markdown",
   "metadata": {},
   "source": [
    "Here we import a function that will run your `nbody` simulator against a various number of particles, checking for performance and accuracy."
   ]
  },
  {
   "cell_type": "code",
   "execution_count": 41,
   "metadata": {},
   "outputs": [
    {
     "ename": "ModuleNotFoundError",
     "evalue": "No module named 'assessment'",
     "output_type": "error",
     "traceback": [
      "\u001b[0;31m---------------------------------------------------------------------------\u001b[0m",
      "\u001b[0;31mModuleNotFoundError\u001b[0m                       Traceback (most recent call last)",
      "Input \u001b[0;32mIn [41]\u001b[0m, in \u001b[0;36m<cell line: 1>\u001b[0;34m()\u001b[0m\n\u001b[0;32m----> 1\u001b[0m \u001b[38;5;28;01mfrom\u001b[39;00m \u001b[38;5;21;01massessment\u001b[39;00m \u001b[38;5;28;01mimport\u001b[39;00m run_assessment\n",
      "\u001b[0;31mModuleNotFoundError\u001b[0m: No module named 'assessment'"
     ]
    }
   ],
   "source": [
    "from assessment import run_assessment"
   ]
  },
  {
   "cell_type": "markdown",
   "metadata": {},
   "source": [
    "Execute the following cell to run and assess `nbody`:"
   ]
  },
  {
   "cell_type": "code",
   "execution_count": null,
   "metadata": {
    "scrolled": true
   },
   "outputs": [],
   "source": [
    "run_assessment()"
   ]
  },
  {
   "cell_type": "markdown",
   "metadata": {},
   "source": [
    "## Generate a Certificate"
   ]
  },
  {
   "cell_type": "markdown",
   "metadata": {},
   "source": [
    "If you passed the assessment, please return to the course page (shown below) and click the \"ASSESS TASK\" button, which will generate your certificate for the course."
   ]
  },
  {
   "cell_type": "markdown",
   "metadata": {},
   "source": [
    "![run_assessment](./images/run_assessment.png)"
   ]
  },
  {
   "cell_type": "markdown",
   "metadata": {},
   "source": [
    "## Advanced Content\n",
    "\n",
    "The following sections, for those of you with time and interest, introduce more intermediate techniques involving some manual device memory management, and using non-default streams to overlap kernel execution and memory copies.\n",
    "\n",
    "After learning about each of the techniques below, try to further optimize your nbody simulation using these techniques."
   ]
  },
  {
   "cell_type": "markdown",
   "metadata": {},
   "source": [
    "---\n",
    "## Manual Device Memory Allocation and Copying\n",
    "\n",
    "While `cudaMallocManaged` and `cudaMemPrefetchAsync` are performant, and greatly simplify memory migration, sometimes it can be worth it to use more manual methods for memory allocation. This is particularly true when it is known that data will only be accessed on the device or host, and the cost of migrating data can be reclaimed in exchange for the fact that no automatic on-demand migration is needed.\n",
    "\n",
    "Additionally, using manual device memory management can allow for the use of non-default streams for overlapping data transfers with computational work. In this section you will learn some basic manual device memory allocation and copy techniques, before extending these techniques to overlap data copies with computational work. \n",
    "\n",
    "Here are some CUDA commands for manual device memory management:\n",
    "\n",
    "- `cudaMalloc` will allocate memory directly to the active GPU. This prevents all GPU page faults. In exchange, the pointer it returns is not available for access by host code.\n",
    "- `cudaMallocHost` will allocate memory directly to the CPU. It also \"pins\" the memory, or page locks it, which will allow for asynchronous copying of the memory to and from a GPU. Too much pinned memory can interfere with CPU performance, so use it only with intention. Pinned memory should be freed with `cudaFreeHost`.\n",
    "- `cudaMemcpy` can copy (not transfer) memory, either from host to device or from device to host."
   ]
  },
  {
   "cell_type": "markdown",
   "metadata": {},
   "source": [
    "### Manual Device Memory Management Example\n",
    "\n",
    "Here is a snippet of code that demonstrates the use of the above CUDA API calls.\n",
    "\n",
    "```cpp\n",
    "int *host_a, *device_a;        // Define host-specific and device-specific arrays.\n",
    "cudaMalloc(&device_a, size);   // `device_a` is immediately available on the GPU.\n",
    "cudaMallocHost(&host_a, size); // `host_a` is immediately available on CPU, and is page-locked, or pinned.\n",
    "\n",
    "initializeOnHost(host_a, N);   // No CPU page faulting since memory is already allocated on the host.\n",
    "\n",
    "// `cudaMemcpy` takes the destination, source, size, and a CUDA-provided variable for the direction of the copy.\n",
    "cudaMemcpy(device_a, host_a, size, cudaMemcpyHostToDevice);\n",
    "\n",
    "kernel<<<blocks, threads, 0, someStream>>>(device_a, N);\n",
    "\n",
    "// `cudaMemcpy` can also copy data from device to host.\n",
    "cudaMemcpy(host_a, device_a, size, cudaMemcpyDeviceToHost);\n",
    "\n",
    "verifyOnHost(host_a, N);\n",
    "\n",
    "cudaFree(device_a);\n",
    "cudaFreeHost(host_a);          // Free pinned memory like this.\n",
    "```"
   ]
  },
  {
   "cell_type": "markdown",
   "metadata": {},
   "source": [
    "### Exercise: Manually Allocate Host and Device Memory\n",
    "\n",
    "The most recent iteration of the vector addition application, [01-stream-init-solution](../edit/06-stream-init/solutions/01-stream-init-solution.cu), is using `cudaMallocManaged` to allocate managed memory first used on the device by the initialization kernels, then on the device by the vector add kernel, and then by the host, where the memory is automatically transferred, for verification. This is a sensible approach, but it is worth experimenting with some manual device memory allocation and copying to observe its impact on the application's performance.\n",
    "\n",
    "Refactor the [01-stream-init-solution](../edit/06-stream-init/solutions/01-stream-init-solution.cu) application to **not** use `cudaMallocManaged`. In order to do this you will need to do the following:\n",
    "\n",
    "- Replace calls to `cudaMallocManaged` with `cudaMalloc`.\n",
    "- Create an additional vector that will be used for verification on the host. This is required since the memory allocated with `cudaMalloc` is not available to the host. Allocate this host vector with `cudaMallocHost`.\n",
    "- After the `addVectorsInto` kernel completes, use `cudaMemcpy` to copy the vector with the addition results, into the host vector you created with `cudaMallocHost`.\n",
    "- Use `cudaFreeHost` to free the memory allocated with `cudaMallocHost`.\n",
    "\n",
    "Refer to [the solution](../edit/07-manual-malloc/solutions/01-manual-malloc-solution.cu) if you get stuck."
   ]
  },
  {
   "cell_type": "code",
   "execution_count": null,
   "metadata": {},
   "outputs": [],
   "source": [
    "!nvcc -o vector-add-manual-alloc 06-stream-init/solutions/01-stream-init-solution.cu -run"
   ]
  },
  {
   "cell_type": "markdown",
   "metadata": {},
   "source": [
    "After completing the refactor, open a report in Nsight Systems, and use the timeline to do the following:\n",
    "\n",
    "- Notice that there is no longer a *Unified Memory* section of the timeline.\n",
    "- Comparing this timeline to that of the previous refactor, compare the run times of `cudaMalloc` in the current application vs. `cudaMallocManaged` in the previous.\n",
    "- Notice how in the current application, work on the initialization kernels does not start until a later time than it did in the previous iteration. Examination of the timeline will show the difference is the time taken by `cudaMallocHost`. This clearly points out the difference between memory transfers, and memory copies. When copying memory, as you are doing presently, the data will exist in 2 different places in the system. In the current case, the allocation of the 4th host-only vector incurs a small cost in performance, compared to only allocating 3 vectors in the previous iteration."
   ]
  },
  {
   "cell_type": "markdown",
   "metadata": {},
   "source": [
    "---\n",
    "## Using Streams to Overlap Data Transfers and Code Execution\n",
    "\n",
    "The following slides present upcoming material visually, at a high level. Click through the slides before moving on to more detailed coverage of their topics in following sections."
   ]
  },
  {
   "cell_type": "code",
   "execution_count": null,
   "metadata": {},
   "outputs": [],
   "source": [
    "%%HTML\n",
    "\n",
    "<div align=\"center\"><iframe src=\"https://view.officeapps.live.com/op/view.aspx?src=https://developer.download.nvidia.com/training/courses/C-AC-01-V1/embedded/task3/NVVP-Streams-3.pptx\" width=\"800px\" height=\"500px\" frameborder=\"0\"></iframe></div>"
   ]
  },
  {
   "cell_type": "markdown",
   "metadata": {},
   "source": [
    "In addition to `cudaMemcpy` is `cudaMemcpyAsync` which can asynchronously copy memory either from host to device or from device to host as long as the host memory is pinned, which can be done by allocating it with `cudaMallocHost`.\n",
    "\n",
    "Similar to kernel execution, `cudaMemcpyAsync` is only asynchronous by default with respect to the host. It executes, by default, in the default stream and therefore is a blocking operation with regard to other CUDA operations occurring on the GPU. The `cudaMemcpyAsync` function, however, takes as an optional 5th argument, a non-default stream. By passing it a non-default stream, the memory transfer can be concurrent to other CUDA operations occurring in other non-default streams.\n",
    "\n",
    "A common and useful pattern is to use a combination of pinned host memory, asynchronous memory copies in non-default streams, and kernel executions in non-default streams, to overlap memory transfers with kernel execution.\n",
    "\n",
    "In the following example, rather than wait for the entire memory copy to complete before beginning work on the kernel, segments of the required data are copied and worked on, with each copy/work segment running in its own non-default stream. Using this technique, work on parts of the data can begin while memory transfers for later segments occur concurrently. Extra care must be taken when using this technique to calculate segment-specific values for the number of operations, and the offset location inside arrays, as shown here:\n",
    "\n",
    "```cpp\n",
    "int N = 2<<24;\n",
    "int size = N * sizeof(int);\n",
    "\n",
    "int *host_array;\n",
    "int *device_array;\n",
    "\n",
    "cudaMallocHost(&host_array, size);               // Pinned host memory allocation.\n",
    "cudaMalloc(&device_array, size);                 // Allocation directly on the active GPU device.\n",
    "\n",
    "initializeData(host_array, N);                   // Assume this application needs to initialize on the host.\n",
    "\n",
    "const int numberOfSegments = 4;                  // This example demonstrates slicing the work into 4 segments.\n",
    "int segmentN = N / numberOfSegments;             // A value for a segment's worth of `N` is needed.\n",
    "size_t segmentSize = size / numberOfSegments;    // A value for a segment's worth of `size` is needed.\n",
    "\n",
    "// For each of the 4 segments...\n",
    "for (int i = 0; i < numberOfSegments; ++i)\n",
    "{\n",
    "  // Calculate the index where this particular segment should operate within the larger arrays.\n",
    "  segmentOffset = i * segmentN;\n",
    "\n",
    "  // Create a stream for this segment's worth of copy and work.\n",
    "  cudaStream_t stream;\n",
    "  cudaStreamCreate(&stream);\n",
    "  \n",
    "  // Asynchronously copy segment's worth of pinned host memory to device over non-default stream.\n",
    "  cudaMemcpyAsync(&device_array[segmentOffset],  // Take care to access correct location in array.\n",
    "                  &host_array[segmentOffset],    // Take care to access correct location in array.\n",
    "                  segmentSize,                   // Only copy a segment's worth of memory.\n",
    "                  cudaMemcpyHostToDevice,\n",
    "                  stream);                       // Provide optional argument for non-default stream.\n",
    "                  \n",
    "  // Execute segment's worth of work over same non-default stream as memory copy.\n",
    "  kernel<<<number_of_blocks, threads_per_block, 0, stream>>>(&device_array[segmentOffset], segmentN);\n",
    "  \n",
    "  // `cudaStreamDestroy` will return immediately (is non-blocking), but will not actually destroy stream until\n",
    "  // all stream operations are complete.\n",
    "  cudaStreamDestroy(stream);\n",
    "}\n",
    "```"
   ]
  },
  {
   "cell_type": "markdown",
   "metadata": {},
   "source": [
    "### Exercise: Overlap Kernel Execution and Memory Copy Back to Host\n",
    "\n",
    "The most recent iteration of the vector addition application, [01-manual-malloc-solution.cu](../edit/07-manual-malloc/solutions/01-manual-malloc-solution.cu), is currently performing all of its vector addition work on the GPU before copying the memory back to the host for verification.\n",
    "\n",
    "Refactor [01-manual-malloc-solution.cu](../edit/07-manual-malloc/solutions/01-manual-malloc-solution.cu) to perform the vector addition in 4 segments, in non-default streams, so that asynchronous memory copies can begin before waiting for all vector addition work to complete. Refer to [the solution](../edit/08-overlap-xfer/solutions/01-overlap-xfer-solution.cu) if you get stuck."
   ]
  },
  {
   "cell_type": "code",
   "execution_count": null,
   "metadata": {},
   "outputs": [],
   "source": [
    "!nvcc -o vector-add-manual-alloc 07-manual-malloc/solutions/01-manual-malloc-solution.cu -run"
   ]
  },
  {
   "cell_type": "markdown",
   "metadata": {},
   "source": [
    "After completing the refactor, open a report in Nsight Systems, and use the timeline to do the following:\n",
    "\n",
    "- Note when the device to host memory transfers begin, is it before or after all kernel work has completed?\n",
    "- Notice that the 4 memory copy segments themselves do not overlap. Even in separate non-default streams, only one memory transfer in a given direction (DtoH here) at a time can occur simultaneously. The performance gains here are in the ability to start the transfers earlier than otherwise, and it is not hard to imagine in an application where a less trivial amount of work was being done compared to a simple addition operation, that the memory copies would not only start earlier, but also overlap with kernel execution."
   ]
  }
 ],
 "metadata": {
  "kernelspec": {
   "display_name": "Python 3 (ipykernel)",
   "language": "python",
   "name": "python3"
  },
  "language_info": {
   "codemirror_mode": {
    "name": "ipython",
    "version": 3
   },
   "file_extension": ".py",
   "mimetype": "text/x-python",
   "name": "python",
   "nbconvert_exporter": "python",
   "pygments_lexer": "ipython3",
   "version": "3.10.4"
  }
 },
 "nbformat": 4,
 "nbformat_minor": 4
}
