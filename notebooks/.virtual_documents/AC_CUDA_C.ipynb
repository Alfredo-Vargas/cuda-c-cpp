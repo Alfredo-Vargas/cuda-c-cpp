get_ipython().getoutput("nvidia-smi")


get_ipython().run_cell_magic("HTML", "", """
<div align="center"><iframe src="https://view.officeapps.live.com/op/view.aspx?src=https://developer.download.nvidia.com/training/courses/C-AC-01-V1/embedded/task1/AC_CUDA_C_1.pptx" width="800px" height="500px" frameborder="0"></iframe></div>""")


get_ipython().getoutput("nvcc -arch=sm_70 -o hello-gpu 01-hello/01-hello-gpu.cu -run")


get_ipython().run_cell_magic("HTML", "", """
<div align="center"><iframe src="https://view.officeapps.live.com/op/view.aspx?src=https://developer.download.nvidia.com/training/courses/C-AC-01-V1/embedded/task1/AC_CUDA_C_2.pptx" width="800px" height="500px" frameborder="0"></iframe></div>""")


get_ipython().getoutput("nvcc -arch=sm_70 -o first-parallel 02-first-parallel/01-first-parallel.cu -run")


get_ipython().run_cell_magic("HTML", "", """
<div align="center"><iframe src="https://view.officeapps.live.com/op/view.aspx?src=https://developer.download.nvidia.com/training/courses/C-AC-01-V1/embedded/task1/AC_CUDA_C_3.pptx" width="800px" height="500px" frameborder="0"></iframe></div>""")


get_ipython().getoutput("nvcc -arch=sm_70 -o thread-and-block-idx 03-indices/01-thread-and-block-idx.cu -run")


get_ipython().getoutput("nvcc -arch=sm_70 -o single-block-loop 04-loops/01-single-block-loop.cu -run")


get_ipython().run_cell_magic("HTML", "", """
<div align="center"><iframe src="https://view.officeapps.live.com/op/view.aspx?src=https://developer.download.nvidia.com/training/courses/C-AC-01-V1/embedded/task1/AC_CUDA_C_4.pptx" width="800px" height="500px" frameborder="0"></iframe></div>""")


get_ipython().getoutput("nvcc -arch=sm_70 -o multi-block-loop 04-loops/02-multi-block-loop.cu -run")


get_ipython().getoutput("nvcc -arch=sm_70 -o double-elements 05-allocate/01-double-elements.cu -run")


get_ipython().run_cell_magic("HTML", "", """
<div align="center"><iframe src="https://view.officeapps.live.com/op/view.aspx?src=https://developer.download.nvidia.com/training/courses/C-AC-01-V1/embedded/task1/AC_CUDA_C_5.pptx" width="800px" height="500px" frameborder="0"></iframe></div>""")


get_ipython().getoutput("nvcc -arch=sm_70 -o mismatched-config-loop 05-allocate/02-mismatched-config-loop.cu -run")


get_ipython().run_cell_magic("HTML", "", """
<div align="center"><iframe src="https://view.officeapps.live.com/op/view.aspx?src=https://developer.download.nvidia.com/training/courses/C-AC-01-V1/embedded/task1/AC_CUDA_C_6.pptx" width="800px" height="500px" frameborder="0"></iframe></div>""")


get_ipython().getoutput("nvcc -arch=sm_70 -o grid-stride-double 05-allocate/03-grid-stride-double.cu -run")


get_ipython().getoutput("nvcc -arch=sm_70 -o add-error-handling 06-errors/01-add-error-handling.cu -run")


get_ipython().getoutput("nvcc -arch=sm_70 -o vector-add 07-vector-add/01-vector-add.cu -run")


get_ipython().getoutput("nvcc -arch=sm_70 -o matrix-multiply-2d 08-matrix-multiply/01-matrix-multiply-2d.cu -run")


get_ipython().getoutput("nvcc -arch=sm_70 -o heat-conduction 09-heat/01-heat-conduction.cu -run")
