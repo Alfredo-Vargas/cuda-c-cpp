get_ipython().getoutput("nvcc -arch=sm_61 -o ../src/session3/bin/vector-add-no-prefetch ../src/session3/01-vector-add.cu -run")


get_ipython().getoutput("nsys profile --stats=true -o ../src/session3/bin/vector-add-no-prefetch-report ../src/session3/bin/vector-add-no-prefetch")


get_ipython().run_cell_magic("js", "", """var port = ((window.location.port == 80) ? "" : (":"+window.location.port));
var url = 'http://' + window.location.hostname + port + '/nsight/vnc.html?resize=scale';
let a = document.createElement('a');
a.setAttribute('href', url)
a.setAttribute('target', '_blank')
a.innerText = 'Click to open remote desktop'
element.append(a);""")


get_ipython().getoutput("nvcc -o ../src/session3/bin/vector-add-prefetch ../src/session3/01-vector-add-prefetch-solution.cu -run")


get_ipython().getoutput("nsys profile --stats=true -o ../src/session3/bin/vector-add-prefetch-report ../src/session3/bin/vector-add-prefetch")


get_ipython().getoutput("nvcc -o ../src/session3/bin/init-kernel ../src/session3/01-init-kernel-solution.cu -run")


get_ipython().getoutput("nsys profile --stats=true -o ../src/session3/bin/init-kernel-report ../src/session3/bin/init-kernel")


get_ipython().getoutput("nvcc -o ../src/session3/bin/prefetch-to-host ../src/session3/01-prefetch-check-solution.cu -run")


get_ipython().getoutput("nsys profile --stats=true -o ../src/session3/bin/prefetch-to-host-report ../src/session3/bin/prefetch-to-host")


get_ipython().run_cell_magic("HTML", "", """
<div align="center"><iframe src="https://view.officeapps.live.com/op/view.aspx?src=https://developer.download.nvidia.com/training/courses/C-AC-01-V1/embedded/task3/NVVP-Streams-1.pptx" width="800px" height="500px" frameborder="0"></iframe></div>""")


get_ipython().getoutput("nvcc -o ../src/session3/bin/print-numbers ../src/session3/01-print-numbers.cu -run")


get_ipython().getoutput("nsys profile --stats=true -o ../src/session3/bin/print-numbers-report ../src/session3/bin/print-numbers")


get_ipython().getoutput("nvcc -o ../src/session3/bin/print-numbers-in-streams ../src/session3/01-print-numbers.cu -run")


get_ipython().getoutput("nsys profile --stats=true -o ../src/session3/bin/print-numbers-in-streams-report ../src/session3/bin/print-numbers-in-streams")


get_ipython().getoutput("nvcc -o ../src/session3/bin/init-in-streams ../src/session3/01-prefetch-check-solution.cu -run")


get_ipython().getoutput("nsys profile --stats=true -o ../src/session3/bin/init-in-streams-report ../src/session3/bin/init-in-streams")


get_ipython().getoutput("nvcc -std=c++11 -o ../src/session3/bin/nbody ../src/session3/01-nbody.cu -run")


get_ipython().getoutput("nsys profile --stats=true --force-overwrite=true -o ../src/session3/bin/test1-nbody-report ../src/session3/bin/nbody")


from assessment import run_assessment


run_assessment()


get_ipython().getoutput("nvcc -o vector-add-manual-alloc 06-stream-init/solutions/01-stream-init-solution.cu -run")


get_ipython().run_cell_magic("HTML", "", """
<div align="center"><iframe src="https://view.officeapps.live.com/op/view.aspx?src=https://developer.download.nvidia.com/training/courses/C-AC-01-V1/embedded/task3/NVVP-Streams-3.pptx" width="800px" height="500px" frameborder="0"></iframe></div>""")


get_ipython().getoutput("nvcc -o vector-add-manual-alloc 07-manual-malloc/solutions/01-manual-malloc-solution.cu -run")
