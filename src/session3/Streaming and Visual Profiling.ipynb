{
 "cells": [
  {
   "cell_type": "markdown",
   "metadata": {},
   "source": [
    "<h1><div align=\"center\">Asynchronous Streaming, and Visual Profiling with CUDA C/C++</div></h1>"
   ]
  },
  {
   "cell_type": "markdown",
   "metadata": {},
   "source": [
    "![CUDA](./images/CUDA_Logo.jpg)"
   ]
  },
  {
   "cell_type": "markdown",
   "metadata": {},
   "source": [
    "The CUDA toolkit ships with the **Nsight Systems**, a powerful GUI application to support the development of accelerated CUDA applications. Nsight Systems generates a graphical timeline of an accelerated application, with detailed information about CUDA API calls, kernel execution, memory activity, and the use of **CUDA streams**.\n",
    "\n",
    "In this lab, you will be using the Nsight Systems timeline to guide you in optimizing accelerated applications. Additionally, you will learn some intermediate CUDA programming techniques to support your work: **unmanaged memory allocation and migration**; **pinning**, or **page-locking** host memory; and **non-default concurrent CUDA streams**.\n",
    "\n",
    "At the end of this lab, you will be presented with an assessment, to accelerate and optimize a simple n-body particle simulator, which will allow you to demonstrate the skills you have developed during this course. Those of you who are able to accelerate the simulator while maintaining its correctness, will be granted a certification as proof of your competency."
   ]
  },
  {
   "cell_type": "markdown",
   "metadata": {},
   "source": [
    "---\n",
    "## Prerequisites\n",
    "\n",
    "To get the most out of this lab you should already be able to:\n",
    "\n",
    "- Write, compile, and run C/C++ programs that both call CPU functions and launch GPU kernels.\n",
    "- Control parallel thread hierarchy using execution configuration.\n",
    "- Refactor serial loops to execute their iterations in parallel on a GPU.\n",
    "- Allocate and free CUDA Unified Memory.\n",
    "- Understand the behavior of Unified Memory with regard to page faulting and data migrations.\n",
    "- Use asynchronous memory prefetching to reduce page faults and data migrations."
   ]
  },
  {
   "cell_type": "markdown",
   "metadata": {},
   "source": [
    "## Objectives\n",
    "\n",
    "By the time you complete this lab you will be able to:\n",
    "\n",
    "- Use **Nsight Systems** to visually profile the timeline of GPU-accelerated CUDA applications.\n",
    "- Use Nsight Systems to identify, and exploit, optimization opportunities in GPU-accelerated CUDA applications.\n",
    "- Utilize CUDA streams for concurrent kernel execution in accelerated applications.\n",
    "- (**Optional Advanced Content**) Use manual device memory allocation, including allocating pinned memory, in order to asynchronously transfer data in concurrent CUDA streams."
   ]
  },
  {
   "cell_type": "markdown",
   "metadata": {},
   "source": [
    "---\n",
    "## Running Nsight Systems"
   ]
  },
  {
   "cell_type": "markdown",
   "metadata": {},
   "source": [
    "For this interactive lab environment, we have set up a remote desktop you can access from your browser, where you will be able to launch and use Nsight Systems.\n",
    "\n",
    "You will begin by creating a report file for an already-existing vector addition program, after which you will be walked through a series of steps to open this report file in Nsight Systems, and to make the visual experience nice."
   ]
  },
  {
   "cell_type": "markdown",
   "metadata": {},
   "source": [
    "### Generate Report File\n",
    "\n",
    "[`01-vector-add.cu`](../edit/01-vector-add/01-vector-add.cu) (<-------- click on these links to source files to edit them in the browser) contains a working, accelerated, vector addition application. Use the code execution cell directly below (you can execute it, and any of the code execution cells in this lab by `CTRL` + clicking it) to compile and run it. You should see a message printed that indicates it was successful."
   ]
  },
  {
   "cell_type": "code",
   "execution_count": 1,
   "metadata": {
    "scrolled": true
   },
   "outputs": [
    {
     "name": "stdout",
     "output_type": "stream",
     "text": [
      "Success! All values calculated correctly.\n"
     ]
    }
   ],
   "source": [
    "!nvcc -o vector-add-no-prefetch 01-vector-add/01-vector-add.cu -run"
   ]
  },
  {
   "cell_type": "markdown",
   "metadata": {},
   "source": [
    "Next, use `nsys profile --stats=true` to create a report file that you will be able to open in the Nsight Systems visual profiler. Here we use the `-o` flag to give the report file a memorable name:"
   ]
  },
  {
   "cell_type": "code",
   "execution_count": 2,
   "metadata": {
    "scrolled": true
   },
   "outputs": [
    {
     "name": "stdout",
     "output_type": "stream",
     "text": [
      "Success! All values calculated correctly.\n",
      "Generating '/tmp/nsys-report-fd4f.qdstrm'\n",
      "[1/8] [========================100%] vector-add-no-prefetch-report.nsys-rep\n",
      "[2/8] [========================100%] vector-add-no-prefetch-report.sqlite\n",
      "[3/8] Executing 'nvtxsum' stats report\n",
      "SKIPPED: /home/alfredo/projects/cuda-c-cpp/src/session3/final_exercise/reports/vector-add-no-prefetch-report.sqlite does not contain NV Tools Extension (NVTX) data.\n",
      "[4/8] Executing 'osrtsum' stats report\n",
      "\n",
      "Operating System Runtime API Statistics:\n",
      "\n",
      " Time (%)  Total Time (ns)  Num Calls    Avg (ns)       Med (ns)      Min (ns)     Max (ns)     StdDev (ns)            Name         \n",
      " --------  ---------------  ---------  -------------  -------------  -----------  -----------  -------------  ----------------------\n",
      "     40.4    1,027,563,428         62   16,573,603.7   10,066,645.5        1,143  100,126,978   25,837,097.1  poll                  \n",
      "     32.2      819,903,862          3  273,301,287.3  112,845,887.0    5,739,648  701,318,327  374,522,197.3  sem_wait              \n",
      "     19.7      500,076,045          1  500,076,045.0  500,076,045.0  500,076,045  500,076,045            0.0  pthread_cond_timedwait\n",
      "      4.8      123,358,635         54    2,284,419.2    2,059,157.5        8,676   20,648,963    3,094,748.9  sem_timedwait         \n",
      "      2.1       52,388,143        505      103,738.9        8,211.0        1,036   18,176,422    1,013,356.6  ioctl                 \n",
      "      0.7       16,928,379         24      705,349.1        7,302.5        1,254    6,175,864    1,896,571.2  mmap                  \n",
      "      0.1        2,741,288         42       65,268.8        6,372.5        3,165    1,443,150      251,121.0  mmap64                \n",
      "      0.0          752,812          5      150,562.4      188,987.0       29,766      251,058       99,737.3  pthread_create        \n",
      "      0.0          521,780         59        8,843.7        7,606.0        2,623       27,621        3,868.0  open64                \n",
      "      0.0          170,322         43        3,961.0        3,500.0        1,243       10,555        2,401.6  fopen                 \n",
      "      0.0           78,408          6       13,068.0        7,753.0        3,735       37,641       12,867.6  fgets                 \n",
      "      0.0           48,002         30        1,600.1        1,452.0        1,001        3,315          577.6  fclose                \n",
      "      0.0           45,177         10        4,517.7        3,928.5        1,264       11,867        3,115.5  munmap                \n",
      "      0.0           25,125          8        3,140.6        2,265.0        1,082        8,162        2,275.1  fread                 \n",
      "      0.0           22,037          5        4,407.4        4,655.0        2,135        6,128        1,581.5  open                  \n",
      "      0.0           14,391          9        1,599.0        1,403.0        1,052        2,792          600.8  read                  \n",
      "      0.0           14,200          7        2,028.6        1,941.0        1,091        3,188          672.5  write                 \n",
      "      0.0           14,182          2        7,091.0        7,091.0        6,976        7,206          162.6  socket                \n",
      "      0.0           10,646          1       10,646.0       10,646.0       10,646       10,646            0.0  connect               \n",
      "      0.0            8,979          1        8,979.0        8,979.0        8,979        8,979            0.0  pipe2                 \n",
      "      0.0            7,538          5        1,507.6        1,029.0        1,012        2,762          763.0  fcntl                 \n",
      "      0.0            3,856          1        3,856.0        3,856.0        3,856        3,856            0.0  fopen64               \n",
      "      0.0            2,074          1        2,074.0        2,074.0        2,074        2,074            0.0  bind                  \n",
      "      0.0            1,325          1        1,325.0        1,325.0        1,325        1,325            0.0  listen                \n",
      "\n",
      "[5/8] Executing 'cudaapisum' stats report\n",
      "\n",
      "CUDA API Statistics:\n",
      "\n",
      " Time (%)  Total Time (ns)  Num Calls    Avg (ns)       Med (ns)      Min (ns)     Max (ns)    StdDev (ns)            Name         \n",
      " --------  ---------------  ---------  -------------  -------------  -----------  -----------  ------------  ----------------------\n",
      "     47.7      136,985,566          1  136,985,566.0  136,985,566.0  136,985,566  136,985,566           0.0  cudaDeviceSynchronize \n",
      "     46.4      133,432,094          3   44,477,364.7       48,906.0       15,029  133,368,159  76,981,687.9  cudaMallocManaged     \n",
      "      5.9       17,010,011          3    5,670,003.7    5,856,036.0    4,899,506    6,254,469     696,374.3  cudaFree              \n",
      "      0.0           39,870          1       39,870.0       39,870.0       39,870       39,870           0.0  cudaLaunchKernel      \n",
      "      0.0              819          1          819.0          819.0          819          819           0.0  cuModuleGetLoadingMode\n",
      "\n",
      "[6/8] Executing 'gpukernsum' stats report\n",
      "\n",
      "CUDA Kernel Statistics:\n",
      "\n",
      " Time (%)  Total Time (ns)  Instances    Avg (ns)       Med (ns)      Min (ns)     Max (ns)    StdDev (ns)                       Name                     \n",
      " --------  ---------------  ---------  -------------  -------------  -----------  -----------  -----------  ----------------------------------------------\n",
      "    100.0      136,919,353          1  136,919,353.0  136,919,353.0  136,919,353  136,919,353          0.0  addVectorsInto(float *, float *, float *, int)\n",
      "\n",
      "[7/8] Executing 'gpumemtimesum' stats report\n",
      "\n",
      "CUDA Memory Operation Statistics (by time):\n",
      "\n",
      " Time (%)  Total Time (ns)  Count   Avg (ns)  Med (ns)  Min (ns)  Max (ns)  StdDev (ns)              Operation            \n",
      " --------  ---------------  ------  --------  --------  --------  --------  -----------  ---------------------------------\n",
      "     77.4       71,729,002  13,613   5,269.2   1,950.0     1,118    88,897      7,588.6  [CUDA Unified Memory memcpy HtoD]\n",
      "     22.6       20,978,390     768  27,315.6   6,848.5       894   308,423     46,919.8  [CUDA Unified Memory memcpy DtoH]\n",
      "\n",
      "[8/8] Executing 'gpumemsizesum' stats report\n",
      "\n",
      "CUDA Memory Operation Statistics (by size):\n",
      "\n",
      " Total (MB)  Count   Avg (MB)  Med (MB)  Min (MB)  Max (MB)  StdDev (MB)              Operation            \n",
      " ----------  ------  --------  --------  --------  --------  -----------  ---------------------------------\n",
      "    402.653  13,613     0.030     0.008     0.004     0.197        0.048  [CUDA Unified Memory memcpy HtoD]\n",
      "    134.218     768     0.175     0.033     0.004     1.044        0.301  [CUDA Unified Memory memcpy DtoH]\n",
      "\n",
      "Generated:\n",
      "    /home/alfredo/projects/cuda-c-cpp/src/session3/final_exercise/reports/vector-add-no-prefetch-report.nsys-rep\n",
      "    /home/alfredo/projects/cuda-c-cpp/src/session3/final_exercise/reports/vector-add-no-prefetch-report.sqlite\n"
     ]
    }
   ],
   "source": [
    "!nsys profile --stats=true -o vector-add-no-prefetch-report ./vector-add-no-prefetch"
   ]
  },
  {
   "cell_type": "markdown",
   "metadata": {},
   "source": [
    "### Open the Remote Desktop"
   ]
  },
  {
   "cell_type": "markdown",
   "metadata": {},
   "source": [
    "Run the next cell to generate a link to the remote desktop. Then, read the instructions that follow in the notebook."
   ]
  },
  {
   "cell_type": "code",
   "execution_count": 3,
   "metadata": {},
   "outputs": [],
   "source": [
    "# Only when running from the cloud to access through vnc to nsys-ui\n",
    "#%%js\n",
    "#var port = ((window.location.port == 80) ? \"\" : (\":\"+window.location.port));\n",
    "#var url = 'http://' + window.location.hostname + port + '/nsight/vnc.html?resize=scale';\n",
    "#let a = document.createElement('a');\n",
    "#a.setAttribute('href', url)\n",
    "#a.setAttribute('target', '_blank')\n",
    "#a.innerText = 'Click to open remote desktop'\n",
    "#element.append(a);"
   ]
  },
  {
   "cell_type": "markdown",
   "metadata": {},
   "source": [
    "After clicking the _Connect_ button you will be asked for a password, which is `nvidia`."
   ]
  },
  {
   "cell_type": "markdown",
   "metadata": {},
   "source": [
    "### Open Nsight Systems"
   ]
  },
  {
   "cell_type": "markdown",
   "metadata": {},
   "source": [
    "To open Nsight Systems, double-click the \"NVIDIA Nsight Systems\" icon on the remote desktop."
   ]
  },
  {
   "cell_type": "markdown",
   "metadata": {},
   "source": [
    "![open nsight](images/open-nsight-sys.png)"
   ]
  },
  {
   "cell_type": "markdown",
   "metadata": {},
   "source": [
    "### Enable Usage Reporting"
   ]
  },
  {
   "cell_type": "markdown",
   "metadata": {},
   "source": [
    "When prompted, click \"Yes\" to enable usage reporting:"
   ]
  },
  {
   "cell_type": "markdown",
   "metadata": {},
   "source": [
    "![enable usage](images/enable_usage.png)"
   ]
  },
  {
   "cell_type": "markdown",
   "metadata": {},
   "source": [
    "### Select GPU Rows on Top"
   ]
  },
  {
   "cell_type": "markdown",
   "metadata": {},
   "source": [
    "When prompted, select _GPU Rows on Top_ and then click _Okay_."
   ]
  },
  {
   "cell_type": "markdown",
   "metadata": {},
   "source": [
    "![gpu)_rows_on_top](images/gpu_on_top.png)"
   ]
  },
  {
   "cell_type": "markdown",
   "metadata": {},
   "source": [
    "### Open the Report File"
   ]
  },
  {
   "cell_type": "markdown",
   "metadata": {},
   "source": [
    "Open this report file by visiting _File_ -> _Open_ from the Nsight Systems menu and select `vector-add-no-prefetch-report.qdrep`:"
   ]
  },
  {
   "cell_type": "markdown",
   "metadata": {},
   "source": [
    "![open-report](images/open-report.png)"
   ]
  },
  {
   "cell_type": "markdown",
   "metadata": {},
   "source": [
    "### Ignore Warnings/Errors"
   ]
  },
  {
   "cell_type": "markdown",
   "metadata": {},
   "source": [
    "You can close and ignore any warnings or errors you see, which are just a result of our particular remote desktop environment:"
   ]
  },
  {
   "cell_type": "markdown",
   "metadata": {},
   "source": [
    "![ignore errors](images/ignore-error.png)"
   ]
  },
  {
   "cell_type": "markdown",
   "metadata": {},
   "source": [
    "### Make More Room for the Timelines"
   ]
  },
  {
   "cell_type": "markdown",
   "metadata": {},
   "source": [
    "To make your experience nicer, full-screen the profiler, close the _Project Explorer_ and hide the *Events View*:"
   ]
  },
  {
   "cell_type": "markdown",
   "metadata": {},
   "source": [
    "![make nice](images/make-nice.png)"
   ]
  },
  {
   "cell_type": "markdown",
   "metadata": {},
   "source": [
    "Your screen should now look like this:"
   ]
  },
  {
   "cell_type": "markdown",
   "metadata": {},
   "source": [
    "![now nice](images/now-nice.png)"
   ]
  },
  {
   "cell_type": "markdown",
   "metadata": {},
   "source": [
    "### Expand the CUDA Unified Memory Timelines"
   ]
  },
  {
   "cell_type": "markdown",
   "metadata": {},
   "source": [
    "Next, expand the _CUDA_ -> _Unified memory_ and _Context_ timelines, and close the _Threads_ timelines:"
   ]
  },
  {
   "cell_type": "markdown",
   "metadata": {},
   "source": [
    "![open memory](images/open-memory.png)"
   ]
  },
  {
   "cell_type": "markdown",
   "metadata": {},
   "source": [
    "### Observe Many Memory Transfers"
   ]
  },
  {
   "cell_type": "markdown",
   "metadata": {},
   "source": [
    "From a glance you can see that your application is taking about 1 second to run, and that also, during the time when the `addVectorsInto` kernel is running, that there is a lot of UM memory activity:"
   ]
  },
  {
   "cell_type": "markdown",
   "metadata": {},
   "source": [
    "![memory and kernel](images/memory-and-kernel.png)"
   ]
  },
  {
   "cell_type": "markdown",
   "metadata": {},
   "source": [
    "Zoom into the memory timelines to see more clearly all the small memory transfers being caused by the on-demand memory page faults. A couple tips:\n",
    "\n",
    "1. You can zoom in and out at any point of the timeline by holding `CTRL` while scrolling your mouse/trackpad\n",
    "2. You can zoom into any section by click + dragging a rectangle around it, and then selecting _Zoom in_"
   ]
  },
  {
   "cell_type": "markdown",
   "metadata": {},
   "source": [
    "Here's an example of zooming in to see the many small memory transfers:"
   ]
  },
  {
   "cell_type": "markdown",
   "metadata": {},
   "source": [
    "![many transfers](images/many-transfers.png)"
   ]
  },
  {
   "cell_type": "markdown",
   "metadata": {},
   "source": [
    "---\n",
    "## Comparing Code Refactors Iteratively with Nsight Systems"
   ]
  },
  {
   "cell_type": "markdown",
   "metadata": {},
   "source": [
    "Now that you have Nsight Systems up and running and are comfortable moving around the timelines, you will be profiling a series of programs that were iteratively improved using techniques already familiar to you. Each time you profile, information in the timeline will give information supporting how you should next modify your code. Doing this will further increase your understanding of how various CUDA programming techniques affect application performance."
   ]
  },
  {
   "cell_type": "markdown",
   "metadata": {},
   "source": [
    "### Exercise: Compare the Timelines of Prefetching vs. Non-Prefetching\n",
    "\n",
    "[`01-vector-add-prefetch-solution.cu`](../edit/01-vector-add/solutions/01-vector-add-prefetch-solution.cu) refactors the vector addition application from above so that the 3 vectors needed by its `addVectorsInto` kernel are asynchronously prefetched to the active GPU device prior to launching the kernel (using [`cudaMemPrefetchAsync`](http://docs.nvidia.com/cuda/cuda-runtime-api/group__CUDART__MEMORY.html#group__CUDART__MEMORY_1ge8dc9199943d421bc8bc7f473df12e42)). Open the source code and identify where in the application these changes were made.\n",
    "\n",
    "After reviewing the changes, compile and run the refactored application using the code execution cell directly below. You should see its success message printed."
   ]
  },
  {
   "cell_type": "code",
   "execution_count": 4,
   "metadata": {},
   "outputs": [
    {
     "name": "stdout",
     "output_type": "stream",
     "text": [
      "Success! All values calculated correctly.\n"
     ]
    }
   ],
   "source": [
    "!nvcc -o vector-add-prefetch 01-vector-add/solutions/01-vector-add-prefetch-solution.cu -run"
   ]
  },
  {
   "cell_type": "markdown",
   "metadata": {},
   "source": [
    "Now create a report file for this version of the application:"
   ]
  },
  {
   "cell_type": "code",
   "execution_count": 5,
   "metadata": {},
   "outputs": [
    {
     "name": "stdout",
     "output_type": "stream",
     "text": [
      "Success! All values calculated correctly.\n",
      "Generating '/tmp/nsys-report-2274.qdstrm'\n",
      "[1/8] [========================100%] vector-add-prefetch-report.nsys-rep\n",
      "[2/8] [========================100%] vector-add-prefetch-report.sqlite\n",
      "[3/8] Executing 'nvtxsum' stats report\n",
      "SKIPPED: /home/alfredo/projects/cuda-c-cpp/src/session3/final_exercise/reports/vector-add-prefetch-report.sqlite does not contain NV Tools Extension (NVTX) data.\n",
      "[4/8] Executing 'osrtsum' stats report\n",
      "\n",
      "Operating System Runtime API Statistics:\n",
      "\n",
      " Time (%)  Total Time (ns)  Num Calls    Avg (ns)       Med (ns)    Min (ns)   Max (ns)     StdDev (ns)        Name     \n",
      " --------  ---------------  ---------  -------------  ------------  --------  -----------  -------------  --------------\n",
      "     48.6      873,254,928         56   15,593,838.0  10,068,155.5    19,780  100,136,476   21,717,740.3  poll          \n",
      "     39.8      715,648,336          6  119,274,722.7  11,372,494.0    84,064  603,838,092  239,737,969.8  sem_wait      \n",
      "      5.7      102,891,571         46    2,236,773.3   2,060,515.5     9,634   20,633,140    3,149,796.2  sem_timedwait \n",
      "      4.8       86,187,115        505      170,667.6       7,477.0     1,022   23,664,089    1,487,622.5  ioctl         \n",
      "      0.9       15,612,772         24      650,532.2       7,122.0     1,194    6,901,493    1,794,832.5  mmap          \n",
      "      0.1        1,770,245         42       42,148.7       6,358.0     3,317      670,650      139,487.4  mmap64        \n",
      "      0.0          771,479          6      128,579.8     123,793.5    31,036      257,826       98,252.7  pthread_create\n",
      "      0.0          462,154         59        7,833.1       7,226.0     2,864       23,887        3,307.8  open64        \n",
      "      0.0          132,234         44        3,005.3       2,604.0     1,013        9,962        1,807.3  fopen         \n",
      "      0.0           68,659          6       11,443.2       6,529.5     3,420       37,988       13,272.4  fgets         \n",
      "      0.0           40,543         10        4,054.3       3,028.5     1,520       12,622        3,233.6  munmap        \n",
      "      0.0           37,131         26        1,428.1       1,353.5     1,025        2,826          376.7  fclose        \n",
      "      0.0           27,961         11        2,541.9       2,201.0     1,069        4,332        1,167.0  write         \n",
      "      0.0           25,818          8        3,227.3       1,753.0     1,076       12,739        3,886.7  fread         \n",
      "      0.0           21,278          5        4,255.6       3,175.0     2,107        6,603        2,029.7  open          \n",
      "      0.0           19,372         13        1,490.2       1,347.0     1,028        2,436          415.0  read          \n",
      "      0.0           10,884          2        5,442.0       5,442.0     3,054        7,830        3,377.1  socket        \n",
      "      0.0            9,915          1        9,915.0       9,915.0     9,915        9,915            0.0  connect       \n",
      "      0.0            7,541          1        7,541.0       7,541.0     7,541        7,541            0.0  pipe2         \n",
      "      0.0            5,944          3        1,981.3       1,673.0     1,393        2,878          789.1  fcntl         \n",
      "      0.0            3,808          1        3,808.0       3,808.0     3,808        3,808            0.0  fopen64       \n",
      "      0.0            1,518          1        1,518.0       1,518.0     1,518        1,518            0.0  bind          \n",
      "\n",
      "[5/8] Executing 'cudaapisum' stats report\n",
      "\n",
      "CUDA API Statistics:\n",
      "\n",
      " Time (%)  Total Time (ns)  Num Calls    Avg (ns)      Med (ns)     Min (ns)    Max (ns)    StdDev (ns)            Name         \n",
      " --------  ---------------  ---------  ------------  ------------  ----------  -----------  ------------  ----------------------\n",
      "     53.4      108,538,161          3  36,179,387.0      49,578.0      13,673  108,474,910  62,609,762.1  cudaMallocManaged     \n",
      "     36.0       73,099,127          1  73,099,127.0  73,099,127.0  73,099,127   73,099,127           0.0  cudaDeviceSynchronize \n",
      "      7.7       15,614,470          3   5,204,823.3   4,523,224.0   4,157,228    6,934,018   1,508,666.3  cudaFree              \n",
      "      2.9        5,885,311          3   1,961,770.3     375,577.0       3,550    5,506,184   3,075,183.3  cudaMemPrefetchAsync  \n",
      "      0.0           27,363          1      27,363.0      27,363.0      27,363       27,363           0.0  cudaLaunchKernel      \n",
      "      0.0              915          1         915.0         915.0         915          915           0.0  cuModuleGetLoadingMode\n",
      "\n",
      "[6/8] Executing 'gpukernsum' stats report\n",
      "\n",
      "CUDA Kernel Statistics:\n",
      "\n",
      " Time (%)  Total Time (ns)  Instances   Avg (ns)     Med (ns)    Min (ns)   Max (ns)   StdDev (ns)                       Name                     \n",
      " --------  ---------------  ---------  -----------  -----------  ---------  ---------  -----------  ----------------------------------------------\n",
      "    100.0        2,717,919          1  2,717,919.0  2,717,919.0  2,717,919  2,717,919          0.0  addVectorsInto(float *, float *, float *, int)\n",
      "\n",
      "[7/8] Executing 'gpumemtimesum' stats report\n",
      "\n",
      "CUDA Memory Operation Statistics (by time):\n",
      "\n",
      " Time (%)  Total Time (ns)  Count  Avg (ns)   Med (ns)   Min (ns)  Max (ns)   StdDev (ns)              Operation            \n",
      " --------  ---------------  -----  ---------  ---------  --------  ---------  -----------  ---------------------------------\n",
      "     77.1       70,554,528    192  367,471.5  333,096.0   328,072  1,390,367    162,266.0  [CUDA Unified Memory memcpy HtoD]\n",
      "     22.9       20,929,250    768   27,251.6    6,367.5       862    317,607     46,968.3  [CUDA Unified Memory memcpy DtoH]\n",
      "\n",
      "[8/8] Executing 'gpumemsizesum' stats report\n",
      "\n",
      "CUDA Memory Operation Statistics (by size):\n",
      "\n",
      " Total (MB)  Count  Avg (MB)  Med (MB)  Min (MB)  Max (MB)  StdDev (MB)              Operation            \n",
      " ----------  -----  --------  --------  --------  --------  -----------  ---------------------------------\n",
      "    402.653    192     2.097     2.097     2.097     2.097        0.000  [CUDA Unified Memory memcpy HtoD]\n",
      "    134.218    768     0.175     0.033     0.004     1.044        0.301  [CUDA Unified Memory memcpy DtoH]\n",
      "\n",
      "Generated:\n",
      "    /home/alfredo/projects/cuda-c-cpp/src/session3/final_exercise/reports/vector-add-prefetch-report.nsys-rep\n",
      "    /home/alfredo/projects/cuda-c-cpp/src/session3/final_exercise/reports/vector-add-prefetch-report.sqlite\n"
     ]
    }
   ],
   "source": [
    "!nsys profile --stats=true -o vector-add-prefetch-report ./vector-add-prefetch"
   ]
  },
  {
   "cell_type": "markdown",
   "metadata": {},
   "source": [
    "Open the report in Nsight Systems, leaving the previous report open for comparison.\n",
    "\n",
    "- How does the execution time compare to that of the `addVectorsInto` kernel prior to adding asynchronous prefetching?\n",
    "- Locate `cudaMemPrefetchAsync` in the *CUDA API* section of the timeline.\n",
    "- How have the memory transfers changed?"
   ]
  },
  {
   "cell_type": "markdown",
   "metadata": {},
   "source": [
    "\n",
    "### Exercise: Profile Refactor with Launch Init in Kernel\n",
    "\n",
    "In the previous iteration of the vector addition application, the vector data is being initialized on the CPU, and therefore needs to be migrated to the GPU before the `addVectorsInto` kernel can operate on it.\n",
    "\n",
    "The next iteration of the application, [01-init-kernel-solution.cu](../edit/02-init-kernel/solutions/01-init-kernel-solution.cu), the application has been refactored to initialize the data in parallel on the GPU.\n",
    "\n",
    "Since the initialization now takes place on the GPU, prefetching has been done prior to initialization, rather than prior to the vector addition work. Review the source code to identify where these changes have been made.\n",
    "\n",
    "After reviewing the changes, compile and run the refactored application using the code execution cell directly below. You should see its success message printed."
   ]
  },
  {
   "cell_type": "code",
   "execution_count": 6,
   "metadata": {},
   "outputs": [
    {
     "name": "stdout",
     "output_type": "stream",
     "text": [
      "Success! All values calculated correctly.\n"
     ]
    }
   ],
   "source": [
    "!nvcc -o init-kernel 02-init-kernel/solutions/01-init-kernel-solution.cu -run"
   ]
  },
  {
   "cell_type": "markdown",
   "metadata": {},
   "source": [
    "Now create a report file for this version of the application:"
   ]
  },
  {
   "cell_type": "code",
   "execution_count": 7,
   "metadata": {},
   "outputs": [
    {
     "name": "stdout",
     "output_type": "stream",
     "text": [
      "Success! All values calculated correctly.\n",
      "Generating '/tmp/nsys-report-fbf4.qdstrm'\n",
      "[1/8] [========================100%] init-kernel-report.nsys-rep\n",
      "[2/8] [========================100%] init-kernel-report.sqlite\n",
      "[3/8] Executing 'nvtxsum' stats report\n",
      "SKIPPED: /home/alfredo/projects/cuda-c-cpp/src/session3/final_exercise/reports/init-kernel-report.sqlite does not contain NV Tools Extension (NVTX) data.\n",
      "[4/8] Executing 'osrtsum' stats report\n",
      "\n",
      "Operating System Runtime API Statistics:\n",
      "\n",
      " Time (%)  Total Time (ns)  Num Calls    Avg (ns)       Med (ns)    Min (ns)   Max (ns)     StdDev (ns)        Name     \n",
      " --------  ---------------  ---------  -------------  ------------  --------  -----------  -------------  --------------\n",
      "     46.3      390,406,133          3  130,135,377.7  86,256,089.0   978,043  303,172,001  155,802,249.8  sem_wait      \n",
      "     39.2      331,115,692         25   13,244,627.7  10,062,462.0    45,691  100,122,617   20,720,584.9  poll          \n",
      "      6.3       52,905,732         22    2,404,806.0   2,057,046.5    28,064   20,582,356    4,595,361.8  sem_timedwait \n",
      "      6.1       51,754,042        503      102,890.7       7,281.0     1,070   17,780,542    1,002,086.5  ioctl         \n",
      "      1.7       14,636,063         24      609,836.0       6,806.0     1,187    6,057,103    1,657,351.8  mmap          \n",
      "      0.2        1,440,671         42       34,301.7       6,041.5     3,329      585,479      106,738.8  mmap64        \n",
      "      0.1          509,682          5      101,936.4      54,778.0    28,778      203,657       88,556.5  pthread_create\n",
      "      0.1          456,893         59        7,743.9       7,878.0     2,647       17,950        2,527.5  open64        \n",
      "      0.0          128,406         43        2,986.2       2,618.0     1,128       11,417        1,829.2  fopen         \n",
      "      0.0           69,472          6       11,578.7       6,668.5     3,209       38,222       13,384.3  fgets         \n",
      "      0.0           38,439         28        1,372.8       1,303.0     1,009        2,801          383.0  fclose        \n",
      "      0.0           34,948         10        3,494.8       3,043.5     1,516        6,269        1,715.7  munmap        \n",
      "      0.0           21,705         14        1,550.4       1,280.0     1,097        2,392          502.9  read          \n",
      "      0.0           20,455          8        2,556.9       1,737.5     1,446        6,806        1,824.0  fread         \n",
      "      0.0           20,123          5        4,024.6       3,468.0     2,101        6,318        1,753.8  open          \n",
      "      0.0           15,146          7        2,163.7       1,731.0     1,293        3,500          882.2  write         \n",
      "      0.0           10,802          2        5,401.0       5,401.0     2,711        8,091        3,804.2  socket        \n",
      "      0.0           10,023          1       10,023.0      10,023.0    10,023       10,023            0.0  connect       \n",
      "      0.0            7,600          1        7,600.0       7,600.0     7,600        7,600            0.0  pipe2         \n",
      "      0.0            4,127          2        2,063.5       2,063.5     1,051        3,076        1,431.9  fcntl         \n",
      "      0.0            2,966          1        2,966.0       2,966.0     2,966        2,966            0.0  fopen64       \n",
      "      0.0            1,982          1        1,982.0       1,982.0     1,982        1,982            0.0  bind          \n",
      "\n",
      "[5/8] Executing 'cudaapisum' stats report\n",
      "\n",
      "CUDA API Statistics:\n",
      "\n",
      " Time (%)  Total Time (ns)  Num Calls    Avg (ns)     Med (ns)    Min (ns)    Max (ns)    StdDev (ns)            Name         \n",
      " --------  ---------------  ---------  ------------  -----------  ---------  -----------  ------------  ----------------------\n",
      "     83.4      106,807,556          3  35,602,518.7     53,031.0     13,740  106,740,785  61,607,549.0  cudaMallocManaged     \n",
      "     11.4       14,616,162          3   4,872,054.0  4,268,032.0  4,253,455    6,094,675   1,058,845.9  cudaFree              \n",
      "      4.3        5,461,122          1   5,461,122.0  5,461,122.0  5,461,122    5,461,122           0.0  cudaDeviceSynchronize \n",
      "      0.9        1,204,724          3     401,574.7    397,020.0    384,119      423,585      20,123.4  cudaMemPrefetchAsync  \n",
      "      0.0           33,208          4       8,302.0      3,438.0      2,650       23,682      10,269.0  cudaLaunchKernel      \n",
      "      0.0            1,018          1       1,018.0      1,018.0      1,018        1,018           0.0  cuModuleGetLoadingMode\n",
      "\n",
      "[6/8] Executing 'gpukernsum' stats report\n",
      "\n",
      "CUDA Kernel Statistics:\n",
      "\n",
      " Time (%)  Total Time (ns)  Instances   Avg (ns)     Med (ns)    Min (ns)   Max (ns)   StdDev (ns)                       Name                     \n",
      " --------  ---------------  ---------  -----------  -----------  ---------  ---------  -----------  ----------------------------------------------\n",
      "     50.5        2,761,375          3    920,458.3    911,957.0    889,460    959,958     36,009.7  initWith(float, float *, int)                 \n",
      "     49.5        2,707,390          1  2,707,390.0  2,707,390.0  2,707,390  2,707,390          0.0  addVectorsInto(float *, float *, float *, int)\n",
      "\n",
      "[7/8] Executing 'gpumemtimesum' stats report\n",
      "\n",
      "CUDA Memory Operation Statistics (by time):\n",
      "\n",
      " Time (%)  Total Time (ns)  Count  Avg (ns)  Med (ns)  Min (ns)  Max (ns)  StdDev (ns)              Operation            \n",
      " --------  ---------------  -----  --------  --------  --------  --------  -----------  ---------------------------------\n",
      "    100.0       20,668,447    768  26,912.0   6,287.5       926   159,844     45,770.5  [CUDA Unified Memory memcpy DtoH]\n",
      "\n",
      "[8/8] Executing 'gpumemsizesum' stats report\n",
      "\n",
      "CUDA Memory Operation Statistics (by size):\n",
      "\n",
      " Total (MB)  Count  Avg (MB)  Med (MB)  Min (MB)  Max (MB)  StdDev (MB)              Operation            \n",
      " ----------  -----  --------  --------  --------  --------  -----------  ---------------------------------\n",
      "    134.218    768     0.175     0.033     0.004     1.044        0.301  [CUDA Unified Memory memcpy DtoH]\n",
      "\n",
      "Generated:\n",
      "    /home/alfredo/projects/cuda-c-cpp/src/session3/final_exercise/reports/init-kernel-report.nsys-rep\n",
      "    /home/alfredo/projects/cuda-c-cpp/src/session3/final_exercise/reports/init-kernel-report.sqlite\n"
     ]
    }
   ],
   "source": [
    "!nsys profile --stats=true -o init-kernel-report ./init-kernel"
   ]
  },
  {
   "cell_type": "markdown",
   "metadata": {},
   "source": [
    "Open the new report file in Nsight Systems and do the following:\n",
    "\n",
    "- Compare the application and `addVectorsInto` run times to the previous version of the application, how did they change?\n",
    "- Look at the *Kernels* section of the timeline. Which of the two kernels (`addVectorsInto` and the initialization kernel) is taking up the majority of the time on the GPU?\n",
    "- Which of the following does your application contain?\n",
    "  - Data Migration (HtoD)\n",
    "  - Data Migration (DtoH)"
   ]
  },
  {
   "cell_type": "markdown",
   "metadata": {},
   "source": [
    "### Exercise: Profile Refactor with Asynchronous Prefetch Back to the Host\n",
    "\n",
    "Currently, the vector addition application verifies the work of the vector addition kernel on the host. The next refactor of the application, [01-prefetch-check-solution.cu](../edit/04-prefetch-check/solutions/01-prefetch-check-solution.cu), asynchronously prefetches the data back to the host for verification.\n",
    "\n",
    "After reviewing the changes, compile and run the refactored application using the code execution cell directly below. You should see its success message printed."
   ]
  },
  {
   "cell_type": "code",
   "execution_count": 9,
   "metadata": {},
   "outputs": [
    {
     "name": "stdout",
     "output_type": "stream",
     "text": [
      "Success! All values calculated correctly.\n"
     ]
    }
   ],
   "source": [
    "!nvcc -o prefetch-to-host 04-prefetch-check/solutions/01-prefetch-check-solution.cu -run"
   ]
  },
  {
   "cell_type": "markdown",
   "metadata": {},
   "source": [
    "Now create a report file for this version of the application:"
   ]
  },
  {
   "cell_type": "code",
   "execution_count": 10,
   "metadata": {},
   "outputs": [
    {
     "name": "stdout",
     "output_type": "stream",
     "text": [
      "Success! All values calculated correctly.\n",
      "Generating '/tmp/nsys-report-e387.qdstrm'\n",
      "[1/8] [========================100%] prefetch-to-host-report.nsys-rep\n",
      "[2/8] [========================100%] prefetch-to-host-report.sqlite\n",
      "[3/8] Executing 'nvtxsum' stats report\n",
      "SKIPPED: /home/alfredo/projects/cuda-c-cpp/src/session3/final_exercise/reports/prefetch-to-host-report.sqlite does not contain NV Tools Extension (NVTX) data.\n",
      "[4/8] Executing 'osrtsum' stats report\n",
      "\n",
      "Operating System Runtime API Statistics:\n",
      "\n",
      " Time (%)  Total Time (ns)  Num Calls    Avg (ns)       Med (ns)    Min (ns)   Max (ns)     StdDev (ns)        Name     \n",
      " --------  ---------------  ---------  -------------  ------------  --------  -----------  -------------  --------------\n",
      "     44.4      362,540,885          3  120,846,961.7  84,792,482.0   841,459  276,906,944  141,520,253.4  sem_wait      \n",
      "     38.1      311,074,834         24   12,961,451.4  10,067,336.0     1,047  100,132,526   21,406,214.4  poll          \n",
      "      9.2       74,744,959        505      148,009.8       7,017.0     1,033   22,701,771    1,440,605.7  ioctl         \n",
      "      6.2       50,546,513         19    2,660,342.8   2,037,362.0    28,163   20,557,683    5,200,778.4  sem_timedwait \n",
      "      1.7       13,884,781         24      578,532.5       6,421.5     1,134    5,289,481    1,555,267.7  mmap          \n",
      "      0.2        1,412,661         42       33,634.8       5,887.5     3,157      584,395      106,647.2  mmap64        \n",
      "      0.1          655,852          5      131,170.4     178,512.0    31,299      198,571       81,073.4  pthread_create\n",
      "      0.1          490,493         59        8,313.4       7,093.0     2,996       65,639        7,897.5  open64        \n",
      "      0.0          128,514         43        2,988.7       2,491.0     1,216       10,451        1,703.8  fopen         \n",
      "      0.0           68,776          6       11,462.7       6,660.0     3,158       38,199       13,414.5  fgets         \n",
      "      0.0           53,428         10        5,342.8       3,095.0     1,434       24,983        7,060.6  munmap        \n",
      "      0.0           35,170         26        1,352.7       1,262.5     1,013        2,894          386.2  fclose        \n",
      "      0.0           22,918          9        2,546.4       1,704.0     1,102        7,571        1,977.7  fread         \n",
      "      0.0           21,189          5        4,237.8       3,322.0     2,580        6,671        1,698.3  open          \n",
      "      0.0           20,656         15        1,377.1       1,238.0     1,041        2,168          330.7  read          \n",
      "      0.0           13,869          2        6,934.5       6,934.5     2,966       10,903        5,612.3  socket        \n",
      "      0.0           13,506          7        1,929.4       1,518.0     1,047        3,160          849.6  write         \n",
      "      0.0           10,091          1       10,091.0      10,091.0    10,091       10,091            0.0  connect       \n",
      "      0.0            6,988          1        6,988.0       6,988.0     6,988        6,988            0.0  pipe2         \n",
      "      0.0            4,977          3        1,659.0       1,155.0     1,040        2,782          974.2  fcntl         \n",
      "      0.0            3,268          1        3,268.0       3,268.0     3,268        3,268            0.0  fopen64       \n",
      "      0.0            1,703          1        1,703.0       1,703.0     1,703        1,703            0.0  bind          \n",
      "\n",
      "[5/8] Executing 'cudaapisum' stats report\n",
      "\n",
      "CUDA API Statistics:\n",
      "\n",
      " Time (%)  Total Time (ns)  Num Calls    Avg (ns)     Med (ns)    Min (ns)    Max (ns)    StdDev (ns)            Name         \n",
      " --------  ---------------  ---------  ------------  -----------  ---------  -----------  ------------  ----------------------\n",
      "     70.8      105,285,515          3  35,095,171.7     51,155.0     13,914  105,220,446  60,730,271.9  cudaMallocManaged     \n",
      "     16.1       23,920,502          4   5,980,125.5    403,320.0    384,712   22,729,150  11,166,028.6  cudaMemPrefetchAsync  \n",
      "      9.3       13,867,417          3   4,622,472.3  4,314,905.0  4,241,126    5,311,386     597,756.1  cudaFree              \n",
      "      3.7        5,536,754          1   5,536,754.0  5,536,754.0  5,536,754    5,536,754           0.0  cudaDeviceSynchronize \n",
      "      0.0           43,342          4      10,835.5      5,408.0      4,052       28,474      11,812.4  cudaLaunchKernel      \n",
      "      0.0              969          1         969.0        969.0        969          969           0.0  cuModuleGetLoadingMode\n",
      "\n",
      "[6/8] Executing 'gpukernsum' stats report\n",
      "\n",
      "CUDA Kernel Statistics:\n",
      "\n",
      " Time (%)  Total Time (ns)  Instances   Avg (ns)     Med (ns)    Min (ns)   Max (ns)   StdDev (ns)                       Name                     \n",
      " --------  ---------------  ---------  -----------  -----------  ---------  ---------  -----------  ----------------------------------------------\n",
      "     50.8        2,794,783          3    931,594.3    930,645.0    918,421    945,717     13,672.7  initWith(float, float *, int)                 \n",
      "     49.2        2,709,086          1  2,709,086.0  2,709,086.0  2,709,086  2,709,086          0.0  addVectorsInto(float *, float *, float *, int)\n",
      "\n",
      "[7/8] Executing 'gpumemtimesum' stats report\n",
      "\n",
      "CUDA Memory Operation Statistics (by time):\n",
      "\n",
      " Time (%)  Total Time (ns)  Count  Avg (ns)   Med (ns)   Min (ns)  Max (ns)  StdDev (ns)              Operation            \n",
      " --------  ---------------  -----  ---------  ---------  --------  --------  -----------  ---------------------------------\n",
      "    100.0       22,342,747     64  349,105.4  319,336.0   319,207   654,127     75,749.5  [CUDA Unified Memory memcpy DtoH]\n",
      "\n",
      "[8/8] Executing 'gpumemsizesum' stats report\n",
      "\n",
      "CUDA Memory Operation Statistics (by size):\n",
      "\n",
      " Total (MB)  Count  Avg (MB)  Med (MB)  Min (MB)  Max (MB)  StdDev (MB)              Operation            \n",
      " ----------  -----  --------  --------  --------  --------  -----------  ---------------------------------\n",
      "    134.218     64     2.097     2.097     2.097     2.097        0.000  [CUDA Unified Memory memcpy DtoH]\n",
      "\n",
      "Generated:\n",
      "    /home/alfredo/projects/cuda-c-cpp/src/session3/final_exercise/reports/prefetch-to-host-report.nsys-rep\n",
      "    /home/alfredo/projects/cuda-c-cpp/src/session3/final_exercise/reports/prefetch-to-host-report.sqlite\n"
     ]
    }
   ],
   "source": [
    "!nsys profile --stats=true -o prefetch-to-host-report ./prefetch-to-host"
   ]
  },
  {
   "cell_type": "markdown",
   "metadata": {},
   "source": [
    "Open this report file in Nsight Systems, and do the following:\n",
    "\n",
    "- Use the *Unified Memory* section of the timeline to compare and contrast the *Data Migration (DtoH)* events before and after adding prefetching back to the CPU."
   ]
  },
  {
   "cell_type": "markdown",
   "metadata": {},
   "source": [
    "---\n",
    "## Concurrent CUDA Streams"
   ]
  },
  {
   "cell_type": "markdown",
   "metadata": {},
   "source": [
    "You are now going to learn about a new concept, **CUDA Streams**. After an introduction to them, you will return to using Nsight Systems to better evaluate their impact on your application's performance."
   ]
  },
  {
   "cell_type": "markdown",
   "metadata": {},
   "source": [
    "The following slides present upcoming material visually, at a high level. Click through the slides before moving on to more detailed coverage of their topics in following sections."
   ]
  },
  {
   "cell_type": "code",
   "execution_count": 11,
   "metadata": {},
   "outputs": [
    {
     "data": {
      "text/html": [
       "\n",
       "<div align=\"center\"><iframe src=\"https://view.officeapps.live.com/op/view.aspx?src=https://developer.download.nvidia.com/training/courses/C-AC-01-V1/embedded/task3/NVVP-Streams-1.pptx\" width=\"800px\" height=\"500px\" frameborder=\"0\"></iframe></div>\n"
      ],
      "text/plain": [
       "<IPython.core.display.HTML object>"
      ]
     },
     "metadata": {},
     "output_type": "display_data"
    }
   ],
   "source": [
    "%%HTML\n",
    "\n",
    "<div align=\"center\"><iframe src=\"https://view.officeapps.live.com/op/view.aspx?src=https://developer.download.nvidia.com/training/courses/C-AC-01-V1/embedded/task3/NVVP-Streams-1.pptx\" width=\"800px\" height=\"500px\" frameborder=\"0\"></iframe></div>"
   ]
  },
  {
   "cell_type": "markdown",
   "metadata": {},
   "source": [
    "In CUDA programming, a **stream** is a series of commands that execute in order. In CUDA applications, kernel execution, as well as some memory transfers, occur within CUDA streams. Up until this point in time, you have not been interacting explicitly with CUDA streams, but in fact, your CUDA code has been executing its kernels inside of a stream called *the default stream*.\n",
    "\n",
    "CUDA programmers can create and utilize non-default CUDA streams in addition to the default stream, and in doing so, perform multiple operations, such as executing multiple kernels, concurrently, in different streams. Using multiple streams can add an additional layer of parallelization to your accelerated applications, and offers many more opportunities for application optimization."
   ]
  },
  {
   "cell_type": "markdown",
   "metadata": {},
   "source": [
    "### Rules Governing the Behavior of CUDA Streams\n",
    "\n",
    "There are a few rules, concerning the behavior of CUDA streams, that should be learned in order to utilize them effectively:\n",
    "\n",
    "- Operations within a given stream occur in order.\n",
    "- Operations in different non-default streams are not guaranteed to operate in any specific order relative to each other.\n",
    "- The default stream is blocking and will both wait for all other streams to complete before running, and, will block other streams from running until it completes."
   ]
  },
  {
   "cell_type": "markdown",
   "metadata": {},
   "source": [
    "### Creating, Utilizing, and Destroying Non-Default CUDA Streams\n",
    "\n",
    "The following code snippet demonstrates how to create, utilize, and destroy a non-default CUDA stream. You will note, that to launch a CUDA kernel in a non-default CUDA stream, the stream must be passed as the optional 4th argument of the execution configuration. Up until now you have only utilized the first 2 arguments of the execution configuration:\n",
    "\n",
    "```cpp\n",
    "cudaStream_t stream;       // CUDA streams are of type `cudaStream_t`.\n",
    "cudaStreamCreate(&stream); // Note that a pointer must be passed to `cudaCreateStream`.\n",
    "\n",
    "someKernel<<<number_of_blocks, threads_per_block, 0, stream>>>(); // `stream` is passed as 4th EC argument.\n",
    "\n",
    "cudaStreamDestroy(stream); // Note that a value, not a pointer, is passed to `cudaDestroyStream`.\n",
    "```\n",
    "\n",
    "Outside the scope of this lab, but worth mentioning, is the optional 3rd argument of the execution configuration. This argument allows programmers to supply the number of bytes in **shared memory** (an advanced topic that will not be covered presently) to be dynamically allocated per block for this kernel launch. The default number of bytes allocated to shared memory per block is `0`, and for the remainder of the lab, you will be passing `0` as this value, in order to expose the 4th argument, which is of immediate interest:"
   ]
  },
  {
   "cell_type": "markdown",
   "metadata": {},
   "source": [
    "### Exercise: Predict Default Stream Behavior\n",
    "\n",
    "The [01-print-numbers](../edit/05-stream-intro/01-print-numbers.cu) application has a very simple `printNumber` kernel which accepts an integer and prints it. The kernel is only being executed with a single thread inside a single block. However, it is being executed 5 times, using a for-loop, and passing each launch the number of the for-loop's iteration.\n",
    "\n",
    "Compile and run [01-print-numbers](../edit/05-stream-intro/01-print-numbers.cu) using the code execution block below. You should see the numbers `0` through `4` printed."
   ]
  },
  {
   "cell_type": "code",
   "execution_count": 12,
   "metadata": {},
   "outputs": [
    {
     "name": "stdout",
     "output_type": "stream",
     "text": [
      "0\n",
      "1\n",
      "2\n",
      "3\n",
      "4\n"
     ]
    }
   ],
   "source": [
    "!nvcc -o print-numbers 05-stream-intro/01-print-numbers.cu -run"
   ]
  },
  {
   "cell_type": "markdown",
   "metadata": {},
   "source": [
    "Knowing that by default kernels are executed in the default stream, would you expect that the 5 launches of the `print-numbers` program executed serially, or in parallel? You should be able to mention two features of the default stream to support your answer. Create a report file in the cell below and open it in Nsight Systems to confirm your answer."
   ]
  },
  {
   "cell_type": "code",
   "execution_count": 13,
   "metadata": {},
   "outputs": [
    {
     "name": "stdout",
     "output_type": "stream",
     "text": [
      "0\n",
      "1\n",
      "2\n",
      "3\n",
      "4\n",
      "Generating '/tmp/nsys-report-fc9b.qdstrm'\n",
      "[1/8] [========================100%] print-numbers-report.nsys-rep\n",
      "[2/8] [========================100%] print-numbers-report.sqlite\n",
      "[3/8] Executing 'nvtxsum' stats report\n",
      "SKIPPED: /home/alfredo/projects/cuda-c-cpp/src/session3/final_exercise/reports/print-numbers-report.sqlite does not contain NV Tools Extension (NVTX) data.\n",
      "[4/8] Executing 'osrtsum' stats report\n",
      "\n",
      "Operating System Runtime API Statistics:\n",
      "\n",
      " Time (%)  Total Time (ns)  Num Calls    Avg (ns)      Med (ns)    Min (ns)   Max (ns)     StdDev (ns)        Name     \n",
      " --------  ---------------  ---------  ------------  ------------  --------  -----------  -------------  --------------\n",
      "     51.2      154,345,547          2  77,172,773.5  77,172,773.5   751,876  153,593,671  108,075,469.7  sem_wait      \n",
      "     29.3       88,383,848         12   7,365,320.7   1,231,796.5     1,166   38,002,530   12,679,597.3  poll          \n",
      "     18.1       54,574,427        493     110,698.6       7,436.0     1,069   18,209,255    1,058,192.8  ioctl         \n",
      "      0.5        1,467,120         42      34,931.4       5,812.5     3,169      613,627      112,157.9  mmap64        \n",
      "      0.3          794,836          5     158,967.2     180,235.0    53,547      193,801       59,268.4  pthread_create\n",
      "      0.2          734,499         10      73,449.9      33,099.5    28,526      410,875      118,819.4  sem_timedwait \n",
      "      0.1          438,040         59       7,424.4       7,044.0     2,671       17,400        2,183.1  open64        \n",
      "      0.0          147,342         17       8,667.2       5,235.0     1,169       34,843        9,009.6  mmap          \n",
      "      0.0          131,545         44       2,989.7       2,596.0     1,133       11,419        1,909.1  fopen         \n",
      "      0.0           67,982          6      11,330.3       6,505.5     3,306       37,502       13,109.1  fgets         \n",
      "      0.0           35,747         27       1,324.0       1,192.0     1,009        2,743          373.3  fclose        \n",
      "      0.0           20,980          7       2,997.1       2,239.0     1,532        7,439        2,121.6  fread         \n",
      "      0.0           20,868          5       4,173.6       3,382.0     2,218        6,458        1,750.0  open          \n",
      "      0.0           20,652         15       1,376.8       1,210.0     1,112        2,430          369.8  read          \n",
      "      0.0           19,392          5       3,878.4       3,652.0     1,304        6,125        2,016.8  munmap        \n",
      "      0.0           11,883          6       1,980.5       1,890.5     1,329        2,941          597.7  write         \n",
      "      0.0           10,170          2       5,085.0       5,085.0     3,226        6,944        2,629.0  socket        \n",
      "      0.0            8,658          1       8,658.0       8,658.0     8,658        8,658            0.0  connect       \n",
      "      0.0            7,263          5       1,452.6       1,074.0     1,001        3,028          881.7  fcntl         \n",
      "      0.0            7,086          1       7,086.0       7,086.0     7,086        7,086            0.0  pipe2         \n",
      "      0.0            2,866          1       2,866.0       2,866.0     2,866        2,866            0.0  fopen64       \n",
      "      0.0            1,502          1       1,502.0       1,502.0     1,502        1,502            0.0  bind          \n",
      "\n",
      "[5/8] Executing 'cudaapisum' stats report\n",
      "\n",
      "CUDA API Statistics:\n",
      "\n",
      " Time (%)  Total Time (ns)  Num Calls    Avg (ns)    Med (ns)   Min (ns)   Max (ns)   StdDev (ns)            Name         \n",
      " --------  ---------------  ---------  ------------  ---------  --------  ----------  ------------  ----------------------\n",
      "     99.8       89,198,663          5  17,839,732.6    2,715.0     2,023  89,187,146  39,884,416.6  cudaLaunchKernel      \n",
      "      0.2          150,071          1     150,071.0  150,071.0   150,071     150,071           0.0  cudaDeviceSynchronize \n",
      "      0.0              645          1         645.0      645.0       645         645           0.0  cuModuleGetLoadingMode\n",
      "\n",
      "[6/8] Executing 'gpukernsum' stats report\n",
      "\n",
      "CUDA Kernel Statistics:\n",
      "\n",
      " Time (%)  Total Time (ns)  Instances  Avg (ns)  Med (ns)  Min (ns)  Max (ns)  StdDev (ns)        Name      \n",
      " --------  ---------------  ---------  --------  --------  --------  --------  -----------  ----------------\n",
      "    100.0          149,155          5  29,831.0  28,769.0    27,392    35,521      3,236.5  printNumber(int)\n",
      "\n",
      "[7/8] Executing 'gpumemtimesum' stats report\n",
      "SKIPPED: /home/alfredo/projects/cuda-c-cpp/src/session3/final_exercise/reports/print-numbers-report.sqlite does not contain GPU memory data.\n",
      "[8/8] Executing 'gpumemsizesum' stats report\n",
      "SKIPPED: /home/alfredo/projects/cuda-c-cpp/src/session3/final_exercise/reports/print-numbers-report.sqlite does not contain GPU memory data.\n",
      "Generated:\n",
      "    /home/alfredo/projects/cuda-c-cpp/src/session3/final_exercise/reports/print-numbers-report.nsys-rep\n",
      "    /home/alfredo/projects/cuda-c-cpp/src/session3/final_exercise/reports/print-numbers-report.sqlite\n"
     ]
    }
   ],
   "source": [
    "!nsys profile --stats=true -o print-numbers-report ./print-numbers"
   ]
  },
  {
   "cell_type": "markdown",
   "metadata": {},
   "source": [
    "### Exercise: Implement Concurrent CUDA Streams\n",
    "\n",
    "Both because all 5 kernel launches occurred in the same stream, you should not be surprised to have seen that the 5 kernels executed serially. Additionally you could make the case that because the default stream is blocking, each launch of the kernel would wait to complete before the next launch, and this is also true.\n",
    "\n",
    "Refactor [01-print-numbers](../edit/05-stream-intro/01-print-numbers.cu) so that each kernel launch occurs in its own non-default stream. Be sure to destroy the streams you create after they are no longer needed. Compile and run the refactored code with the code execution cell directly below. You should still see the numbers `0` through `4` printed, though not necessarily in ascending order. Refer to [the solution](../edit/05-stream-intro/solutions/01-print-numbers-solution.cu) if you get stuck."
   ]
  },
  {
   "cell_type": "code",
   "execution_count": 19,
   "metadata": {},
   "outputs": [
    {
     "name": "stdout",
     "output_type": "stream",
     "text": [
      "0\n",
      "1\n",
      "2\n",
      "3\n",
      "4\n"
     ]
    }
   ],
   "source": [
    "!nvcc -o print-numbers-in-streams 05-stream-intro/01-print-numbers.cu -run"
   ]
  },
  {
   "cell_type": "markdown",
   "metadata": {},
   "source": [
    "Now that you are using 5 different non-default streams for each of the 5 kernel launches, do you expect that they will run serially or in parallel? In addition to what you now know about streams, take into account how trivial the `printNumber` kernel is, meaning, even if you predict parallel runs, will the speed at which one kernel will complete allow for complete overlap?\n",
    "\n",
    "After hypothesizing, open a new report file in Nsight Systems to view its actual behavior. You should notice that now, there are additional rows in the _CUDA_ section for each of the non-default streams you created:"
   ]
  },
  {
   "cell_type": "code",
   "execution_count": 20,
   "metadata": {},
   "outputs": [
    {
     "name": "stdout",
     "output_type": "stream",
     "text": [
      "0\n",
      "1\n",
      "2\n",
      "3\n",
      "4\n",
      "Generating '/tmp/nsys-report-31d9.qdstrm'\n",
      "[1/8] [========================100%] print-numbers-in-streams-report.nsys-rep\n",
      "[2/8] [========================100%] print-numbers-in-streams-report.sqlite\n",
      "[3/8] Executing 'nvtxsum' stats report\n",
      "SKIPPED: /home/alfredo/projects/cuda-c-cpp/src/session3/final_exercise/reports/print-numbers-in-streams-report.sqlite does not contain NV Tools Extension (NVTX) data.\n",
      "[4/8] Executing 'osrtsum' stats report\n",
      "\n",
      "Operating System Runtime API Statistics:\n",
      "\n",
      " Time (%)  Total Time (ns)  Num Calls    Avg (ns)      Med (ns)    Min (ns)   Max (ns)     StdDev (ns)        Name     \n",
      " --------  ---------------  ---------  ------------  ------------  --------  -----------  -------------  --------------\n",
      "     51.0      154,878,693          2  77,439,346.5  77,439,346.5   820,500  154,058,193  108,355,411.9  sem_wait      \n",
      "     29.4       89,266,402         11   8,115,127.5   1,253,844.0    37,385   38,691,934   13,236,075.6  poll          \n",
      "     18.4       55,698,438        495     112,522.1       7,296.0     1,092   19,165,661    1,090,906.2  ioctl         \n",
      "      0.5        1,399,063         42      33,311.0       6,075.5     3,114      574,858      104,824.5  mmap64        \n",
      "      0.2          719,837         10      71,983.7      35,106.5    28,402      386,539      110,919.9  sem_timedwait \n",
      "      0.2          502,290          5     100,458.0      53,125.0    29,344      204,297       86,573.6  pthread_create\n",
      "      0.2          463,116         59       7,849.4       7,192.0     2,670       24,600        3,418.5  open64        \n",
      "      0.0          135,320         17       7,960.0       6,003.0     1,129       34,548        8,186.0  mmap          \n",
      "      0.0          128,581         43       2,990.3       2,560.0     1,096        9,726        1,661.4  fopen         \n",
      "      0.0           69,389          6      11,564.8       6,559.5     3,238       38,195       13,337.6  fgets         \n",
      "      0.0           35,867         26       1,379.5       1,297.5     1,019        2,783          377.5  fclose        \n",
      "      0.0           20,946          5       4,189.2       3,724.0     2,157        6,434        1,703.5  open          \n",
      "      0.0           20,008         15       1,333.9       1,167.0     1,076        2,569          409.6  read          \n",
      "      0.0           19,242          5       3,848.4       4,488.0     1,818        5,884        1,655.6  munmap        \n",
      "      0.0           17,957          7       2,565.3       1,901.0     1,491        6,480        1,803.6  fread         \n",
      "      0.0           15,589          8       1,948.6       1,757.0     1,020        3,667          854.3  write         \n",
      "      0.0           11,092          2       5,546.0       5,546.0     3,413        7,679        3,016.5  socket        \n",
      "      0.0           11,045          1      11,045.0      11,045.0    11,045       11,045            0.0  connect       \n",
      "      0.0            8,295          1       8,295.0       8,295.0     8,295        8,295            0.0  pipe2         \n",
      "      0.0            5,569          3       1,856.3       1,137.0     1,129        3,303        1,252.9  fcntl         \n",
      "      0.0            2,870          1       2,870.0       2,870.0     2,870        2,870            0.0  fopen64       \n",
      "      0.0            1,556          1       1,556.0       1,556.0     1,556        1,556            0.0  bind          \n",
      "\n",
      "[5/8] Executing 'cudaapisum' stats report\n",
      "\n",
      "CUDA API Statistics:\n",
      "\n",
      " Time (%)  Total Time (ns)  Num Calls    Avg (ns)    Med (ns)  Min (ns)   Max (ns)   StdDev (ns)            Name         \n",
      " --------  ---------------  ---------  ------------  --------  --------  ----------  ------------  ----------------------\n",
      "     99.9       89,888,012          5  17,977,602.4   1,761.0     1,467  89,880,685  40,195,045.1  cudaStreamCreate      \n",
      "      0.1           51,393          5      10,278.6   3,563.0     3,192      35,766      14,282.7  cudaLaunchKernel      \n",
      "      0.0           43,349          1      43,349.0  43,349.0    43,349      43,349           0.0  cudaDeviceSynchronize \n",
      "      0.0           14,157          5       2,831.4   2,100.0     1,994       5,821       1,673.1  cudaStreamDestroy     \n",
      "      0.0              602          1         602.0     602.0       602         602           0.0  cuModuleGetLoadingMode\n",
      "\n",
      "[6/8] Executing 'gpukernsum' stats report\n",
      "\n",
      "CUDA Kernel Statistics:\n",
      "\n",
      " Time (%)  Total Time (ns)  Instances  Avg (ns)  Med (ns)  Min (ns)  Max (ns)  StdDev (ns)        Name      \n",
      " --------  ---------------  ---------  --------  --------  --------  --------  -----------  ----------------\n",
      "    100.0          156,035          5  31,207.0  29,409.0    28,928    36,416      3,144.8  printNumber(int)\n",
      "\n",
      "[7/8] Executing 'gpumemtimesum' stats report\n",
      "SKIPPED: /home/alfredo/projects/cuda-c-cpp/src/session3/final_exercise/reports/print-numbers-in-streams-report.sqlite does not contain GPU memory data.\n",
      "[8/8] Executing 'gpumemsizesum' stats report\n",
      "SKIPPED: /home/alfredo/projects/cuda-c-cpp/src/session3/final_exercise/reports/print-numbers-in-streams-report.sqlite does not contain GPU memory data.\n",
      "Generated:\n",
      "    /home/alfredo/projects/cuda-c-cpp/src/session3/final_exercise/reports/print-numbers-in-streams-report.nsys-rep\n",
      "    /home/alfredo/projects/cuda-c-cpp/src/session3/final_exercise/reports/print-numbers-in-streams-report.sqlite\n"
     ]
    }
   ],
   "source": [
    "!nsys profile --stats=true -o print-numbers-in-streams-report print-numbers-in-streams"
   ]
  },
  {
   "cell_type": "markdown",
   "metadata": {},
   "source": [
    "![streams print](images/streams-print.png)"
   ]
  },
  {
   "cell_type": "markdown",
   "metadata": {},
   "source": [
    "### Exercise: Use Streams for Concurrent Data Initialization Kernels\n",
    "\n",
    "The vector addition application you have been working with, [01-prefetch-check-solution.cu](../edit/04-prefetch-check/solutions/01-prefetch-check-solution.cu), currently launches an initialization kernel 3 times - once each for each of the 3 vectors needing initialization for the `vectorAdd` kernel. Refactor it to launch each of the 3 initialization kernel launches in their own non-default stream. You should still see the success message print when compiling and running with the code execution cell below. Refer to [the solution](../edit/06-stream-init/solutions/01-stream-init-solution.cu) if you get stuck."
   ]
  },
  {
   "cell_type": "code",
   "execution_count": 21,
   "metadata": {},
   "outputs": [
    {
     "name": "stdout",
     "output_type": "stream",
     "text": [
      "Success! All values calculated correctly.\n"
     ]
    }
   ],
   "source": [
    "!nvcc -o init-in-streams 04-prefetch-check/solutions/01-prefetch-check-solution.cu -run"
   ]
  },
  {
   "cell_type": "markdown",
   "metadata": {},
   "source": [
    "Open a report in Nsight Systems to confirm that your 3 initialization kernel launches are running in their own non-default streams, with some degree of concurrent overlap."
   ]
  },
  {
   "cell_type": "code",
   "execution_count": 22,
   "metadata": {},
   "outputs": [
    {
     "name": "stdout",
     "output_type": "stream",
     "text": [
      "Success! All values calculated correctly.\n",
      "Generating '/tmp/nsys-report-d98b.qdstrm'\n",
      "[1/8] [========================100%] init-in-streams-report.nsys-rep\n",
      "[2/8] [========================100%] init-in-streams-report.sqlite\n",
      "[3/8] Executing 'nvtxsum' stats report\n",
      "SKIPPED: /home/alfredo/projects/cuda-c-cpp/src/session3/final_exercise/reports/init-in-streams-report.sqlite does not contain NV Tools Extension (NVTX) data.\n",
      "[4/8] Executing 'osrtsum' stats report\n",
      "\n",
      "Operating System Runtime API Statistics:\n",
      "\n",
      " Time (%)  Total Time (ns)  Num Calls    Avg (ns)       Med (ns)    Min (ns)    Max (ns)     StdDev (ns)        Name     \n",
      " --------  ---------------  ---------  -------------  ------------  ---------  -----------  -------------  --------------\n",
      "     44.5      362,993,307          3  120,997,769.0  84,959,518.0  1,005,358  277,028,431  141,496,469.4  sem_wait      \n",
      "     38.1      311,274,134         23   13,533,658.0  10,076,493.0     37,971  100,134,094   21,705,188.3  poll          \n",
      "      9.0       73,072,040        504      144,984.2       7,262.5      1,027   21,014,762    1,396,861.3  ioctl         \n",
      "      6.5       53,279,049         19    2,804,160.5   2,062,061.0     27,957   20,564,108    5,506,723.6  sem_timedwait \n",
      "      1.6       12,668,149         24      527,839.5       5,864.5      1,060    4,189,086    1,408,327.6  mmap          \n",
      "      0.2        1,414,004         42       33,666.8       5,823.5      3,137      587,671      106,933.0  mmap64        \n",
      "      0.1          650,831          5      130,166.2     177,207.0     28,447      197,348       81,895.8  pthread_create\n",
      "      0.1          431,488         59        7,313.4       7,030.0      2,973       17,798        2,324.8  open64        \n",
      "      0.0          127,275         43        2,959.9       2,616.0      1,115        9,055        1,640.4  fopen         \n",
      "      0.0           69,923          6       11,653.8       6,691.5      3,459       38,750       13,578.6  fgets         \n",
      "      0.0           36,086         27        1,336.5       1,317.0      1,004        2,480          319.2  fclose        \n",
      "      0.0           29,827         11        2,711.5       2,394.0      1,336        5,113        1,291.0  munmap        \n",
      "      0.0           19,979          5        3,995.8       3,380.0      2,227        6,151        1,694.0  open          \n",
      "      0.0           19,873          8        2,484.1       1,830.0      1,257        6,796        1,819.0  fread         \n",
      "      0.0           18,518         13        1,424.5       1,155.0      1,103        2,295          419.1  read          \n",
      "      0.0           11,668          6        1,944.7       1,845.5      1,397        2,808          545.3  write         \n",
      "      0.0           10,438          2        5,219.0       5,219.0      2,871        7,567        3,320.6  socket        \n",
      "      0.0           10,016          1       10,016.0      10,016.0     10,016       10,016            0.0  connect       \n",
      "      0.0            6,882          1        6,882.0       6,882.0      6,882        6,882            0.0  pipe2         \n",
      "      0.0            6,111          4        1,527.8       1,126.0      1,101        2,758          820.3  fcntl         \n",
      "      0.0            2,814          1        2,814.0       2,814.0      2,814        2,814            0.0  fopen64       \n",
      "      0.0            1,791          1        1,791.0       1,791.0      1,791        1,791            0.0  bind          \n",
      "\n",
      "[5/8] Executing 'cudaapisum' stats report\n",
      "\n",
      "CUDA API Statistics:\n",
      "\n",
      " Time (%)  Total Time (ns)  Num Calls    Avg (ns)     Med (ns)    Min (ns)    Max (ns)    StdDev (ns)            Name         \n",
      " --------  ---------------  ---------  ------------  -----------  ---------  -----------  ------------  ----------------------\n",
      "     72.3      105,457,882          3  35,152,627.3     35,166.0     13,772  105,408,944  60,843,755.9  cudaMallocManaged     \n",
      "     15.2       22,225,394          4   5,556,348.5    398,902.0    386,506   21,041,084  10,323,162.4  cudaMemPrefetchAsync  \n",
      "      8.6       12,613,031          3   4,204,343.7  4,206,080.0  4,174,806    4,232,145      28,708.9  cudaFree              \n",
      "      3.7        5,469,055          1   5,469,055.0  5,469,055.0  5,469,055    5,469,055           0.0  cudaDeviceSynchronize \n",
      "      0.0           33,631          4       8,407.8      4,428.5      3,112       21,662       8,870.6  cudaLaunchKernel      \n",
      "      0.0           32,658          3      10,886.0      2,658.0      2,489       27,511      14,397.9  cudaStreamDestroy     \n",
      "      0.0           21,815          3       7,271.7      1,706.0      1,674       18,435       9,667.7  cudaStreamCreate      \n",
      "      0.0              650          1         650.0        650.0        650          650           0.0  cuModuleGetLoadingMode\n",
      "\n",
      "[6/8] Executing 'gpukernsum' stats report\n",
      "\n",
      "CUDA Kernel Statistics:\n",
      "\n",
      " Time (%)  Total Time (ns)  Instances   Avg (ns)     Med (ns)    Min (ns)   Max (ns)   StdDev (ns)                       Name                     \n",
      " --------  ---------------  ---------  -----------  -----------  ---------  ---------  -----------  ----------------------------------------------\n",
      "     54.5        3,251,242          3  1,083,747.3  1,070,169.0  1,025,783  1,155,290     65,812.6  initWith(float, float *, int)                 \n",
      "     45.5        2,711,934          1  2,711,934.0  2,711,934.0  2,711,934  2,711,934          0.0  addVectorsInto(float *, float *, float *, int)\n",
      "\n",
      "[7/8] Executing 'gpumemtimesum' stats report\n",
      "\n",
      "CUDA Memory Operation Statistics (by time):\n",
      "\n",
      " Time (%)  Total Time (ns)  Count  Avg (ns)   Med (ns)   Min (ns)  Max (ns)  StdDev (ns)              Operation            \n",
      " --------  ---------------  -----  ---------  ---------  --------  --------  -----------  ---------------------------------\n",
      "    100.0       20,642,585     64  322,540.4  319,304.0   319,239   393,801     11,221.7  [CUDA Unified Memory memcpy DtoH]\n",
      "\n",
      "[8/8] Executing 'gpumemsizesum' stats report\n",
      "\n",
      "CUDA Memory Operation Statistics (by size):\n",
      "\n",
      " Total (MB)  Count  Avg (MB)  Med (MB)  Min (MB)  Max (MB)  StdDev (MB)              Operation            \n",
      " ----------  -----  --------  --------  --------  --------  -----------  ---------------------------------\n",
      "    134.218     64     2.097     2.097     2.097     2.097        0.000  [CUDA Unified Memory memcpy DtoH]\n",
      "\n",
      "Generated:\n",
      "    /home/alfredo/projects/cuda-c-cpp/src/session3/final_exercise/reports/init-in-streams-report.nsys-rep\n",
      "    /home/alfredo/projects/cuda-c-cpp/src/session3/final_exercise/reports/init-in-streams-report.sqlite\n"
     ]
    }
   ],
   "source": [
    "!nsys profile --stats=true -o init-in-streams-report ./init-in-streams"
   ]
  },
  {
   "cell_type": "markdown",
   "metadata": {},
   "source": [
    "---\n",
    "## Summary\n",
    "\n",
    "At this point in the lab you are able to:\n",
    "\n",
    "- Use the **Nsight Systems** to visually profile the timeline of GPU-accelerated CUDA applications.\n",
    "- Use Nsight Systems to identify, and exploit, optimization opportunities in GPU-accelerated CUDA applications.\n",
    "- Utilize CUDA streams for concurrent kernel execution in accelerated applications.\n",
    "\n",
    "At this point in time you have a wealth of fundamental tools and techniques for accelerating CPU-only applications, and for then optimizing those accelerated applications. In the final exercise, you will have a chance to apply everything that you've learned to accelerate an [n-body](https://en.wikipedia.org/wiki/N-body_problem) simulator, which predicts the individual motions of a group of objects interacting with each other gravitationally."
   ]
  },
  {
   "cell_type": "markdown",
   "metadata": {},
   "source": [
    "---\n",
    "## Final Exercise: Accelerate and Optimize an N-Body Simulator\n",
    "\n",
    "An [n-body](https://en.wikipedia.org/wiki/N-body_problem) simulator predicts the individual motions of a group of objects interacting with each other gravitationally. [01-nbody.cu](../edit/09-nbody/01-nbody.cu) contains a simple, though working, n-body simulator for bodies moving through 3 dimensional space.\n",
    "\n",
    "In its current CPU-only form, this application takes about 5 seconds to run on 4096 particles, and **20 minutes** to run on 65536 particles. Your task is to GPU accelerate the program, retaining the correctness of the simulation."
   ]
  },
  {
   "cell_type": "markdown",
   "metadata": {},
   "source": [
    "### Considerations to Guide Your Work\n",
    "\n",
    "Here are some things to consider before beginning your work:\n",
    "\n",
    "- Especially for your first refactors, the logic of the application, the `bodyForce` function in particular, can and should remain largely unchanged: focus on accelerating it as easily as possible.\n",
    "- The code base contains a for-loop inside `main` for integrating the interbody forces calculated by `bodyForce` into the positions of the bodies in the system. This integration both needs to occur after `bodyForce` runs, and, needs to complete before the next call to `bodyForce`. Keep this in mind when choosing how and where to parallelize.\n",
    "- Use a **profile driven** and iterative approach.\n",
    "- You are not required to add error handling to your code, but you might find it helpful, as you are responsible for your code working correctly.\n",
    "\n",
    "**Have Fun!**"
   ]
  },
  {
   "cell_type": "markdown",
   "metadata": {},
   "source": [
    "Use this cell to compile the nbody simulator. Although it is initially a CPU-only application, is does accurately simulate the positions of the particles."
   ]
  },
  {
   "cell_type": "code",
   "execution_count": 1,
   "metadata": {
    "scrolled": true
   },
   "outputs": [
    {
     "name": "stdout",
     "output_type": "stream",
     "text": [
      "30.344 Billion Interactions / second\n"
     ]
    }
   ],
   "source": [
    "!nvcc -std=c++11 -o nbody 09-nbody/01-nbody.cu -run"
   ]
  },
  {
   "cell_type": "markdown",
   "metadata": {},
   "source": [
    "It is highly recommended you use the profiler to assist your work. Execute the following cell to generate a report file:"
   ]
  },
  {
   "cell_type": "code",
   "execution_count": 2,
   "metadata": {},
   "outputs": [
    {
     "name": "stdout",
     "output_type": "stream",
     "text": [
      "35.298 Billion Interactions / second\n",
      "Generating '/tmp/nsys-report-cd75.qdstrm'\n",
      "[1/8] [========================100%] nb-stream.nsys-rep\n",
      "[2/8] [========================100%] nb-stream.sqlite\n",
      "[3/8] Executing 'nvtxsum' stats report\n",
      "SKIPPED: /home/alfredo/projects/cuda-c-cpp/src/session3/nb-stream.sqlite does not contain NV Tools Extension (NVTX) data.\n",
      "[4/8] Executing 'osrtsum' stats report\n",
      "\n",
      "Operating System Runtime API Statistics:\n",
      "\n",
      " Time (%)  Total Time (ns)  Num Calls    Avg (ns)       Med (ns)     Min (ns)   Max (ns)     StdDev (ns)        Name     \n",
      " --------  ---------------  ---------  -------------  -------------  --------  -----------  -------------  --------------\n",
      "     57.8      323,303,194          3  107,767,731.3  107,065,173.0   766,170  215,471,851  107,354,564.7  sem_wait      \n",
      "     25.1      140,342,999         16    8,771,437.4    3,563,850.5     2,028   42,079,925   13,134,757.0  poll          \n",
      "      9.3       51,759,381        500      103,518.8        7,215.0     1,058   18,762,100    1,063,439.7  ioctl         \n",
      "      7.2       40,435,936         12    3,369,661.3       38,779.0    27,946   20,623,281    7,295,487.5  sem_timedwait \n",
      "      0.3        1,419,259         42       33,791.9        5,647.0     3,180      603,195      108,867.2  mmap64        \n",
      "      0.1          646,637          5      129,327.4      173,477.0    49,020      187,661       70,943.0  pthread_create\n",
      "      0.1          456,416         59        7,735.9        7,454.0     2,988       16,367        2,302.3  open64        \n",
      "      0.0          160,873         18        8,937.4        5,970.0     1,156       35,936       10,151.8  mmap          \n",
      "      0.0          135,968         43        3,162.0        2,799.0     1,090        9,532        1,674.9  fopen         \n",
      "      0.0           73,587         30        2,452.9        1,427.5     1,018       31,686        5,529.4  fclose        \n",
      "      0.0           69,056          6       11,509.3        6,858.5     3,264       36,701       12,615.0  fgets         \n",
      "      0.0           51,147          3       17,049.0        5,198.0     3,012       42,937       22,446.3  fopen64       \n",
      "      0.0           48,003          1       48,003.0       48,003.0    48,003       48,003            0.0  writev        \n",
      "      0.0           39,071         15        2,604.7        1,320.0     1,116       18,284        4,360.4  read          \n",
      "      0.0           24,852          9        2,761.3        2,213.0     1,467        7,276        1,770.4  fread         \n",
      "      0.0           21,856          5        4,371.2        3,635.0     2,162        6,429        1,806.7  open          \n",
      "      0.0           19,154          6        3,192.3        3,047.0     1,423        5,536        1,678.6  munmap        \n",
      "      0.0           14,144          7        2,020.6        1,558.0     1,121        4,183        1,044.8  write         \n",
      "      0.0           11,214          1       11,214.0       11,214.0    11,214       11,214            0.0  connect       \n",
      "      0.0           10,049          2        5,024.5        5,024.5     2,315        7,734        3,831.8  socket        \n",
      "      0.0            7,129          1        7,129.0        7,129.0     7,129        7,129            0.0  pipe2         \n",
      "      0.0            3,837          2        1,918.5        1,918.5     1,182        2,655        1,041.6  fcntl         \n",
      "      0.0            1,619          1        1,619.0        1,619.0     1,619        1,619            0.0  bind          \n",
      "\n",
      "[5/8] Executing 'cudaapisum' stats report\n",
      "\n",
      "CUDA API Statistics:\n",
      "\n",
      " Time (%)  Total Time (ns)  Num Calls    Avg (ns)       Med (ns)      Min (ns)     Max (ns)    StdDev (ns)           Name         \n",
      " --------  ---------------  ---------  -------------  -------------  -----------  -----------  -----------  ----------------------\n",
      "     96.3      127,577,744          1  127,577,744.0  127,577,744.0  127,577,744  127,577,744          0.0  cudaMallocManaged     \n",
      "      3.5        4,586,015         10      458,601.5      434,934.5      432,640      671,243     74,728.4  cudaDeviceSynchronize \n",
      "      0.1           86,074          2       43,037.0       43,037.0       42,652       43,422        544.5  cudaMemPrefetchAsync  \n",
      "      0.1           82,461         20        4,123.1        3,167.5        2,251       18,437      3,533.1  cudaLaunchKernel      \n",
      "      0.0           64,979          1       64,979.0       64,979.0       64,979       64,979          0.0  cudaFree              \n",
      "      0.0           43,286         10        4,328.6        2,010.0        1,673       23,488      6,764.6  cudaStreamCreate      \n",
      "      0.0           25,495         10        2,549.5        2,311.0        2,070        4,685        776.6  cudaStreamDestroy     \n",
      "      0.0              892          1          892.0          892.0          892          892          0.0  cuModuleGetLoadingMode\n",
      "\n",
      "[6/8] Executing 'gpukernsum' stats report\n",
      "\n",
      "CUDA Kernel Statistics:\n",
      "\n",
      " Time (%)  Total Time (ns)  Instances  Avg (ns)   Med (ns)   Min (ns)  Max (ns)  StdDev (ns)                  Name                 \n",
      " --------  ---------------  ---------  ---------  ---------  --------  --------  -----------  -------------------------------------\n",
      "     99.2        4,569,962         10  456,996.2  432,842.0   431,050   674,736     76,519.1  bodyForce(Body *, float, int)        \n",
      "      0.8           35,935         10    3,593.5    3,488.0     3,424     4,032        195.0  integratePosition(Body *, float, int)\n",
      "\n",
      "[7/8] Executing 'gpumemtimesum' stats report\n",
      "\n",
      "CUDA Memory Operation Statistics (by time):\n",
      "\n",
      " Time (%)  Total Time (ns)  Count  Avg (ns)  Med (ns)  Min (ns)  Max (ns)  StdDev (ns)              Operation            \n",
      " --------  ---------------  -----  --------  --------  --------  --------  -----------  ---------------------------------\n",
      "     54.1           17,694      4   4,423.5   5,327.5     1,088     5,951      2,244.0  [CUDA Unified Memory memcpy HtoD]\n",
      "     45.9           15,008      1  15,008.0  15,008.0    15,008    15,008          0.0  [CUDA Unified Memory memcpy DtoH]\n",
      "\n",
      "[8/8] Executing 'gpumemsizesum' stats report\n",
      "\n",
      "CUDA Memory Operation Statistics (by size):\n",
      "\n",
      " Total (MB)  Count  Avg (MB)  Med (MB)  Min (MB)  Max (MB)  StdDev (MB)              Operation            \n",
      " ----------  -----  --------  --------  --------  --------  -----------  ---------------------------------\n",
      "      0.098      1     0.098     0.098     0.098     0.098        0.000  [CUDA Unified Memory memcpy DtoH]\n",
      "      0.098      4     0.025     0.031     0.004     0.033        0.014  [CUDA Unified Memory memcpy HtoD]\n",
      "\n",
      "Generated:\n",
      "    /home/alfredo/projects/cuda-c-cpp/src/session3/nb-stream.nsys-rep\n",
      "    /home/alfredo/projects/cuda-c-cpp/src/session3/nb-stream.sqlite\n"
     ]
    }
   ],
   "source": [
    "!nsys profile --stats=true --force-overwrite=true -o nb-stream ./nbody"
   ]
  },
  {
   "cell_type": "markdown",
   "metadata": {},
   "source": [
    "Here we import a function that will run your `nbody` simulator against a various number of particles, checking for performance and accuracy."
   ]
  },
  {
   "cell_type": "code",
   "execution_count": 5,
   "metadata": {},
   "outputs": [],
   "source": [
    "from assessment import run_assessment"
   ]
  },
  {
   "cell_type": "markdown",
   "metadata": {},
   "source": [
    "Execute the following cell to run and assess `nbody`:"
   ]
  },
  {
   "cell_type": "code",
   "execution_count": 6,
   "metadata": {
    "scrolled": true
   },
   "outputs": [
    {
     "name": "stdout",
     "output_type": "stream",
     "text": [
      "Running nbody simulator with 4096 bodies\n",
      "----------------------------------------\n",
      "\n",
      "Application should run faster than 0.9s\n",
      "Your application has taken over 5 seconds to run and is not fast enough\n"
     ]
    }
   ],
   "source": [
    "run_assessment()"
   ]
  },
  {
   "cell_type": "markdown",
   "metadata": {},
   "source": [
    "## Generate a Certificate"
   ]
  },
  {
   "cell_type": "markdown",
   "metadata": {},
   "source": [
    "If you passed the assessment, please return to the course page (shown below) and click the \"ASSESS TASK\" button, which will generate your certificate for the course."
   ]
  },
  {
   "cell_type": "markdown",
   "metadata": {},
   "source": [
    "![run_assessment](./images/run_assessment.png)"
   ]
  },
  {
   "cell_type": "markdown",
   "metadata": {},
   "source": [
    "## Advanced Content\n",
    "\n",
    "The following sections, for those of you with time and interest, introduce more intermediate techniques involving some manual device memory management, and using non-default streams to overlap kernel execution and memory copies.\n",
    "\n",
    "After learning about each of the techniques below, try to further optimize your nbody simulation using these techniques."
   ]
  },
  {
   "cell_type": "markdown",
   "metadata": {},
   "source": [
    "---\n",
    "## Manual Device Memory Allocation and Copying\n",
    "\n",
    "While `cudaMallocManaged` and `cudaMemPrefetchAsync` are performant, and greatly simplify memory migration, sometimes it can be worth it to use more manual methods for memory allocation. This is particularly true when it is known that data will only be accessed on the device or host, and the cost of migrating data can be reclaimed in exchange for the fact that no automatic on-demand migration is needed.\n",
    "\n",
    "Additionally, using manual device memory management can allow for the use of non-default streams for overlapping data transfers with computational work. In this section you will learn some basic manual device memory allocation and copy techniques, before extending these techniques to overlap data copies with computational work. \n",
    "\n",
    "Here are some CUDA commands for manual device memory management:\n",
    "\n",
    "- `cudaMalloc` will allocate memory directly to the active GPU. This prevents all GPU page faults. In exchange, the pointer it returns is not available for access by host code.\n",
    "- `cudaMallocHost` will allocate memory directly to the CPU. It also \"pins\" the memory, or page locks it, which will allow for asynchronous copying of the memory to and from a GPU. Too much pinned memory can interfere with CPU performance, so use it only with intention. Pinned memory should be freed with `cudaFreeHost`.\n",
    "- `cudaMemcpy` can copy (not transfer) memory, either from host to device or from device to host."
   ]
  },
  {
   "cell_type": "markdown",
   "metadata": {},
   "source": [
    "### Manual Device Memory Management Example\n",
    "\n",
    "Here is a snippet of code that demonstrates the use of the above CUDA API calls.\n",
    "\n",
    "```cpp\n",
    "int *host_a, *device_a;        // Define host-specific and device-specific arrays.\n",
    "cudaMalloc(&device_a, size);   // `device_a` is immediately available on the GPU.\n",
    "cudaMallocHost(&host_a, size); // `host_a` is immediately available on CPU, and is page-locked, or pinned.\n",
    "\n",
    "initializeOnHost(host_a, N);   // No CPU page faulting since memory is already allocated on the host.\n",
    "\n",
    "// `cudaMemcpy` takes the destination, source, size, and a CUDA-provided variable for the direction of the copy.\n",
    "cudaMemcpy(device_a, host_a, size, cudaMemcpyHostToDevice);\n",
    "\n",
    "kernel<<<blocks, threads, 0, someStream>>>(device_a, N);\n",
    "\n",
    "// `cudaMemcpy` can also copy data from device to host.\n",
    "cudaMemcpy(host_a, device_a, size, cudaMemcpyDeviceToHost);\n",
    "\n",
    "verifyOnHost(host_a, N);\n",
    "\n",
    "cudaFree(device_a);\n",
    "cudaFreeHost(host_a);          // Free pinned memory like this.\n",
    "```"
   ]
  },
  {
   "cell_type": "markdown",
   "metadata": {},
   "source": [
    "### Exercise: Manually Allocate Host and Device Memory\n",
    "\n",
    "The most recent iteration of the vector addition application, [01-stream-init-solution](../edit/06-stream-init/solutions/01-stream-init-solution.cu), is using `cudaMallocManaged` to allocate managed memory first used on the device by the initialization kernels, then on the device by the vector add kernel, and then by the host, where the memory is automatically transferred, for verification. This is a sensible approach, but it is worth experimenting with some manual device memory allocation and copying to observe its impact on the application's performance.\n",
    "\n",
    "Refactor the [01-stream-init-solution](../edit/06-stream-init/solutions/01-stream-init-solution.cu) application to **not** use `cudaMallocManaged`. In order to do this you will need to do the following:\n",
    "\n",
    "- Replace calls to `cudaMallocManaged` with `cudaMalloc`.\n",
    "- Create an additional vector that will be used for verification on the host. This is required since the memory allocated with `cudaMalloc` is not available to the host. Allocate this host vector with `cudaMallocHost`.\n",
    "- After the `addVectorsInto` kernel completes, use `cudaMemcpy` to copy the vector with the addition results, into the host vector you created with `cudaMallocHost`.\n",
    "- Use `cudaFreeHost` to free the memory allocated with `cudaMallocHost`.\n",
    "\n",
    "Refer to [the solution](../edit/07-manual-malloc/solutions/01-manual-malloc-solution.cu) if you get stuck."
   ]
  },
  {
   "cell_type": "code",
   "execution_count": 1,
   "metadata": {},
   "outputs": [
    {
     "name": "stdout",
     "output_type": "stream",
     "text": [
      "Success! All values calculated correctly.\n"
     ]
    }
   ],
   "source": [
    "#!nvcc -o vector-add-manual-alloc 06-stream-init/solutions/01-stream-init-manual-solution.cu -run\n",
    "!nvcc -o vector-add-manual-alloc 07-manual-malloc/solutions/my_solution.cu -run"
   ]
  },
  {
   "cell_type": "markdown",
   "metadata": {},
   "source": [
    "After completing the refactor, open a report in Nsight Systems, and use the timeline to do the following:\n",
    "\n",
    "- Notice that there is no longer a *Unified Memory* section of the timeline.\n",
    "- Comparing this timeline to that of the previous refactor, compare the run times of `cudaMalloc` in the current application vs. `cudaMallocManaged` in the previous.\n",
    "- Notice how in the current application, work on the initialization kernels does not start until a later time than it did in the previous iteration. Examination of the timeline will show the difference is the time taken by `cudaMallocHost`. This clearly points out the difference between memory transfers, and memory copies. When copying memory, as you are doing presently, the data will exist in 2 different places in the system. In the current case, the allocation of the 4th host-only vector incurs a small cost in performance, compared to only allocating 3 vectors in the previous iteration."
   ]
  },
  {
   "cell_type": "markdown",
   "metadata": {},
   "source": [
    "---\n",
    "## Using Streams to Overlap Data Transfers and Code Execution\n",
    "\n",
    "The following slides present upcoming material visually, at a high level. Click through the slides before moving on to more detailed coverage of their topics in following sections."
   ]
  },
  {
   "cell_type": "code",
   "execution_count": 2,
   "metadata": {},
   "outputs": [
    {
     "data": {
      "text/html": [
       "\n",
       "<div align=\"center\"><iframe src=\"https://view.officeapps.live.com/op/view.aspx?src=https://developer.download.nvidia.com/training/courses/C-AC-01-V1/embedded/task3/NVVP-Streams-3.pptx\" width=\"800px\" height=\"500px\" frameborder=\"0\"></iframe></div>\n"
      ],
      "text/plain": [
       "<IPython.core.display.HTML object>"
      ]
     },
     "metadata": {},
     "output_type": "display_data"
    }
   ],
   "source": [
    "%%HTML\n",
    "\n",
    "<div align=\"center\"><iframe src=\"https://view.officeapps.live.com/op/view.aspx?src=https://developer.download.nvidia.com/training/courses/C-AC-01-V1/embedded/task3/NVVP-Streams-3.pptx\" width=\"800px\" height=\"500px\" frameborder=\"0\"></iframe></div>"
   ]
  },
  {
   "cell_type": "markdown",
   "metadata": {},
   "source": [
    "In addition to `cudaMemcpy` is `cudaMemcpyAsync` which can asynchronously copy memory either from host to device or from device to host as long as the host memory is pinned, which can be done by allocating it with `cudaMallocHost`.\n",
    "\n",
    "Similar to kernel execution, `cudaMemcpyAsync` is only asynchronous by default with respect to the host. It executes, by default, in the default stream and therefore is a blocking operation with regard to other CUDA operations occurring on the GPU. The `cudaMemcpyAsync` function, however, takes as an optional 5th argument, a non-default stream. By passing it a non-default stream, the memory transfer can be concurrent to other CUDA operations occurring in other non-default streams.\n",
    "\n",
    "A common and useful pattern is to use a combination of pinned host memory, asynchronous memory copies in non-default streams, and kernel executions in non-default streams, to overlap memory transfers with kernel execution.\n",
    "\n",
    "In the following example, rather than wait for the entire memory copy to complete before beginning work on the kernel, segments of the required data are copied and worked on, with each copy/work segment running in its own non-default stream. Using this technique, work on parts of the data can begin while memory transfers for later segments occur concurrently. Extra care must be taken when using this technique to calculate segment-specific values for the number of operations, and the offset location inside arrays, as shown here:\n",
    "\n",
    "```cpp\n",
    "int N = 2<<24;\n",
    "int size = N * sizeof(int);\n",
    "\n",
    "int *host_array;\n",
    "int *device_array;\n",
    "\n",
    "cudaMallocHost(&host_array, size);               // Pinned host memory allocation.\n",
    "cudaMalloc(&device_array, size);                 // Allocation directly on the active GPU device.\n",
    "\n",
    "initializeData(host_array, N);                   // Assume this application needs to initialize on the host.\n",
    "\n",
    "const int numberOfSegments = 4;                  // This example demonstrates slicing the work into 4 segments.\n",
    "int segmentN = N / numberOfSegments;             // A value for a segment's worth of `N` is needed.\n",
    "size_t segmentSize = size / numberOfSegments;    // A value for a segment's worth of `size` is needed.\n",
    "\n",
    "// For each of the 4 segments...\n",
    "for (int i = 0; i < numberOfSegments; ++i)\n",
    "{\n",
    "  // Calculate the index where this particular segment should operate within the larger arrays.\n",
    "  segmentOffset = i * segmentN;\n",
    "\n",
    "  // Create a stream for this segment's worth of copy and work.\n",
    "  cudaStream_t stream;\n",
    "  cudaStreamCreate(&stream);\n",
    "  \n",
    "  // Asynchronously copy segment's worth of pinned host memory to device over non-default stream.\n",
    "  cudaMemcpyAsync(&device_array[segmentOffset],  // Take care to access correct location in array.\n",
    "                  &host_array[segmentOffset],    // Take care to access correct location in array.\n",
    "                  segmentSize,                   // Only copy a segment's worth of memory.\n",
    "                  cudaMemcpyHostToDevice,\n",
    "                  stream);                       // Provide optional argument for non-default stream.\n",
    "                  \n",
    "  // Execute segment's worth of work over same non-default stream as memory copy.\n",
    "  kernel<<<number_of_blocks, threads_per_block, 0, stream>>>(&device_array[segmentOffset], segmentN);\n",
    "  \n",
    "  // `cudaStreamDestroy` will return immediately (is non-blocking), but will not actually destroy stream until\n",
    "  // all stream operations are complete.\n",
    "  cudaStreamDestroy(stream);\n",
    "}\n",
    "```"
   ]
  },
  {
   "cell_type": "markdown",
   "metadata": {},
   "source": [
    "### Exercise: Overlap Kernel Execution and Memory Copy Back to Host\n",
    "\n",
    "The most recent iteration of the vector addition application, [01-manual-malloc-solution.cu](../edit/07-manual-malloc/solutions/01-manual-malloc-solution.cu), is currently performing all of its vector addition work on the GPU before copying the memory back to the host for verification.\n",
    "\n",
    "Refactor [01-manual-malloc-solution.cu](../edit/07-manual-malloc/solutions/01-manual-malloc-solution.cu) to perform the vector addition in 4 segments, in non-default streams, so that asynchronous memory copies can begin before waiting for all vector addition work to complete. Refer to [the solution](../edit/08-overlap-xfer/solutions/01-overlap-xfer-solution.cu) if you get stuck."
   ]
  },
  {
   "cell_type": "code",
   "execution_count": null,
   "metadata": {},
   "outputs": [],
   "source": [
    "#!nvcc -o vector-add-manual-alloc 07-manual-malloc/solutions/01-manual-malloc-solution.cu -run\n",
    "!nvcc -o vector-add-manual-alloc 08-overlap-xfer/solutions/01-overlap-xfer-solution.cu -run"
   ]
  },
  {
   "cell_type": "markdown",
   "metadata": {},
   "source": [
    "After completing the refactor, open a report in Nsight Systems, and use the timeline to do the following:\n",
    "\n",
    "- Note when the device to host memory transfers begin, is it before or after all kernel work has completed?\n",
    "- Notice that the 4 memory copy segments themselves do not overlap. Even in separate non-default streams, only one memory transfer in a given direction (DtoH here) at a time can occur simultaneously. The performance gains here are in the ability to start the transfers earlier than otherwise, and it is not hard to imagine in an application where a less trivial amount of work was being done compared to a simple addition operation, that the memory copies would not only start earlier, but also overlap with kernel execution."
   ]
  }
 ],
 "metadata": {
  "kernelspec": {
   "display_name": "Python 3 (ipykernel)",
   "language": "python",
   "name": "python3"
  },
  "language_info": {
   "codemirror_mode": {
    "name": "ipython",
    "version": 3
   },
   "file_extension": ".py",
   "mimetype": "text/x-python",
   "name": "python",
   "nbconvert_exporter": "python",
   "pygments_lexer": "ipython3",
   "version": "3.10.4"
  }
 },
 "nbformat": 4,
 "nbformat_minor": 4
}
