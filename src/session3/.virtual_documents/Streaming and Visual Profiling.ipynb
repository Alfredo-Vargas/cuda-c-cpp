get_ipython().getoutput("nvcc -o vector-add-no-prefetch 01-vector-add/01-vector-add.cu -run")


get_ipython().getoutput("nsys profile --stats=true -o vector-add-no-prefetch-report ./vector-add-no-prefetch")


# Only when running from the cloud to access through vnc to nsys-ui
#%%js
#var port = ((window.location.port == 80) ? "" : (":"+window.location.port));
#var url = 'http://' + window.location.hostname + port + '/nsight/vnc.html?resize=scale';
#let a = document.createElement('a');
#a.setAttribute('href', url)
#a.setAttribute('target', '_blank')
#a.innerText = 'Click to open remote desktop'
#element.append(a);


get_ipython().getoutput("nvcc -o vector-add-prefetch 01-vector-add/solutions/01-vector-add-prefetch-solution.cu -run")


get_ipython().getoutput("nsys profile --stats=true -o vector-add-prefetch-report ./vector-add-prefetch")


get_ipython().getoutput("nvcc -o init-kernel 02-init-kernel/solutions/01-init-kernel-solution.cu -run")


get_ipython().getoutput("nsys profile --stats=true -o init-kernel-report ./init-kernel")


get_ipython().getoutput("nvcc -o prefetch-to-host 04-prefetch-check/solutions/01-prefetch-check-solution.cu -run")


get_ipython().getoutput("nsys profile --stats=true -o prefetch-to-host-report ./prefetch-to-host")


get_ipython().run_cell_magic("HTML", "", """
<div align="center"><iframe src="https://view.officeapps.live.com/op/view.aspx?src=https://developer.download.nvidia.com/training/courses/C-AC-01-V1/embedded/task3/NVVP-Streams-1.pptx" width="800px" height="500px" frameborder="0"></iframe></div>""")


get_ipython().getoutput("nvcc -o print-numbers 05-stream-intro/01-print-numbers.cu -run")


get_ipython().getoutput("nsys profile --stats=true -o print-numbers-report ./print-numbers")


get_ipython().getoutput("nvcc -o print-numbers-in-streams 05-stream-intro/01-print-numbers.cu -run")


get_ipython().getoutput("nsys profile --stats=true -o print-numbers-in-streams-report print-numbers-in-streams")


get_ipython().getoutput("nvcc -o init-in-streams 04-prefetch-check/solutions/01-prefetch-check-solution.cu -run")


get_ipython().getoutput("nsys profile --stats=true -o init-in-streams-report ./init-in-streams")


get_ipython().getoutput("nvcc -std=c++11 -o nbody 09-nbody/01-nbody.cu -run")


get_ipython().getoutput("nsys profile --stats=true --force-overwrite=true -o nb-stream ./nbody")


from assessment import run_assessment


run_assessment()


#!nvcc -o vector-add-manual-alloc 06-stream-init/solutions/01-stream-init-manual-solution.cu -run
get_ipython().getoutput("nvcc -o vector-add-manual-alloc 07-manual-malloc/solutions/my_solution.cu -run")


get_ipython().run_cell_magic("HTML", "", """
<div align="center"><iframe src="https://view.officeapps.live.com/op/view.aspx?src=https://developer.download.nvidia.com/training/courses/C-AC-01-V1/embedded/task3/NVVP-Streams-3.pptx" width="800px" height="500px" frameborder="0"></iframe></div>""")


#!nvcc -o vector-add-manual-alloc 07-manual-malloc/solutions/01-manual-malloc-solution.cu -run
get_ipython().getoutput("nvcc -o vector-add-manual-alloc 08-overlap-xfer/solutions/01-overlap-xfer-solution.cu -run")



